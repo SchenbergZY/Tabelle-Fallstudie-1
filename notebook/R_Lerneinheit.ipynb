{
 "cells": [
  {
   "cell_type": "markdown",
   "id": "6d1db875-21bb-4e1c-be8e-0cc4f1ed24a6",
   "metadata": {},
   "source": [
    "# Lerneinheit R - Arbeiten mit CSV-Dateien\n",
    "\n",
    "## 1 Vorwort \n",
    "\n",
    "Die folgende Lerneinheit soll Ihnen den Ersteinstieg in die Computersprache **R** erleichtern.\\\n",
    "Als Fallbeispiel wird eine CSV-Datei mit Rohdaten zum *Personalstand an Hochschulen* eingelesen und ausgewertet.\\\n",
    "Um die CSV-Datei herunterzuladen, klicken Sie bitte [hier](https://www-genesis.destatis.de/genesis//online?operation=table&code=21341-0001&bypass=true&levelindex=0&levelid=1706718181851) (Quelle: Statistisches Bundesamt 2022).\n",
    "\n",
    "### Installieren von R und R-Studio \n",
    "\n",
    "Um der Übungseinheit effektiv folgen zu können, installieren Sie bitte vorab die Computersprache **R**. Zudem benötigen Sie eine geeignete Entwicklungsumgebung. Hierfür bietet sich **R-Studio** an.\\\n",
    "Zur Installation der Computersprache **R** und **R-Studio** geht es [hier](https://posit.co/download/rstudio-desktop/)."
   ]
  },
  {
   "cell_type": "markdown",
   "id": "d9a7eba1-d60a-4e37-86e1-d035402cf2c7",
   "metadata": {},
   "source": [
    "***\n",
    "## 2 Erste Schritte in R-Studio \n",
    "\n",
    "**Neues R Skript anlegen**\n",
    "1. Öffnen Sie R-Studio.\n",
    "2. Ein neues Skript, in dem Sie Befehle eingeben können, öffnen Sie unter *Files*:\n",
    "\n",
    "->Bild einfügen\n",
    "\n",
    "\n",
    "**Interface von R-Studio:**\n",
    "\n",
    "->Bild einfügen\n",
    "\n",
    "**R Skript:** \\\n",
    "Im R Skript werden die Befehle eingegeben, welche **R** ausführen soll. Um einen eingegebenen Befehl auszuführen, drücken Sie entweder `Strg + Enter` oder Sie drücken mit der Maus auf den *Run-Button* in der oberen rechten Ecke des Fensters. Ein Befehl ist z.B. `1+1`. Das Skript und dessen Befehle können abgespeichert werden und zu einem späteren Zeitpunkt erneut geöffnet werden.\n",
    "\n",
    "**Console:** \\\n",
    "In der Console werden die Ergebnisse der Befehle angezeigt. Wenn Sie im Skript `1+1` eingegeben und ausgeführt haben, erscheint in der Console das Ergebnis `2`. Sie können auch Befehle direkt in der Console ausführen, diese werden dann jedoch nicht gespeichert.\n",
    "\n",
    "**Environment:**\n",
    "In der Environment werden geladene Dateien und Datensätze angezeigt. Zudem sind hier selbst erstellte Listen etc. vorzufinden.\n",
    "\n",
    "**Files, Plots, Packages, etc.:**\n",
    "In diesem Fenster werden verschiedene Funktionen angeboten. Über die Fensterkachel **Files** können Sie Dateien anzeigen lassen und Importieren *(Dazu mehr im Abschnitt **Einlesen von CSV Dateien**)*.\n",
    "Die Fensterkachel **PLOTS** zeigt Ihnen erstellte Grafiken an.\n",
    "Die Fensterkachel **Packages** zeigt Ihnen alle installierten R-Packages auf Ihrem Rechner an. Ein Package ist eine Ansammlung von **R**-Befehlen. Manche Befehle können Sie nur ausführen, wenn Sie das dazugehörige Package durch den Befehl `install.packages(\"*Packagename*\")` installiert und durch den Befehlt `library(*Packagename*)`geladen haben *(Dazu mehr im folgenden Abschnitt **Einleitung**)*."
   ]
  },
  {
   "cell_type": "markdown",
   "id": "5c0edd2b",
   "metadata": {},
   "source": [
    "***\n",
    "## 3 Einleitung \n",
    "\n",
    "> Für Computersprachen gilt allgemein: Es gibt nie nur einen Weg zum Ziel. Unterschiedliche Befehle können Sie zum gleichen Ziel bringen. Dieses gilt auch für die folgenden angeführten Befehle!\n",
    "\n",
    "Damit Sie die in diesem Skript angeführten Befehle verwenden können, müssen Sie das folgende Package installieren und laden:"
   ]
  },
  {
   "cell_type": "code",
   "execution_count": 1,
   "id": "309596ad",
   "metadata": {
    "eval": false
   },
   "outputs": [
    {
     "name": "stderr",
     "output_type": "stream",
     "text": [
      "also installing the dependencies ‘rematch’, ‘backports’, ‘gargle’, ‘cellranger’, ‘ids’, ‘vroom’, ‘progress’, ‘selectr’, ‘broom’, ‘conflicted’, ‘dbplyr’, ‘dtplyr’, ‘forcats’, ‘googledrive’, ‘googlesheets4’, ‘haven’, ‘hms’, ‘modelr’, ‘readr’, ‘readxl’, ‘reprex’, ‘rvest’\n",
      "\n",
      "\n",
      "Updating HTML index of packages in '.Library'\n",
      "\n",
      "Making 'packages.html' ...\n",
      " done\n",
      "\n"
     ]
    }
   ],
   "source": [
    "install.packages(\"tidyverse\")\n",
    "#install.packages(\"tidyverse\", repos='http://cran.us.r-project.org')"
   ]
  },
  {
   "cell_type": "code",
   "execution_count": 2,
   "id": "bfcb58b8",
   "metadata": {
    "lines_to_next_cell": 2,
    "message": false
   },
   "outputs": [
    {
     "name": "stderr",
     "output_type": "stream",
     "text": [
      "── \u001b[1mAttaching core tidyverse packages\u001b[22m ──────────────────────── tidyverse 2.0.0 ──\n",
      "\u001b[32m✔\u001b[39m \u001b[34mdplyr    \u001b[39m 1.1.4     \u001b[32m✔\u001b[39m \u001b[34mreadr    \u001b[39m 2.1.5\n",
      "\u001b[32m✔\u001b[39m \u001b[34mforcats  \u001b[39m 1.0.0     \u001b[32m✔\u001b[39m \u001b[34mstringr  \u001b[39m 1.5.1\n",
      "\u001b[32m✔\u001b[39m \u001b[34mggplot2  \u001b[39m 3.5.1     \u001b[32m✔\u001b[39m \u001b[34mtibble   \u001b[39m 3.2.1\n",
      "\u001b[32m✔\u001b[39m \u001b[34mlubridate\u001b[39m 1.9.3     \u001b[32m✔\u001b[39m \u001b[34mtidyr    \u001b[39m 1.3.1\n",
      "\u001b[32m✔\u001b[39m \u001b[34mpurrr    \u001b[39m 1.0.2     \n",
      "── \u001b[1mConflicts\u001b[22m ────────────────────────────────────────── tidyverse_conflicts() ──\n",
      "\u001b[31m✖\u001b[39m \u001b[34mdplyr\u001b[39m::\u001b[32mfilter()\u001b[39m masks \u001b[34mstats\u001b[39m::filter()\n",
      "\u001b[31m✖\u001b[39m \u001b[34mdplyr\u001b[39m::\u001b[32mlag()\u001b[39m    masks \u001b[34mstats\u001b[39m::lag()\n",
      "\u001b[36mℹ\u001b[39m Use the conflicted package (\u001b[3m\u001b[34m<http://conflicted.r-lib.org/>\u001b[39m\u001b[23m) to force all conflicts to become errors\n"
     ]
    }
   ],
   "source": [
    "library(tidyverse)"
   ]
  },
  {
   "cell_type": "markdown",
   "id": "662a6b4f-1f5c-4675-859c-3fc147c36de5",
   "metadata": {
    "lines_to_next_cell": 0
   },
   "source": [
    "### Einlesen von CSV Dateien \n",
    "\n",
    "Hierfür gibt es zwei Befehle: `read.csv()` oder `read.csv2()`\n",
    "\n",
    "-   `read.csv()` wird verwendet, wenn die CSV Dateiwerte durch Kommata separiert werden.\n",
    "    \n",
    "-   `read.csv2()` wird verwendet, wenn die CSV Dateiwerte durch Semicola separiert werden."
   ]
  },
  {
   "cell_type": "markdown",
   "id": "f50f3ac6-a539-4e63-84bc-d78f85b55328",
   "metadata": {
    "lines_to_next_cell": 0
   },
   "source": [
    "**Fallbeispiel:**"
   ]
  },
  {
   "cell_type": "code",
   "execution_count": 4,
   "id": "127d1921",
   "metadata": {
    "lines_to_next_cell": 0
   },
   "outputs": [],
   "source": [
    "#Daten einlesen\n",
    "data_csv <- read.csv2(\"21341-0001_$F.csv\",header = FALSE)"
   ]
  },
  {
   "cell_type": "code",
   "execution_count": 5,
   "id": "53d1d610",
   "metadata": {},
   "outputs": [
    {
     "name": "stderr",
     "output_type": "stream",
     "text": [
      
     ]
    },
    {
     "data": {
      "text/html": [
       "<table class=\"dataframe\">\n",
       "<caption>A data.frame: 6 × 3</caption>\n",
       "<thead>\n",
       "\t<tr><th></th><th scope=col>V1</th><th scope=col>V2</th><th scope=col>V3</th></tr>\n",
       "\t<tr><th></th><th scope=col>&lt;chr&gt;</th><th scope=col>&lt;chr&gt;</th><th scope=col>&lt;chr&gt;</th></tr>\n",
       "</thead>\n",
       "<tbody>\n",
       "\t<tr><th scope=row>1</th><td>GENESIS-Tabelle: 21341-0001                                    </td><td></td><td></td></tr>\n",
       "\t<tr><th scope=row>2</th><td>Personal an Hochschulen: Deutschland, Jahre,                   </td><td></td><td></td></tr>\n",
       "\t<tr><th scope=row>3</th><td>Personalgruppen nach Besch�ftigungsverh�ltnis, Geschlecht</td><td></td><td></td></tr>\n",
       "\t<tr><th scope=row>4</th><td>Statistik des Hochschulpersonals                               </td><td></td><td></td></tr>\n",
       "\t<tr><th scope=row>5</th><td>Deutschland                                                    </td><td></td><td></td></tr>\n",
       "\t<tr><th scope=row>6</th><td>Personal an Hochschulen (Anzahl)                               </td><td></td><td></td></tr>\n",
       "</tbody>\n",
       "</table>\n"
      ],
      "text/plain": [
       "  V1                                                              V2 V3\n",
       "1 GENESIS-Tabelle: 21341-0001                                          \n",
       "2 Personal an Hochschulen: Deutschland, Jahre,                         \n",
       "3 Personalgruppen nach Besch\\xe4ftigungsverh\\xe4ltnis, Geschlecht      \n",
       "4 Statistik des Hochschulpersonals                                     \n",
       "5 Deutschland                                                          \n",
       "6 Personal an Hochschulen (Anzahl)                                     "
      ]
     },
     "metadata": {},
     "output_type": "display_data"
    }
   ],
   "source": [
    "head(data_csv)"
   ]
  },
  {
   "cell_type": "markdown",
   "id": "53cf0de6",
   "metadata": {},
   "source": [
    "**Erklärung des Codes:**\n",
    "\n",
    "-   `#Daten einlesen`:\\\n",
    "    Durch das setzen eines `#` wird der folgende Inhalt in der Zeile nicht als Code interpretiert und somit auch nicht ausgeführt. Wenn Sie Textbausteine, Kommentare, Überschriften etc. in Ihrem **R-Skript** integrieren möchten, was für eine bessere Nachvollziehbarkeit Ihres Skriptes zu empfehlen ist, benutzen Sie immer das `#` -Symbol, um dies kenntlich zu machen. Ansonsten wird **R** einen Error ausgeben.\n",
    "\n",
    "-   `read.csv2()`:\\\n",
    "    Die verwendete Datei ist durch Semicola separiert. Deswegen wird hier `read.csv2()` verwendet.\\\n",
    "    \\- *Woraus ist dies ersichtlich? Durch Öffnen der Datei in der Console Ihres Rechners können Sie die verwendeten Trennzeichen erkennen.*\n",
    "        \n",
    "-   `\"21341-0001_$F.csv\"`:\\\n",
    "    Hier steht der Name der CSV-Datei, die geladen werden soll.\\\n",
    "    \\- *Bei Verwendung von R-Studio: Sie sollten unter *Files* den Ordner aufrufen, in dem Ihre Dateien gespeichert sind. Nach klicken auf die gewünschte Datei, können Sie die Option **Import Dataset...** nutzen.*\n",
    "\n",
    "-   `header = FALSE`:\\\n",
    "    Die CSV Datei hat keine Überschriften, daher muss hier der Zusatz hinzugefügt werden.\n",
    "    \n",
    "-   `data_csv <-`:\\\n",
    "    Damit Sie einen Befehl nicht immer wieder ausführen müssen, können Sie dem Befehl mittels eines Pfeils `<-` einem Namen zuordnen.\\\n",
    "    \\- *Hier: \"data_csv\". Nun können Sie in dem folgenden Skript nur noch den gesetzten Namen verwenden.*\n",
    "        \n",
    "\n",
    "***Alternative:*** *Falls die Datei nicht unter \"Files\" auffindbar ist, kann auch der Befehl `choose.files()` genutzt werden:*"
   ]
  },
  {
   "cell_type": "code",
   "execution_count": 6,
   "id": "6f6ff3f6",
   "metadata": {
    "eval": false
   },
   "outputs": [],
   "source": [
    "# data_csv <- read.csv2(choose.files(), header = FALSE) # not work in Binder"
   ]
  },
  {
   "cell_type": "markdown",
   "id": "0ccec150",
   "metadata": {
    "lines_to_next_cell": 0
   },
   "source": [
    "\n",
    "\n",
    "> **Tipp:** Wenn Sie die Bedeutung und Syntax eines Befehls besser verstehen wollen, empfielt es sich, diesen Befehl im Handbuch nachzuschlagen. Hierzu setzen Sie ein `?` vor den Befehl Ihres Interesses.\n",
    "\n",
    "*Beispiel:*"
   ]
  },
  {
   "cell_type": "code",
   "execution_count": 7,
   "id": "2ffa9012",
   "metadata": {
    "message": false
   },
   "outputs": [
    {
     "data": {
      "text/html": [
       "\n",
       "<table style=\"width: 100%;\"><tr><td>read.table {utils}</td><td style=\"text-align: right;\">R Documentation</td></tr></table>\n",
       "\n",
       "<h2 id='read.table'>Data Input</h2>\n",
       "\n",
       "<h3>Description</h3>\n",
       "\n",
       "<p>Reads a file in table format and creates a data frame from it, with\n",
       "cases corresponding to lines and variables to fields in the file.\n",
       "</p>\n",
       "\n",
       "\n",
       "<h3>Usage</h3>\n",
       "\n",
       "<pre><code class='language-R'>read.table(file, header = FALSE, sep = \"\", quote = \"\\\"'\",\n",
       "           dec = \".\", numerals = c(\"allow.loss\", \"warn.loss\", \"no.loss\"),\n",
       "           row.names, col.names, as.is = !stringsAsFactors, tryLogical = TRUE,\n",
       "           na.strings = \"NA\", colClasses = NA, nrows = -1,\n",
       "           skip = 0, check.names = TRUE, fill = !blank.lines.skip,\n",
       "           strip.white = FALSE, blank.lines.skip = TRUE,\n",
       "           comment.char = \"#\",\n",
       "           allowEscapes = FALSE, flush = FALSE,\n",
       "           stringsAsFactors = FALSE,\n",
       "           fileEncoding = \"\", encoding = \"unknown\", text, skipNul = FALSE)\n",
       "\n",
       "read.csv(file, header = TRUE, sep = \",\", quote = \"\\\"\",\n",
       "         dec = \".\", fill = TRUE, comment.char = \"\", ...)\n",
       "\n",
       "read.csv2(file, header = TRUE, sep = \";\", quote = \"\\\"\",\n",
       "          dec = \",\", fill = TRUE, comment.char = \"\", ...)\n",
       "\n",
       "read.delim(file, header = TRUE, sep = \"\\t\", quote = \"\\\"\",\n",
       "           dec = \".\", fill = TRUE, comment.char = \"\", ...)\n",
       "\n",
       "read.delim2(file, header = TRUE, sep = \"\\t\", quote = \"\\\"\",\n",
       "            dec = \",\", fill = TRUE, comment.char = \"\", ...)\n",
       "</code></pre>\n",
       "\n",
       "\n",
       "<h3>Arguments</h3>\n",
       "\n",
       "<table>\n",
       "<tr><td><code id=\"read.table_:_file\">file</code></td>\n",
       "<td>\n",
       "<p>the name of the file which the data are to be read from.\n",
       "Each row of the table appears as one line of the file.  If it does\n",
       "not contain an <em>absolute</em> path, the file name is\n",
       "<em>relative</em> to the current working directory,\n",
       "<code>getwd()</code>. Tilde-expansion is performed where supported.\n",
       "This can be a compressed file (see <code>file</code>).\n",
       "</p>\n",
       "<p>Alternatively, <code>file</code> can be a readable text-mode\n",
       "connection (which will be opened for reading if\n",
       "necessary, and if so <code>close</code>d (and hence destroyed) at\n",
       "the end of the function call).  (If <code>stdin()</code> is used,\n",
       "the prompts for lines may be somewhat confusing.  Terminate input\n",
       "with a blank line or an EOF signal, <code>Ctrl-D</code> on Unix and\n",
       "<code>Ctrl-Z</code> on Windows.  Any pushback on <code>stdin()</code> will be\n",
       "cleared before return.)\n",
       "</p>\n",
       "<p><code>file</code> can also be a complete URL.  (For the supported URL\n",
       "schemes, see the &lsquo;URLs&rsquo; section of the help for\n",
       "<code>url</code>.)\n",
       "</p>\n",
       "</td></tr>\n",
       "<tr><td><code id=\"read.table_:_header\">header</code></td>\n",
       "<td>\n",
       "<p>a logical value indicating whether the file contains the\n",
       "names of the variables as its first line.  If missing, the value is\n",
       "determined from the file format: <code>header</code> is set to <code>TRUE</code>\n",
       "if and only if the first row contains one fewer field than the\n",
       "number of columns.</p>\n",
       "</td></tr>\n",
       "<tr><td><code id=\"read.table_:_sep\">sep</code></td>\n",
       "<td>\n",
       "<p>the field separator character.  Values on each line of the\n",
       "file are separated by this character.  If <code>sep = \"\"</code> (the\n",
       "default for <code>read.table</code>) the separator is &lsquo;white space&rsquo;,\n",
       "that is one or more spaces, tabs, newlines or carriage returns.</p>\n",
       "</td></tr>\n",
       "<tr><td><code id=\"read.table_:_quote\">quote</code></td>\n",
       "<td>\n",
       "<p>the set of quoting characters. To disable quoting\n",
       "altogether, use <code>quote = \"\"</code>.  See <code>scan</code> for the\n",
       "behaviour on quotes embedded in quotes.  Quoting is only considered\n",
       "for columns read as character, which is all of them unless\n",
       "<code>colClasses</code> is specified.</p>\n",
       "</td></tr>\n",
       "<tr><td><code id=\"read.table_:_dec\">dec</code></td>\n",
       "<td>\n",
       "<p>the character used in the file for decimal points.</p>\n",
       "</td></tr>\n",
       "<tr><td><code id=\"read.table_:_numerals\">numerals</code></td>\n",
       "<td>\n",
       "<p>string indicating how to convert numbers whose conversion\n",
       "to double precision would lose accuracy, see <code>type.convert</code>.\n",
       "Can be abbreviated.  (Applies also to complex-number inputs.)</p>\n",
       "</td></tr>\n",
       "<tr><td><code id=\"read.table_:_row.names\">row.names</code></td>\n",
       "<td>\n",
       "<p>a vector of row names.  This can be a vector giving\n",
       "the actual row names, or a single number giving the column of the\n",
       "table which contains the row names, or character string giving the\n",
       "name of the table column containing the row names.\n",
       "</p>\n",
       "<p>If there is a header and the first row contains one fewer field than\n",
       "the number of columns, the first column in the input is used for the\n",
       "row names.  Otherwise if <code>row.names</code> is missing, the rows are\n",
       "numbered.\n",
       "</p>\n",
       "<p>Using <code>row.names = NULL</code> forces row numbering. Missing or\n",
       "<code>NULL</code> <code>row.names</code> generate row names that are considered\n",
       "to be &lsquo;automatic&rsquo; (and not preserved by <code>as.matrix</code>).\n",
       "</p>\n",
       "</td></tr>\n",
       "<tr><td><code id=\"read.table_:_col.names\">col.names</code></td>\n",
       "<td>\n",
       "<p>a vector of optional names for the variables.\n",
       "The default is to use <code>\"V\"</code> followed by the column number.</p>\n",
       "</td></tr>\n",
       "<tr><td><code id=\"read.table_:_as.is\">as.is</code></td>\n",
       "<td>\n",
       "<p>controls conversion of character variables (insofar as\n",
       "they are not converted to logical, numeric or complex) to factors,\n",
       "if not otherwise specified by <code>colClasses</code>.\n",
       "Its value is either a vector of logicals (values are recycled if\n",
       "necessary), or a vector of numeric or character indices which\n",
       "specify which columns should not be converted to factors.\n",
       "</p>\n",
       "<p>Note: to suppress all conversions including those of numeric\n",
       "columns, set <code>colClasses = \"character\"</code>.\n",
       "</p>\n",
       "<p>Note that <code>as.is</code> is specified per column (not per\n",
       "variable) and so includes the column of row names (if any) and any\n",
       "columns to be skipped.\n",
       "</p>\n",
       "</td></tr>\n",
       "<tr><td><code id=\"read.table_:_tryLogical\">tryLogical</code></td>\n",
       "<td>\n",
       "<p>a <code>logical</code> determining if columns\n",
       "consisting entirely of <code>\"F\"</code>, <code>\"T\"</code>, <code>\"FALSE\"</code>, and\n",
       "<code>\"TRUE\"</code> should be converted to <code>logical</code>; passed to\n",
       "<code>type.convert</code>, true by default.</p>\n",
       "</td></tr>\n",
       "<tr><td><code id=\"read.table_:_na.strings\">na.strings</code></td>\n",
       "<td>\n",
       "<p>a character vector of strings which are to be\n",
       "interpreted as <code>NA</code> values.  Blank fields are also\n",
       "considered to be missing values in logical, integer, numeric and\n",
       "complex fields.  Note that the test happens <em>after</em>\n",
       "white space is stripped from the input, so <code>na.strings</code>\n",
       "values may need their own white space stripped in advance.</p>\n",
       "</td></tr>\n",
       "<tr><td><code id=\"read.table_:_colClasses\">colClasses</code></td>\n",
       "<td>\n",
       "<p>character.  A vector of classes to be assumed for\n",
       "the columns.  If unnamed, recycled as necessary.  If named, names\n",
       "are matched with unspecified values being taken to be <code>NA</code>.\n",
       "</p>\n",
       "<p>Possible values are <code>NA</code> (the default, when\n",
       "<code>type.convert</code> is used), <code>\"NULL\"</code> (when the column\n",
       "is skipped), one of the atomic vector classes (logical, integer,\n",
       "numeric, complex, character, raw), or <code>\"factor\"</code>, <code>\"Date\"</code>\n",
       "or <code>\"POSIXct\"</code>.  Otherwise there needs to be an <code>as</code>\n",
       "method (from package <span class=\"pkg\">methods</span>) for conversion from\n",
       "<code>\"character\"</code> to the specified formal class.\n",
       "</p>\n",
       "<p>Note that <code>colClasses</code> is specified per column (not per\n",
       "variable) and so includes the column of row names (if any).\n",
       "</p>\n",
       "</td></tr>\n",
       "<tr><td><code id=\"read.table_:_nrows\">nrows</code></td>\n",
       "<td>\n",
       "<p>integer: the maximum number of rows to read in.  Negative\n",
       "and other invalid values are ignored.</p>\n",
       "</td></tr>\n",
       "<tr><td><code id=\"read.table_:_skip\">skip</code></td>\n",
       "<td>\n",
       "<p>integer: the number of lines of the data file to skip before\n",
       "beginning to read data.</p>\n",
       "</td></tr>\n",
       "<tr><td><code id=\"read.table_:_check.names\">check.names</code></td>\n",
       "<td>\n",
       "<p>logical.  If <code>TRUE</code> then the names of the\n",
       "variables in the data frame are checked to ensure that they are\n",
       "syntactically valid variable names.  If necessary they are adjusted\n",
       "(by <code>make.names</code>) so that they are, and also to ensure\n",
       "that there are no duplicates.</p>\n",
       "</td></tr>\n",
       "<tr><td><code id=\"read.table_:_fill\">fill</code></td>\n",
       "<td>\n",
       "<p>logical. If <code>TRUE</code> then in case the rows have unequal\n",
       "length, blank fields are implicitly added.  See &lsquo;Details&rsquo;.</p>\n",
       "</td></tr>\n",
       "<tr><td><code id=\"read.table_:_strip.white\">strip.white</code></td>\n",
       "<td>\n",
       "<p>logical. Used only when <code>sep</code> has\n",
       "been specified, and allows the stripping of leading and trailing\n",
       "white space from unquoted <code>character</code> fields (<code>numeric</code> fields\n",
       "are always stripped).  See <code>scan</code> for further details\n",
       "(including the exact meaning of &lsquo;white space&rsquo;),\n",
       "remembering that the columns may include the row names.</p>\n",
       "</td></tr>\n",
       "<tr><td><code id=\"read.table_:_blank.lines.skip\">blank.lines.skip</code></td>\n",
       "<td>\n",
       "<p>logical: if <code>TRUE</code> blank lines in the\n",
       "input are ignored.</p>\n",
       "</td></tr>\n",
       "<tr><td><code id=\"read.table_:_comment.char\">comment.char</code></td>\n",
       "<td>\n",
       "<p>character: a character vector of length one\n",
       "containing a single character or an empty string.  Use <code>\"\"</code> to\n",
       "turn off the interpretation of comments altogether.</p>\n",
       "</td></tr>\n",
       "<tr><td><code id=\"read.table_:_allowEscapes\">allowEscapes</code></td>\n",
       "<td>\n",
       "<p>logical.  Should C-style escapes such as\n",
       "&lsquo;<span class=\"samp\">&#8288;\\n&#8288;</span>&rsquo; be processed or read verbatim (the default)?   Note that if\n",
       "not within quotes these could be interpreted as a delimiter (but not\n",
       "as a comment character).  For more details see <code>scan</code>.</p>\n",
       "</td></tr>\n",
       "<tr><td><code id=\"read.table_:_flush\">flush</code></td>\n",
       "<td>\n",
       "<p>logical: if <code>TRUE</code>, <code>scan</code> will flush to the\n",
       "end of the line after reading the last of the fields requested.\n",
       "This allows putting comments after the last field.</p>\n",
       "</td></tr>\n",
       "<tr><td><code id=\"read.table_:_stringsAsFactors\">stringsAsFactors</code></td>\n",
       "<td>\n",
       "<p>logical: should character vectors be converted\n",
       "to factors?  Note that this is overridden by <code>as.is</code> and\n",
       "<code>colClasses</code>, both of which allow finer control.</p>\n",
       "</td></tr>\n",
       "<tr><td><code id=\"read.table_:_fileEncoding\">fileEncoding</code></td>\n",
       "<td>\n",
       "<p>character string: if non-empty declares the\n",
       "encoding used on a file (not a connection) so the character data can\n",
       "be re-encoded.  See the &lsquo;Encoding&rsquo; section of the help for\n",
       "<code>file</code>, the &lsquo;R Data Import/Export&rsquo; manual and\n",
       "&lsquo;Note&rsquo;.\n",
       "</p>\n",
       "</td></tr>\n",
       "<tr><td><code id=\"read.table_:_encoding\">encoding</code></td>\n",
       "<td>\n",
       "<p>encoding to be assumed for input strings.  It is\n",
       "used to mark character strings as known to be in\n",
       "Latin-1 or UTF-8 (see <code>Encoding</code>): it is not used to\n",
       "re-encode the input, but allows <span class=\"rlang\"><b>R</b></span> to handle encoded strings in\n",
       "their native encoding (if one of those two).  See &lsquo;Value&rsquo;\n",
       "and &lsquo;Note&rsquo;.\n",
       "</p>\n",
       "</td></tr>\n",
       "<tr><td><code id=\"read.table_:_text\">text</code></td>\n",
       "<td>\n",
       "<p>character string: if <code>file</code> is not supplied and this is,\n",
       "then data are read from the value of <code>text</code> via a text connection.\n",
       "Notice that a literal string can be used to include (small) data sets\n",
       "within R code.\n",
       "</p>\n",
       "</td></tr>\n",
       "<tr><td><code id=\"read.table_:_skipNul\">skipNul</code></td>\n",
       "<td>\n",
       "<p>logical: should nuls be skipped?</p>\n",
       "</td></tr>\n",
       "<tr><td><code id=\"read.table_:_...\">...</code></td>\n",
       "<td>\n",
       "<p>Further arguments to be passed to <code>read.table</code>.</p>\n",
       "</td></tr>\n",
       "</table>\n",
       "\n",
       "\n",
       "<h3>Details</h3>\n",
       "\n",
       "<p>This function is the principal means of reading tabular data into <span class=\"rlang\"><b>R</b></span>.\n",
       "</p>\n",
       "<p>Unless <code>colClasses</code> is specified, all columns are read as\n",
       "character columns and then converted using <code>type.convert</code>\n",
       "to logical, integer, numeric, complex or (depending on <code>as.is</code>)\n",
       "factor as appropriate.  Quotes are (by default) interpreted in all\n",
       "fields, so a column of values like <code>\"42\"</code> will result in an\n",
       "integer column.\n",
       "</p>\n",
       "<p>A field or line is &lsquo;blank&rsquo; if it contains nothing (except\n",
       "whitespace if no separator is specified) before a comment character or\n",
       "the end of the field or line.\n",
       "</p>\n",
       "<p>If <code>row.names</code> is not specified and the header line has one less\n",
       "entry than the number of columns, the first column is taken to be the\n",
       "row names.  This allows data frames to be read in from the format in\n",
       "which they are printed.  If <code>row.names</code> is specified and does\n",
       "not refer to the first column, that column is discarded from such files.\n",
       "</p>\n",
       "<p>The number of data columns is determined by looking at the first five\n",
       "lines of input (or the whole input if it has less than five lines), or\n",
       "from the length of <code>col.names</code> if it is specified and is longer.\n",
       "This could conceivably be wrong if <code>fill</code> or\n",
       "<code>blank.lines.skip</code> are true, so specify <code>col.names</code> if\n",
       "necessary (as in the &lsquo;Examples&rsquo;).\n",
       "</p>\n",
       "<p><code>read.csv</code> and <code>read.csv2</code> are identical to\n",
       "<code>read.table</code> except for the defaults.  They are intended for\n",
       "reading &lsquo;comma separated value&rsquo; files (&lsquo;<span class=\"file\">.csv</span>&rsquo;) or\n",
       "(<code>read.csv2</code>) the variant used in countries that use a comma as\n",
       "decimal point and a semicolon as field separator.  Similarly,\n",
       "<code>read.delim</code> and <code>read.delim2</code> are for reading delimited\n",
       "files, defaulting to the TAB character for the delimiter.  Notice that\n",
       "<code>header = TRUE</code> and <code>fill = TRUE</code> in these variants, and\n",
       "that the comment character is disabled.\n",
       "</p>\n",
       "<p>The rest of the line after a comment character is skipped; quotes\n",
       "are not processed in comments.  Complete comment lines are allowed\n",
       "provided <code>blank.lines.skip = TRUE</code>; however, comment lines prior\n",
       "to the header must have the comment character in the first non-blank\n",
       "column.\n",
       "</p>\n",
       "<p>Quoted fields with embedded newlines are supported except after a\n",
       "comment character.  Embedded nuls are unsupported: skipping them (with\n",
       "<code>skipNul = TRUE</code>) may work.\n",
       "</p>\n",
       "\n",
       "\n",
       "<h3>Value</h3>\n",
       "\n",
       "<p>A data frame (<code>data.frame</code>) containing a representation of\n",
       "the data in the file.\n",
       "</p>\n",
       "<p>Empty input is an error unless <code>col.names</code> is specified, when a\n",
       "0-row data frame is returned: similarly giving just a header line if\n",
       "<code>header = TRUE</code> results in a 0-row data frame.  Note that in\n",
       "either case the columns will be logical unless <code>colClasses</code> was\n",
       "supplied.\n",
       "</p>\n",
       "<p>Character strings in the result (including factor levels) will have a\n",
       "declared encoding if <code>encoding</code> is <code>\"latin1\"</code> or\n",
       "<code>\"UTF-8\"</code>.\n",
       "</p>\n",
       "\n",
       "\n",
       "<h3>CSV files</h3>\n",
       "\n",
       "<p>See the help on <code>write.csv</code> for the various conventions\n",
       "for <code>.csv</code> files.  The commonest form of CSV file with row names\n",
       "needs to be read with <code>read.csv(..., row.names = 1)</code> to use the\n",
       "names in the first column of the file as row names.\n",
       "</p>\n",
       "\n",
       "\n",
       "<h3>Memory usage</h3>\n",
       "\n",
       "<p>These functions can use a surprising amount of memory when reading\n",
       "large files.  There is extensive discussion in the &lsquo;R Data\n",
       "Import/Export&rsquo; manual, supplementing the notes here.\n",
       "</p>\n",
       "<p>Less memory will be used if <code>colClasses</code> is specified as one of\n",
       "the six atomic vector classes.  This can be particularly so when\n",
       "reading a column that takes many distinct numeric values, as storing\n",
       "each distinct value as a character string can take up to 14 times as\n",
       "much memory as storing it as an integer.\n",
       "</p>\n",
       "<p>Using <code>nrows</code>, even as a mild over-estimate, will help memory\n",
       "usage.\n",
       "</p>\n",
       "<p>Using <code>comment.char = \"\"</code> will be appreciably faster than the\n",
       "<code>read.table</code> default.\n",
       "</p>\n",
       "<p><code>read.table</code> is not the right tool for reading large matrices,\n",
       "especially those with many columns: it is designed to read\n",
       "<em>data frames</em> which may have columns of very different classes.\n",
       "Use <code>scan</code> instead for matrices.\n",
       "</p>\n",
       "\n",
       "\n",
       "<h3>Note</h3>\n",
       "\n",
       "<p>The columns referred to in <code>as.is</code> and <code>colClasses</code> include\n",
       "the column of row names (if any).\n",
       "</p>\n",
       "<p>There are two approaches for reading input that is not in the local\n",
       "encoding.  If the input is known to be UTF-8 or Latin1, use the\n",
       "<code>encoding</code> argument to declare that.  If the input is in some\n",
       "other encoding, then it may be translated on input.  The <code>fileEncoding</code>\n",
       "argument achieves this by setting up a connection to do the re-encoding\n",
       "into the current locale.  Note that on Windows or other systems not running\n",
       "in a UTF-8 locale, this may not be possible.\n",
       "</p>\n",
       "\n",
       "\n",
       "<h3>References</h3>\n",
       "\n",
       "<p>Chambers, J. M. (1992)\n",
       "<em>Data for models.</em>\n",
       "Chapter 3 of <em>Statistical Models in S</em>\n",
       "eds J. M. Chambers and T. J. Hastie, Wadsworth &amp; Brooks/Cole.\n",
       "</p>\n",
       "\n",
       "\n",
       "<h3>See Also</h3>\n",
       "\n",
       "<p>The &lsquo;R Data Import/Export&rsquo; manual.\n",
       "</p>\n",
       "<p><code>scan</code>, <code>type.convert</code>,\n",
       "<code>read.fwf</code> for reading <em>f</em>ixed <em>w</em>idth\n",
       "<em>f</em>ormatted input;\n",
       "<code>write.table</code>;\n",
       "<code>data.frame</code>.\n",
       "</p>\n",
       "<p><code>count.fields</code> can be useful to determine problems with\n",
       "reading files which result in reports of incorrect record lengths (see\n",
       "the &lsquo;Examples&rsquo; below).\n",
       "</p>\n",
       "<p><a href=\"https://www.rfc-editor.org/rfc/rfc4180\">https://www.rfc-editor.org/rfc/rfc4180</a> for the IANA definition of\n",
       "CSV files (which requires comma as separator and CRLF line endings).\n",
       "</p>\n",
       "\n",
       "\n",
       "<h3>Examples</h3>\n",
       "\n",
       "<pre><code class='language-R'>## using count.fields to handle unknown maximum number of fields\n",
       "## when fill = TRUE\n",
       "test1 &lt;- c(1:5, \"6,7\", \"8,9,10\")\n",
       "tf &lt;- tempfile()\n",
       "writeLines(test1, tf)\n",
       "\n",
       "read.csv(tf, fill = TRUE) # 1 column\n",
       "ncol &lt;- max(count.fields(tf, sep = \",\"))\n",
       "read.csv(tf, fill = TRUE, header = FALSE,\n",
       "         col.names = paste0(\"V\", seq_len(ncol)))\n",
       "unlink(tf)\n",
       "\n",
       "## \"Inline\" data set, using text=\n",
       "## Notice that leading and trailing empty lines are auto-trimmed\n",
       "\n",
       "read.table(header = TRUE, text = \"\n",
       "a b\n",
       "1 2\n",
       "3 4\n",
       "\")\n",
       "</code></pre>\n",
       "\n",
       "<hr /><div style=\"text-align: center;\">[Package <em>utils</em> version 4.3.3 ]</div>\n",
       "</div>"
      ],
      "text/latex": [
       "\\inputencoding{utf8}\n",
       "\\HeaderA{read.table}{Data Input}{read.table}\n",
       "\\aliasA{read.csv}{read.table}{read.csv}\n",
       "\\aliasA{read.csv2}{read.table}{read.csv2}\n",
       "\\aliasA{read.delim}{read.table}{read.delim}\n",
       "\\aliasA{read.delim2}{read.table}{read.delim2}\n",
       "\\keyword{file}{read.table}\n",
       "\\keyword{connection}{read.table}\n",
       "%\n",
       "\\begin{Description}\n",
       "Reads a file in table format and creates a data frame from it, with\n",
       "cases corresponding to lines and variables to fields in the file.\n",
       "\\end{Description}\n",
       "%\n",
       "\\begin{Usage}\n",
       "\\begin{verbatim}\n",
       "read.table(file, header = FALSE, sep = \"\", quote = \"\\\"'\",\n",
       "           dec = \".\", numerals = c(\"allow.loss\", \"warn.loss\", \"no.loss\"),\n",
       "           row.names, col.names, as.is = !stringsAsFactors, tryLogical = TRUE,\n",
       "           na.strings = \"NA\", colClasses = NA, nrows = -1,\n",
       "           skip = 0, check.names = TRUE, fill = !blank.lines.skip,\n",
       "           strip.white = FALSE, blank.lines.skip = TRUE,\n",
       "           comment.char = \"#\",\n",
       "           allowEscapes = FALSE, flush = FALSE,\n",
       "           stringsAsFactors = FALSE,\n",
       "           fileEncoding = \"\", encoding = \"unknown\", text, skipNul = FALSE)\n",
       "\n",
       "read.csv(file, header = TRUE, sep = \",\", quote = \"\\\"\",\n",
       "         dec = \".\", fill = TRUE, comment.char = \"\", ...)\n",
       "\n",
       "read.csv2(file, header = TRUE, sep = \";\", quote = \"\\\"\",\n",
       "          dec = \",\", fill = TRUE, comment.char = \"\", ...)\n",
       "\n",
       "read.delim(file, header = TRUE, sep = \"\\t\", quote = \"\\\"\",\n",
       "           dec = \".\", fill = TRUE, comment.char = \"\", ...)\n",
       "\n",
       "read.delim2(file, header = TRUE, sep = \"\\t\", quote = \"\\\"\",\n",
       "            dec = \",\", fill = TRUE, comment.char = \"\", ...)\n",
       "\\end{verbatim}\n",
       "\\end{Usage}\n",
       "%\n",
       "\\begin{Arguments}\n",
       "\\begin{ldescription}\n",
       "\\item[\\code{file}] the name of the file which the data are to be read from.\n",
       "Each row of the table appears as one line of the file.  If it does\n",
       "not contain an \\emph{absolute} path, the file name is\n",
       "\\emph{relative} to the current working directory,\n",
       "\\code{\\LinkA{getwd}{getwd}()}. Tilde-expansion is performed where supported.\n",
       "This can be a compressed file (see \\code{\\LinkA{file}{file}}).\n",
       "\n",
       "Alternatively, \\code{file} can be a readable text-mode\n",
       "\\LinkA{connection}{connection} (which will be opened for reading if\n",
       "necessary, and if so \\code{\\LinkA{close}{close}}d (and hence destroyed) at\n",
       "the end of the function call).  (If \\code{\\LinkA{stdin}{stdin}()} is used,\n",
       "the prompts for lines may be somewhat confusing.  Terminate input\n",
       "with a blank line or an EOF signal, \\code{Ctrl-D} on Unix and\n",
       "\\code{Ctrl-Z} on Windows.  Any pushback on \\code{stdin()} will be\n",
       "cleared before return.)\n",
       "\n",
       "\\code{file} can also be a complete URL.  (For the supported URL\n",
       "schemes, see the `URLs' section of the help for\n",
       "\\code{\\LinkA{url}{url}}.)\n",
       "\n",
       "\n",
       "\\item[\\code{header}] a logical value indicating whether the file contains the\n",
       "names of the variables as its first line.  If missing, the value is\n",
       "determined from the file format: \\code{header} is set to \\code{TRUE}\n",
       "if and only if the first row contains one fewer field than the\n",
       "number of columns.\n",
       "\n",
       "\\item[\\code{sep}] the field separator character.  Values on each line of the\n",
       "file are separated by this character.  If \\code{sep = \"\"} (the\n",
       "default for \\code{read.table}) the separator is `white space',\n",
       "that is one or more spaces, tabs, newlines or carriage returns.\n",
       "\n",
       "\\item[\\code{quote}] the set of quoting characters. To disable quoting\n",
       "altogether, use \\code{quote = \"\"}.  See \\code{\\LinkA{scan}{scan}} for the\n",
       "behaviour on quotes embedded in quotes.  Quoting is only considered\n",
       "for columns read as character, which is all of them unless\n",
       "\\code{colClasses} is specified.\n",
       "\n",
       "\\item[\\code{dec}] the character used in the file for decimal points.\n",
       "\n",
       "\\item[\\code{numerals}] string indicating how to convert numbers whose conversion\n",
       "to double precision would lose accuracy, see \\code{\\LinkA{type.convert}{type.convert}}.\n",
       "Can be abbreviated.  (Applies also to complex-number inputs.)\n",
       "\n",
       "\\item[\\code{row.names}] a vector of row names.  This can be a vector giving\n",
       "the actual row names, or a single number giving the column of the\n",
       "table which contains the row names, or character string giving the\n",
       "name of the table column containing the row names.\n",
       "\n",
       "If there is a header and the first row contains one fewer field than\n",
       "the number of columns, the first column in the input is used for the\n",
       "row names.  Otherwise if \\code{row.names} is missing, the rows are\n",
       "numbered.\n",
       "\n",
       "Using \\code{row.names = NULL} forces row numbering. Missing or\n",
       "\\code{NULL} \\code{row.names} generate row names that are considered\n",
       "to be `automatic' (and not preserved by \\code{\\LinkA{as.matrix}{as.matrix}}).\n",
       "\n",
       "\n",
       "\\item[\\code{col.names}] a vector of optional names for the variables.\n",
       "The default is to use \\code{\"V\"} followed by the column number.\n",
       "\n",
       "\\item[\\code{as.is}] controls conversion of character variables (insofar as\n",
       "they are not converted to logical, numeric or complex) to factors,\n",
       "if not otherwise specified by \\code{colClasses}.\n",
       "Its value is either a vector of logicals (values are recycled if\n",
       "necessary), or a vector of numeric or character indices which\n",
       "specify which columns should not be converted to factors.\n",
       "\n",
       "Note: to suppress all conversions including those of numeric\n",
       "columns, set \\code{colClasses = \"character\"}.\n",
       "\n",
       "Note that \\code{as.is} is specified per column (not per\n",
       "variable) and so includes the column of row names (if any) and any\n",
       "columns to be skipped.\n",
       "\n",
       "\n",
       "\\item[\\code{tryLogical}] a \\code{\\LinkA{logical}{logical}} determining if columns\n",
       "consisting entirely of \\code{\"F\"}, \\code{\"T\"}, \\code{\"FALSE\"}, and\n",
       "\\code{\"TRUE\"} should be converted to \\code{\\LinkA{logical}{logical}}; passed to\n",
       "\\code{\\LinkA{type.convert}{type.convert}}, true by default.\n",
       "\n",
       "\\item[\\code{na.strings}] a character vector of strings which are to be\n",
       "interpreted as \\code{\\LinkA{NA}{NA}} values.  Blank fields are also\n",
       "considered to be missing values in logical, integer, numeric and\n",
       "complex fields.  Note that the test happens \\emph{after}\n",
       "white space is stripped from the input, so \\code{na.strings}\n",
       "values may need their own white space stripped in advance.\n",
       "\n",
       "\\item[\\code{colClasses}] character.  A vector of classes to be assumed for\n",
       "the columns.  If unnamed, recycled as necessary.  If named, names\n",
       "are matched with unspecified values being taken to be \\code{NA}.\n",
       "\n",
       "Possible values are \\code{NA} (the default, when\n",
       "\\code{\\LinkA{type.convert}{type.convert}} is used), \\code{\"NULL\"} (when the column\n",
       "is skipped), one of the atomic vector classes (logical, integer,\n",
       "numeric, complex, character, raw), or \\code{\"factor\"}, \\code{\"Date\"}\n",
       "or \\code{\"POSIXct\"}.  Otherwise there needs to be an \\code{as}\n",
       "method (from package \\pkg{methods}) for conversion from\n",
       "\\code{\"character\"} to the specified formal class.\n",
       "\n",
       "Note that \\code{colClasses} is specified per column (not per\n",
       "variable) and so includes the column of row names (if any).\n",
       "\n",
       "\n",
       "\\item[\\code{nrows}] integer: the maximum number of rows to read in.  Negative\n",
       "and other invalid values are ignored.\n",
       "\n",
       "\\item[\\code{skip}] integer: the number of lines of the data file to skip before\n",
       "beginning to read data.\n",
       "\n",
       "\\item[\\code{check.names}] logical.  If \\code{TRUE} then the names of the\n",
       "variables in the data frame are checked to ensure that they are\n",
       "syntactically valid variable names.  If necessary they are adjusted\n",
       "(by \\code{\\LinkA{make.names}{make.names}}) so that they are, and also to ensure\n",
       "that there are no duplicates.\n",
       "\n",
       "\\item[\\code{fill}] logical. If \\code{TRUE} then in case the rows have unequal\n",
       "length, blank fields are implicitly added.  See `Details'.\n",
       "\n",
       "\\item[\\code{strip.white}] logical. Used only when \\code{sep} has\n",
       "been specified, and allows the stripping of leading and trailing\n",
       "white space from unquoted \\code{character} fields (\\code{numeric} fields\n",
       "are always stripped).  See \\code{\\LinkA{scan}{scan}} for further details\n",
       "(including the exact meaning of `white space'),\n",
       "remembering that the columns may include the row names.\n",
       "\n",
       "\\item[\\code{blank.lines.skip}] logical: if \\code{TRUE} blank lines in the\n",
       "input are ignored.\n",
       "\n",
       "\\item[\\code{comment.char}] character: a character vector of length one\n",
       "containing a single character or an empty string.  Use \\code{\"\"} to\n",
       "turn off the interpretation of comments altogether.\n",
       "\n",
       "\\item[\\code{allowEscapes}] logical.  Should C-style escapes such as\n",
       "\\samp{\\bsl{}n} be processed or read verbatim (the default)?   Note that if\n",
       "not within quotes these could be interpreted as a delimiter (but not\n",
       "as a comment character).  For more details see \\code{\\LinkA{scan}{scan}}.\n",
       "\n",
       "\\item[\\code{flush}] logical: if \\code{TRUE}, \\code{scan} will flush to the\n",
       "end of the line after reading the last of the fields requested.\n",
       "This allows putting comments after the last field.\n",
       "\n",
       "\\item[\\code{stringsAsFactors}] logical: should character vectors be converted\n",
       "to factors?  Note that this is overridden by \\code{as.is} and\n",
       "\\code{colClasses}, both of which allow finer control.\n",
       "\n",
       "\\item[\\code{fileEncoding}] character string: if non-empty declares the\n",
       "encoding used on a file (not a connection) so the character data can\n",
       "be re-encoded.  See the `Encoding' section of the help for\n",
       "\\code{\\LinkA{file}{file}}, the `R Data Import/Export' manual and\n",
       "`Note'.\n",
       "\n",
       "\n",
       "\\item[\\code{encoding}] encoding to be assumed for input strings.  It is\n",
       "used to mark character strings as known to be in\n",
       "Latin-1 or UTF-8 (see \\code{\\LinkA{Encoding}{Encoding}}): it is not used to\n",
       "re-encode the input, but allows \\R{} to handle encoded strings in\n",
       "their native encoding (if one of those two).  See `Value'\n",
       "and `Note'.\n",
       "\n",
       "\n",
       "\\item[\\code{text}] character string: if \\code{file} is not supplied and this is,\n",
       "then data are read from the value of \\code{text} via a text connection.\n",
       "Notice that a literal string can be used to include (small) data sets\n",
       "within R code.\n",
       "\n",
       "\n",
       "\\item[\\code{skipNul}] logical: should nuls be skipped?\n",
       "\n",
       "\\item[\\code{...}] Further arguments to be passed to \\code{read.table}.\n",
       "\\end{ldescription}\n",
       "\\end{Arguments}\n",
       "%\n",
       "\\begin{Details}\n",
       "This function is the principal means of reading tabular data into \\R{}.\n",
       "\n",
       "Unless \\code{colClasses} is specified, all columns are read as\n",
       "character columns and then converted using \\code{\\LinkA{type.convert}{type.convert}}\n",
       "to logical, integer, numeric, complex or (depending on \\code{as.is})\n",
       "factor as appropriate.  Quotes are (by default) interpreted in all\n",
       "fields, so a column of values like \\code{\"42\"} will result in an\n",
       "integer column.\n",
       "\n",
       "A field or line is `blank' if it contains nothing (except\n",
       "whitespace if no separator is specified) before a comment character or\n",
       "the end of the field or line.\n",
       "\n",
       "If \\code{row.names} is not specified and the header line has one less\n",
       "entry than the number of columns, the first column is taken to be the\n",
       "row names.  This allows data frames to be read in from the format in\n",
       "which they are printed.  If \\code{row.names} is specified and does\n",
       "not refer to the first column, that column is discarded from such files.\n",
       "\n",
       "The number of data columns is determined by looking at the first five\n",
       "lines of input (or the whole input if it has less than five lines), or\n",
       "from the length of \\code{col.names} if it is specified and is longer.\n",
       "This could conceivably be wrong if \\code{fill} or\n",
       "\\code{blank.lines.skip} are true, so specify \\code{col.names} if\n",
       "necessary (as in the `Examples').\n",
       "\n",
       "\\code{read.csv} and \\code{read.csv2} are identical to\n",
       "\\code{read.table} except for the defaults.  They are intended for\n",
       "reading `comma separated value' files (\\file{.csv}) or\n",
       "(\\code{read.csv2}) the variant used in countries that use a comma as\n",
       "decimal point and a semicolon as field separator.  Similarly,\n",
       "\\code{read.delim} and \\code{read.delim2} are for reading delimited\n",
       "files, defaulting to the TAB character for the delimiter.  Notice that\n",
       "\\code{header = TRUE} and \\code{fill = TRUE} in these variants, and\n",
       "that the comment character is disabled.\n",
       "\n",
       "The rest of the line after a comment character is skipped; quotes\n",
       "are not processed in comments.  Complete comment lines are allowed\n",
       "provided \\code{blank.lines.skip = TRUE}; however, comment lines prior\n",
       "to the header must have the comment character in the first non-blank\n",
       "column.\n",
       "\n",
       "Quoted fields with embedded newlines are supported except after a\n",
       "comment character.  Embedded nuls are unsupported: skipping them (with\n",
       "\\code{skipNul = TRUE}) may work.\n",
       "\\end{Details}\n",
       "%\n",
       "\\begin{Value}\n",
       "A data frame (\\code{\\LinkA{data.frame}{data.frame}}) containing a representation of\n",
       "the data in the file.\n",
       "\n",
       "Empty input is an error unless \\code{col.names} is specified, when a\n",
       "0-row data frame is returned: similarly giving just a header line if\n",
       "\\code{header = TRUE} results in a 0-row data frame.  Note that in\n",
       "either case the columns will be logical unless \\code{colClasses} was\n",
       "supplied.\n",
       "\n",
       "Character strings in the result (including factor levels) will have a\n",
       "declared encoding if \\code{encoding} is \\code{\"latin1\"} or\n",
       "\\code{\"UTF-8\"}.\n",
       "\\end{Value}\n",
       "%\n",
       "\\begin{Section}{CSV files}\n",
       "See the help on \\code{\\LinkA{write.csv}{write.csv}} for the various conventions\n",
       "for \\code{.csv} files.  The commonest form of CSV file with row names\n",
       "needs to be read with \\code{read.csv(..., row.names = 1)} to use the\n",
       "names in the first column of the file as row names.\n",
       "\\end{Section}\n",
       "%\n",
       "\\begin{Section}{Memory usage}\n",
       "These functions can use a surprising amount of memory when reading\n",
       "large files.  There is extensive discussion in the `R Data\n",
       "Import/Export' manual, supplementing the notes here.\n",
       "\n",
       "Less memory will be used if \\code{colClasses} is specified as one of\n",
       "the six \\LinkA{atomic}{atomic} vector classes.  This can be particularly so when\n",
       "reading a column that takes many distinct numeric values, as storing\n",
       "each distinct value as a character string can take up to 14 times as\n",
       "much memory as storing it as an integer.\n",
       "\n",
       "Using \\code{nrows}, even as a mild over-estimate, will help memory\n",
       "usage.\n",
       "\n",
       "Using \\code{comment.char = \"\"} will be appreciably faster than the\n",
       "\\code{read.table} default.\n",
       "\n",
       "\\code{read.table} is not the right tool for reading large matrices,\n",
       "especially those with many columns: it is designed to read\n",
       "\\emph{data frames} which may have columns of very different classes.\n",
       "Use \\code{\\LinkA{scan}{scan}} instead for matrices.\n",
       "\\end{Section}\n",
       "%\n",
       "\\begin{Note}\n",
       "The columns referred to in \\code{as.is} and \\code{colClasses} include\n",
       "the column of row names (if any).\n",
       "\n",
       "There are two approaches for reading input that is not in the local\n",
       "encoding.  If the input is known to be UTF-8 or Latin1, use the\n",
       "\\code{encoding} argument to declare that.  If the input is in some\n",
       "other encoding, then it may be translated on input.  The \\code{fileEncoding}\n",
       "argument achieves this by setting up a connection to do the re-encoding\n",
       "into the current locale.  Note that on Windows or other systems not running\n",
       "in a UTF-8 locale, this may not be possible.\n",
       "\\end{Note}\n",
       "%\n",
       "\\begin{References}\n",
       "Chambers, J. M. (1992)\n",
       "\\emph{Data for models.}\n",
       "Chapter 3 of \\emph{Statistical Models in S}\n",
       "eds J. M. Chambers and T. J. Hastie, Wadsworth \\& Brooks/Cole.\n",
       "\\end{References}\n",
       "%\n",
       "\\begin{SeeAlso}\n",
       "The `R Data Import/Export' manual.\n",
       "\n",
       "\\code{\\LinkA{scan}{scan}}, \\code{\\LinkA{type.convert}{type.convert}},\n",
       "\\code{\\LinkA{read.fwf}{read.fwf}} for reading \\emph{f}ixed \\emph{w}idth\n",
       "\\emph{f}ormatted input;\n",
       "\\code{\\LinkA{write.table}{write.table}};\n",
       "\\code{\\LinkA{data.frame}{data.frame}}.\n",
       "\n",
       "\\code{\\LinkA{count.fields}{count.fields}} can be useful to determine problems with\n",
       "reading files which result in reports of incorrect record lengths (see\n",
       "the `Examples' below).\n",
       "\n",
       "\\url{https://www.rfc-editor.org/rfc/rfc4180} for the IANA definition of\n",
       "CSV files (which requires comma as separator and CRLF line endings).\n",
       "\\end{SeeAlso}\n",
       "%\n",
       "\\begin{Examples}\n",
       "\\begin{ExampleCode}\n",
       "## using count.fields to handle unknown maximum number of fields\n",
       "## when fill = TRUE\n",
       "test1 <- c(1:5, \"6,7\", \"8,9,10\")\n",
       "tf <- tempfile()\n",
       "writeLines(test1, tf)\n",
       "\n",
       "read.csv(tf, fill = TRUE) # 1 column\n",
       "ncol <- max(count.fields(tf, sep = \",\"))\n",
       "read.csv(tf, fill = TRUE, header = FALSE,\n",
       "         col.names = paste0(\"V\", seq_len(ncol)))\n",
       "unlink(tf)\n",
       "\n",
       "## \"Inline\" data set, using text=\n",
       "## Notice that leading and trailing empty lines are auto-trimmed\n",
       "\n",
       "read.table(header = TRUE, text = \"\n",
       "a b\n",
       "1 2\n",
       "3 4\n",
       "\")\n",
       "\\end{ExampleCode}\n",
       "\\end{Examples}"
      ],
      "text/plain": [
       "read.table                package:utils                R Documentation\n",
       "\n",
       "_\bD_\ba_\bt_\ba _\bI_\bn_\bp_\bu_\bt\n",
       "\n",
       "_\bD_\be_\bs_\bc_\br_\bi_\bp_\bt_\bi_\bo_\bn:\n",
       "\n",
       "     Reads a file in table format and creates a data frame from it,\n",
       "     with cases corresponding to lines and variables to fields in the\n",
       "     file.\n",
       "\n",
       "_\bU_\bs_\ba_\bg_\be:\n",
       "\n",
       "     read.table(file, header = FALSE, sep = \"\", quote = \"\\\"'\",\n",
       "                dec = \".\", numerals = c(\"allow.loss\", \"warn.loss\", \"no.loss\"),\n",
       "                row.names, col.names, as.is = !stringsAsFactors, tryLogical = TRUE,\n",
       "                na.strings = \"NA\", colClasses = NA, nrows = -1,\n",
       "                skip = 0, check.names = TRUE, fill = !blank.lines.skip,\n",
       "                strip.white = FALSE, blank.lines.skip = TRUE,\n",
       "                comment.char = \"#\",\n",
       "                allowEscapes = FALSE, flush = FALSE,\n",
       "                stringsAsFactors = FALSE,\n",
       "                fileEncoding = \"\", encoding = \"unknown\", text, skipNul = FALSE)\n",
       "     \n",
       "     read.csv(file, header = TRUE, sep = \",\", quote = \"\\\"\",\n",
       "              dec = \".\", fill = TRUE, comment.char = \"\", ...)\n",
       "     \n",
       "     read.csv2(file, header = TRUE, sep = \";\", quote = \"\\\"\",\n",
       "               dec = \",\", fill = TRUE, comment.char = \"\", ...)\n",
       "     \n",
       "     read.delim(file, header = TRUE, sep = \"\\t\", quote = \"\\\"\",\n",
       "                dec = \".\", fill = TRUE, comment.char = \"\", ...)\n",
       "     \n",
       "     read.delim2(file, header = TRUE, sep = \"\\t\", quote = \"\\\"\",\n",
       "                 dec = \",\", fill = TRUE, comment.char = \"\", ...)\n",
       "     \n",
       "_\bA_\br_\bg_\bu_\bm_\be_\bn_\bt_\bs:\n",
       "\n",
       "    file: the name of the file which the data are to be read from.\n",
       "          Each row of the table appears as one line of the file.  If it\n",
       "          does not contain an _absolute_ path, the file name is\n",
       "          _relative_ to the current working directory, ‘getwd()’.\n",
       "          Tilde-expansion is performed where supported.  This can be a\n",
       "          compressed file (see ‘file’).\n",
       "\n",
       "          Alternatively, ‘file’ can be a readable text-mode connection\n",
       "          (which will be opened for reading if necessary, and if so\n",
       "          ‘close’d (and hence destroyed) at the end of the function\n",
       "          call).  (If ‘stdin()’ is used, the prompts for lines may be\n",
       "          somewhat confusing.  Terminate input with a blank line or an\n",
       "          EOF signal, ‘Ctrl-D’ on Unix and ‘Ctrl-Z’ on Windows.  Any\n",
       "          pushback on ‘stdin()’ will be cleared before return.)\n",
       "\n",
       "          ‘file’ can also be a complete URL.  (For the supported URL\n",
       "          schemes, see the ‘URLs’ section of the help for ‘url’.)\n",
       "\n",
       "  header: a logical value indicating whether the file contains the\n",
       "          names of the variables as its first line.  If missing, the\n",
       "          value is determined from the file format: ‘header’ is set to\n",
       "          ‘TRUE’ if and only if the first row contains one fewer field\n",
       "          than the number of columns.\n",
       "\n",
       "     sep: the field separator character.  Values on each line of the\n",
       "          file are separated by this character.  If ‘sep = \"\"’ (the\n",
       "          default for ‘read.table’) the separator is ‘white space’,\n",
       "          that is one or more spaces, tabs, newlines or carriage\n",
       "          returns.\n",
       "\n",
       "   quote: the set of quoting characters. To disable quoting altogether,\n",
       "          use ‘quote = \"\"’.  See ‘scan’ for the behaviour on quotes\n",
       "          embedded in quotes.  Quoting is only considered for columns\n",
       "          read as character, which is all of them unless ‘colClasses’\n",
       "          is specified.\n",
       "\n",
       "     dec: the character used in the file for decimal points.\n",
       "\n",
       "numerals: string indicating how to convert numbers whose conversion to\n",
       "          double precision would lose accuracy, see ‘type.convert’.\n",
       "          Can be abbreviated.  (Applies also to complex-number inputs.)\n",
       "\n",
       "row.names: a vector of row names.  This can be a vector giving the\n",
       "          actual row names, or a single number giving the column of the\n",
       "          table which contains the row names, or character string\n",
       "          giving the name of the table column containing the row names.\n",
       "\n",
       "          If there is a header and the first row contains one fewer\n",
       "          field than the number of columns, the first column in the\n",
       "          input is used for the row names.  Otherwise if ‘row.names’ is\n",
       "          missing, the rows are numbered.\n",
       "\n",
       "          Using ‘row.names = NULL’ forces row numbering. Missing or\n",
       "          ‘NULL’ ‘row.names’ generate row names that are considered to\n",
       "          be ‘automatic’ (and not preserved by ‘as.matrix’).\n",
       "\n",
       "col.names: a vector of optional names for the variables.  The default\n",
       "          is to use ‘\"V\"’ followed by the column number.\n",
       "\n",
       "   as.is: controls conversion of character variables (insofar as they\n",
       "          are not converted to logical, numeric or complex) to factors,\n",
       "          if not otherwise specified by ‘colClasses’.  Its value is\n",
       "          either a vector of logicals (values are recycled if\n",
       "          necessary), or a vector of numeric or character indices which\n",
       "          specify which columns should not be converted to factors.\n",
       "\n",
       "          Note: to suppress all conversions including those of numeric\n",
       "          columns, set ‘colClasses = \"character\"’.\n",
       "\n",
       "          Note that ‘as.is’ is specified per column (not per variable)\n",
       "          and so includes the column of row names (if any) and any\n",
       "          columns to be skipped.\n",
       "\n",
       "tryLogical: a ‘logical’ determining if columns consisting entirely of\n",
       "          ‘\"F\"’, ‘\"T\"’, ‘\"FALSE\"’, and ‘\"TRUE\"’ should be converted to\n",
       "          ‘logical’; passed to ‘type.convert’, true by default.\n",
       "\n",
       "na.strings: a character vector of strings which are to be interpreted\n",
       "          as ‘NA’ values.  Blank fields are also considered to be\n",
       "          missing values in logical, integer, numeric and complex\n",
       "          fields.  Note that the test happens _after_ white space is\n",
       "          stripped from the input, so ‘na.strings’ values may need\n",
       "          their own white space stripped in advance.\n",
       "\n",
       "colClasses: character.  A vector of classes to be assumed for the\n",
       "          columns.  If unnamed, recycled as necessary.  If named, names\n",
       "          are matched with unspecified values being taken to be ‘NA’.\n",
       "\n",
       "          Possible values are ‘NA’ (the default, when ‘type.convert’ is\n",
       "          used), ‘\"NULL\"’ (when the column is skipped), one of the\n",
       "          atomic vector classes (logical, integer, numeric, complex,\n",
       "          character, raw), or ‘\"factor\"’, ‘\"Date\"’ or ‘\"POSIXct\"’.\n",
       "          Otherwise there needs to be an ‘as’ method (from package\n",
       "          ‘methods’) for conversion from ‘\"character\"’ to the specified\n",
       "          formal class.\n",
       "\n",
       "          Note that ‘colClasses’ is specified per column (not per\n",
       "          variable) and so includes the column of row names (if any).\n",
       "\n",
       "   nrows: integer: the maximum number of rows to read in.  Negative and\n",
       "          other invalid values are ignored.\n",
       "\n",
       "    skip: integer: the number of lines of the data file to skip before\n",
       "          beginning to read data.\n",
       "\n",
       "check.names: logical.  If ‘TRUE’ then the names of the variables in the\n",
       "          data frame are checked to ensure that they are syntactically\n",
       "          valid variable names.  If necessary they are adjusted (by\n",
       "          ‘make.names’) so that they are, and also to ensure that there\n",
       "          are no duplicates.\n",
       "\n",
       "    fill: logical. If ‘TRUE’ then in case the rows have unequal length,\n",
       "          blank fields are implicitly added.  See ‘Details’.\n",
       "\n",
       "strip.white: logical. Used only when ‘sep’ has been specified, and\n",
       "          allows the stripping of leading and trailing white space from\n",
       "          unquoted ‘character’ fields (‘numeric’ fields are always\n",
       "          stripped).  See ‘scan’ for further details (including the\n",
       "          exact meaning of ‘white space’), remembering that the columns\n",
       "          may include the row names.\n",
       "\n",
       "blank.lines.skip: logical: if ‘TRUE’ blank lines in the input are\n",
       "          ignored.\n",
       "\n",
       "comment.char: character: a character vector of length one containing a\n",
       "          single character or an empty string.  Use ‘\"\"’ to turn off\n",
       "          the interpretation of comments altogether.\n",
       "\n",
       "allowEscapes: logical.  Should C-style escapes such as ‘\\n’ be\n",
       "          processed or read verbatim (the default)?  Note that if not\n",
       "          within quotes these could be interpreted as a delimiter (but\n",
       "          not as a comment character).  For more details see ‘scan’.\n",
       "\n",
       "   flush: logical: if ‘TRUE’, ‘scan’ will flush to the end of the line\n",
       "          after reading the last of the fields requested.  This allows\n",
       "          putting comments after the last field.\n",
       "\n",
       "stringsAsFactors: logical: should character vectors be converted to\n",
       "          factors?  Note that this is overridden by ‘as.is’ and\n",
       "          ‘colClasses’, both of which allow finer control.\n",
       "\n",
       "fileEncoding: character string: if non-empty declares the encoding used\n",
       "          on a file (not a connection) so the character data can be\n",
       "          re-encoded.  See the ‘Encoding’ section of the help for\n",
       "          ‘file’, the ‘R Data Import/Export’ manual and ‘Note’.\n",
       "\n",
       "encoding: encoding to be assumed for input strings.  It is used to mark\n",
       "          character strings as known to be in Latin-1 or UTF-8 (see\n",
       "          ‘Encoding’): it is not used to re-encode the input, but\n",
       "          allows R to handle encoded strings in their native encoding\n",
       "          (if one of those two).  See ‘Value’ and ‘Note’.\n",
       "\n",
       "    text: character string: if ‘file’ is not supplied and this is, then\n",
       "          data are read from the value of ‘text’ via a text connection.\n",
       "          Notice that a literal string can be used to include (small)\n",
       "          data sets within R code.\n",
       "\n",
       " skipNul: logical: should nuls be skipped?\n",
       "\n",
       "     ...: Further arguments to be passed to ‘read.table’.\n",
       "\n",
       "_\bD_\be_\bt_\ba_\bi_\bl_\bs:\n",
       "\n",
       "     This function is the principal means of reading tabular data into\n",
       "     R.\n",
       "\n",
       "     Unless ‘colClasses’ is specified, all columns are read as\n",
       "     character columns and then converted using ‘type.convert’ to\n",
       "     logical, integer, numeric, complex or (depending on ‘as.is’)\n",
       "     factor as appropriate.  Quotes are (by default) interpreted in all\n",
       "     fields, so a column of values like ‘\"42\"’ will result in an\n",
       "     integer column.\n",
       "\n",
       "     A field or line is ‘blank’ if it contains nothing (except\n",
       "     whitespace if no separator is specified) before a comment\n",
       "     character or the end of the field or line.\n",
       "\n",
       "     If ‘row.names’ is not specified and the header line has one less\n",
       "     entry than the number of columns, the first column is taken to be\n",
       "     the row names.  This allows data frames to be read in from the\n",
       "     format in which they are printed.  If ‘row.names’ is specified and\n",
       "     does not refer to the first column, that column is discarded from\n",
       "     such files.\n",
       "\n",
       "     The number of data columns is determined by looking at the first\n",
       "     five lines of input (or the whole input if it has less than five\n",
       "     lines), or from the length of ‘col.names’ if it is specified and\n",
       "     is longer.  This could conceivably be wrong if ‘fill’ or\n",
       "     ‘blank.lines.skip’ are true, so specify ‘col.names’ if necessary\n",
       "     (as in the ‘Examples’).\n",
       "\n",
       "     ‘read.csv’ and ‘read.csv2’ are identical to ‘read.table’ except\n",
       "     for the defaults.  They are intended for reading ‘comma separated\n",
       "     value’ files (‘.csv’) or (‘read.csv2’) the variant used in\n",
       "     countries that use a comma as decimal point and a semicolon as\n",
       "     field separator.  Similarly, ‘read.delim’ and ‘read.delim2’ are\n",
       "     for reading delimited files, defaulting to the TAB character for\n",
       "     the delimiter.  Notice that ‘header = TRUE’ and ‘fill = TRUE’ in\n",
       "     these variants, and that the comment character is disabled.\n",
       "\n",
       "     The rest of the line after a comment character is skipped; quotes\n",
       "     are not processed in comments.  Complete comment lines are allowed\n",
       "     provided ‘blank.lines.skip = TRUE’; however, comment lines prior\n",
       "     to the header must have the comment character in the first\n",
       "     non-blank column.\n",
       "\n",
       "     Quoted fields with embedded newlines are supported except after a\n",
       "     comment character.  Embedded nuls are unsupported: skipping them\n",
       "     (with ‘skipNul = TRUE’) may work.\n",
       "\n",
       "_\bV_\ba_\bl_\bu_\be:\n",
       "\n",
       "     A data frame (‘data.frame’) containing a representation of the\n",
       "     data in the file.\n",
       "\n",
       "     Empty input is an error unless ‘col.names’ is specified, when a\n",
       "     0-row data frame is returned: similarly giving just a header line\n",
       "     if ‘header = TRUE’ results in a 0-row data frame.  Note that in\n",
       "     either case the columns will be logical unless ‘colClasses’ was\n",
       "     supplied.\n",
       "\n",
       "     Character strings in the result (including factor levels) will\n",
       "     have a declared encoding if ‘encoding’ is ‘\"latin1\"’ or ‘\"UTF-8\"’.\n",
       "\n",
       "_\bC_\bS_\bV _\bf_\bi_\bl_\be_\bs:\n",
       "\n",
       "     See the help on ‘write.csv’ for the various conventions for ‘.csv’\n",
       "     files.  The commonest form of CSV file with row names needs to be\n",
       "     read with ‘read.csv(..., row.names = 1)’ to use the names in the\n",
       "     first column of the file as row names.\n",
       "\n",
       "_\bM_\be_\bm_\bo_\br_\by _\bu_\bs_\ba_\bg_\be:\n",
       "\n",
       "     These functions can use a surprising amount of memory when reading\n",
       "     large files.  There is extensive discussion in the ‘R Data\n",
       "     Import/Export’ manual, supplementing the notes here.\n",
       "\n",
       "     Less memory will be used if ‘colClasses’ is specified as one of\n",
       "     the six atomic vector classes.  This can be particularly so when\n",
       "     reading a column that takes many distinct numeric values, as\n",
       "     storing each distinct value as a character string can take up to\n",
       "     14 times as much memory as storing it as an integer.\n",
       "\n",
       "     Using ‘nrows’, even as a mild over-estimate, will help memory\n",
       "     usage.\n",
       "\n",
       "     Using ‘comment.char = \"\"’ will be appreciably faster than the\n",
       "     ‘read.table’ default.\n",
       "\n",
       "     ‘read.table’ is not the right tool for reading large matrices,\n",
       "     especially those with many columns: it is designed to read _data\n",
       "     frames_ which may have columns of very different classes.  Use\n",
       "     ‘scan’ instead for matrices.\n",
       "\n",
       "_\bN_\bo_\bt_\be:\n",
       "\n",
       "     The columns referred to in ‘as.is’ and ‘colClasses’ include the\n",
       "     column of row names (if any).\n",
       "\n",
       "     There are two approaches for reading input that is not in the\n",
       "     local encoding.  If the input is known to be UTF-8 or Latin1, use\n",
       "     the ‘encoding’ argument to declare that.  If the input is in some\n",
       "     other encoding, then it may be translated on input.  The\n",
       "     ‘fileEncoding’ argument achieves this by setting up a connection\n",
       "     to do the re-encoding into the current locale.  Note that on\n",
       "     Windows or other systems not running in a UTF-8 locale, this may\n",
       "     not be possible.\n",
       "\n",
       "_\bR_\be_\bf_\be_\br_\be_\bn_\bc_\be_\bs:\n",
       "\n",
       "     Chambers, J. M. (1992) _Data for models._ Chapter 3 of\n",
       "     _Statistical Models in S_ eds J. M. Chambers and T. J. Hastie,\n",
       "     Wadsworth & Brooks/Cole.\n",
       "\n",
       "_\bS_\be_\be _\bA_\bl_\bs_\bo:\n",
       "\n",
       "     The ‘R Data Import/Export’ manual.\n",
       "\n",
       "     ‘scan’, ‘type.convert’, ‘read.fwf’ for reading _f_ixed _w_idth\n",
       "     _f_ormatted input; ‘write.table’; ‘data.frame’.\n",
       "\n",
       "     ‘count.fields’ can be useful to determine problems with reading\n",
       "     files which result in reports of incorrect record lengths (see the\n",
       "     ‘Examples’ below).\n",
       "\n",
       "     <https://www.rfc-editor.org/rfc/rfc4180> for the IANA definition\n",
       "     of CSV files (which requires comma as separator and CRLF line\n",
       "     endings).\n",
       "\n",
       "_\bE_\bx_\ba_\bm_\bp_\bl_\be_\bs:\n",
       "\n",
       "     ## using count.fields to handle unknown maximum number of fields\n",
       "     ## when fill = TRUE\n",
       "     test1 <- c(1:5, \"6,7\", \"8,9,10\")\n",
       "     tf <- tempfile()\n",
       "     writeLines(test1, tf)\n",
       "     \n",
       "     read.csv(tf, fill = TRUE) # 1 column\n",
       "     ncol <- max(count.fields(tf, sep = \",\"))\n",
       "     read.csv(tf, fill = TRUE, header = FALSE,\n",
       "              col.names = paste0(\"V\", seq_len(ncol)))\n",
       "     unlink(tf)\n",
       "     \n",
       "     ## \"Inline\" data set, using text=\n",
       "     ## Notice that leading and trailing empty lines are auto-trimmed\n",
       "     \n",
       "     read.table(header = TRUE, text = \"\n",
       "     a b\n",
       "     1 2\n",
       "     3 4\n",
       "     \")\n",
       "     "
      ]
     },
     "metadata": {},
     "output_type": "display_data"
    }
   ],
   "source": [
    "?read.csv2"
   ]
  },
  {
   "cell_type": "markdown",
   "id": "28925420",
   "metadata": {},
   "source": [
    "***\n",
    "\n",
    "## 4 Daten sichten \n",
    "\n",
    "Es ist immer ratsam, einen ersten Blick auf die Daten zu werfen, um deren Struktur zu verstehen."
   ]
  },
  {
   "cell_type": "code",
   "execution_count": 8,
   "id": "c12d0aba",
   "metadata": {
    "class.output": "scroll_limit"
   },
   "outputs": [],
   "source": [
    "# show(data_csv_3)"
   ]
  },
  {
   "cell_type": "markdown",
   "id": "d9ed9b97",
   "metadata": {},
   "source": [
    "*Alternative:*"
   ]
  },
  {
   "cell_type": "code",
   "execution_count": 9,
   "id": "e4e2e9c8",
   "metadata": {
    "eval": false
   },
   "outputs": [
    {
     "name": "stdout",
     "output_type": "stream",
     "text": [
      "                                                                V1          V2\n",
      "1                                      GENESIS-Tabelle: 21341-0001            \n",
      "2                     Personal an Hochschulen: Deutschland, Jahre,            \n",
      "3  Personalgruppen nach Besch\\xe4ftigungsverh\\xe4ltnis, Geschlecht            \n",
      "4                                 Statistik des Hochschulpersonals            \n",
      "5                                                      Deutschland            \n",
      "6                                 Personal an Hochschulen (Anzahl)            \n",
      "7                                                                             \n",
      "8                Wissenschaftliches und k\\xfcnstlerisches Personal m\\xe4nnlich\n",
      "9                Wissenschaftliches und k\\xfcnstlerisches Personal    weiblich\n",
      "10               Wissenschaftliches und k\\xfcnstlerisches Personal   Insgesamt\n",
      "11            Hauptberufl. wissenschaftl. u. k\\xfcnstler. Personal m\\xe4nnlich\n",
      "12            Hauptberufl. wissenschaftl. u. k\\xfcnstler. Personal    weiblich\n",
      "13            Hauptberufl. wissenschaftl. u. k\\xfcnstler. Personal   Insgesamt\n",
      "14                                                     Professoren m\\xe4nnlich\n",
      "15                                                     Professoren    weiblich\n",
      "16                                                     Professoren   Insgesamt\n",
      "17                                        Dozenten und Assistenten m\\xe4nnlich\n",
      "18                                        Dozenten und Assistenten    weiblich\n",
      "19                                        Dozenten und Assistenten   Insgesamt\n",
      "20              Wissenschaftliche und k\\xfcnstlerische Mitarbeiter m\\xe4nnlich\n",
      "21              Wissenschaftliche und k\\xfcnstlerische Mitarbeiter    weiblich\n",
      "22              Wissenschaftliche und k\\xfcnstlerische Mitarbeiter   Insgesamt\n",
      "23                         Lehrkr\\xe4fte f\\xfcr besondere Aufgaben m\\xe4nnlich\n",
      "24                         Lehrkr\\xe4fte f\\xfcr besondere Aufgaben    weiblich\n",
      "25                         Lehrkr\\xe4fte f\\xfcr besondere Aufgaben   Insgesamt\n",
      "26            Nebenberufl. wissenschaftl. u. k\\xfcnstler. Personal m\\xe4nnlich\n",
      "27            Nebenberufl. wissenschaftl. u. k\\xfcnstler. Personal    weiblich\n",
      "28            Nebenberufl. wissenschaftl. u. k\\xfcnstler. Personal   Insgesamt\n",
      "29                                        Gastprofessoren, Emeriti m\\xe4nnlich\n",
      "30                                        Gastprofessoren, Emeriti    weiblich\n",
      "31                                        Gastprofessoren, Emeriti   Insgesamt\n",
      "32                                                 Lehrbeauftragte m\\xe4nnlich\n",
      "33                                                 Lehrbeauftragte    weiblich\n",
      "34                                                 Lehrbeauftragte   Insgesamt\n",
      "35                                Wissenschaftliche Hilfskr\\xe4fte m\\xe4nnlich\n",
      "36                                Wissenschaftliche Hilfskr\\xe4fte    weiblich\n",
      "37                                Wissenschaftliche Hilfskr\\xe4fte   Insgesamt\n",
      "38                Verwaltungs-, technisches und sonstiges Personal m\\xe4nnlich\n",
      "39                Verwaltungs-, technisches und sonstiges Personal    weiblich\n",
      "40                Verwaltungs-, technisches und sonstiges Personal   Insgesamt\n",
      "41              Hauptberufl. Verwaltungs-, techn. u.sonst.Personal m\\xe4nnlich\n",
      "42              Hauptberufl. Verwaltungs-, techn. u.sonst.Personal    weiblich\n",
      "43              Hauptberufl. Verwaltungs-, techn. u.sonst.Personal   Insgesamt\n",
      "44                                             Verwaltungspersonal m\\xe4nnlich\n",
      "45                                             Verwaltungspersonal    weiblich\n",
      "46                                             Verwaltungspersonal   Insgesamt\n",
      "47                                             Bibliothekspersonal m\\xe4nnlich\n",
      "48                                             Bibliothekspersonal    weiblich\n",
      "49                                             Bibliothekspersonal   Insgesamt\n",
      "50                                            Technisches Personal m\\xe4nnlich\n",
      "51                                            Technisches Personal    weiblich\n",
      "52                                            Technisches Personal   Insgesamt\n",
      "53                                              Sonstiges Personal m\\xe4nnlich\n",
      "54                                              Sonstiges Personal    weiblich\n",
      "55                                              Sonstiges Personal   Insgesamt\n",
      "56                                                  Pflegepersonal m\\xe4nnlich\n",
      "57                                                  Pflegepersonal    weiblich\n",
      "58                                                  Pflegepersonal   Insgesamt\n",
      "59                                                        Arbeiter m\\xe4nnlich\n",
      "60                                                        Arbeiter    weiblich\n",
      "61                                                        Arbeiter   Insgesamt\n",
      "62                                                   Auszubildende m\\xe4nnlich\n",
      "63                                                   Auszubildende    weiblich\n",
      "64                                                   Auszubildende   Insgesamt\n",
      "65                                                    Praktikanten m\\xe4nnlich\n",
      "66                                                    Praktikanten    weiblich\n",
      "67                                                    Praktikanten   Insgesamt\n",
      "68                   Sonstiges Personal f\\xfcr Lehre und Forschung m\\xe4nnlich\n",
      "69                   Sonstiges Personal f\\xfcr Lehre und Forschung    weiblich\n",
      "70                   Sonstiges Personal f\\xfcr Lehre und Forschung   Insgesamt\n",
      "71                               Leitungs- und Verwaltungspersonal m\\xe4nnlich\n",
      "72                               Leitungs- und Verwaltungspersonal    weiblich\n",
      "73                               Leitungs- und Verwaltungspersonal   Insgesamt\n",
      "74              Nebenberufl. Verwaltungs-, techn. u.sonst.Personal m\\xe4nnlich\n",
      "75              Nebenberufl. Verwaltungs-, techn. u.sonst.Personal    weiblich\n",
      "76              Nebenberufl. Verwaltungs-, techn. u.sonst.Personal   Insgesamt\n",
      "77                                         Sonstige Hilfskr\\xe4fte m\\xe4nnlich\n",
      "78                                         Sonstige Hilfskr\\xe4fte    weiblich\n",
      "79                                         Sonstige Hilfskr\\xe4fte   Insgesamt\n",
      "80                                      Zeitweilig Besch\\xe4ftigte m\\xe4nnlich\n",
      "81                                      Zeitweilig Besch\\xe4ftigte    weiblich\n",
      "82                                      Zeitweilig Besch\\xe4ftigte   Insgesamt\n",
      "83                                                       Insgesamt m\\xe4nnlich\n",
      "84                                                       Insgesamt    weiblich\n",
      "85                                                       Insgesamt   Insgesamt\n",
      "86                                                      __________            \n",
      "87                   \\xa9 Statistisches Bundesamt (Destatis), 2023            \n",
      "88                                    Stand: 04.04.2024 / 18:30:01            \n",
      "       V3\n",
      "1        \n",
      "2        \n",
      "3        \n",
      "4        \n",
      "5        \n",
      "6        \n",
      "7    2020\n",
      "8  247720\n",
      "9  167112\n",
      "10 414832\n",
      "11 159567\n",
      "12 109708\n",
      "13 269275\n",
      "14  36344\n",
      "15  12949\n",
      "16  49293\n",
      "17   2182\n",
      "18   1546\n",
      "19   3728\n",
      "20 116004\n",
      "21  89383\n",
      "22 205387\n",
      "23   5037\n",
      "24   5830\n",
      "25  10867\n",
      "26  88153\n",
      "27  57404\n",
      "28 145557\n",
      "29   1534\n",
      "30    259\n",
      "31   1793\n",
      "32  64492\n",
      "33  35238\n",
      "34  99730\n",
      "35  22127\n",
      "36  21907\n",
      "37  44034\n",
      "38 100320\n",
      "39 243913\n",
      "40 344233\n",
      "41  98247\n",
      "42 240419\n",
      "43 338666\n",
      "44  25941\n",
      "45  83918\n",
      "46 109859\n",
      "47   2443\n",
      "48   7308\n",
      "49   9751\n",
      "50  33025\n",
      "51  26360\n",
      "52  59385\n",
      "53  14422\n",
      "54  41609\n",
      "55  56031\n",
      "56  15427\n",
      "57  63731\n",
      "58  79158\n",
      "59      -\n",
      "60      -\n",
      "61      -\n",
      "62   6284\n",
      "63  16137\n",
      "64  22421\n",
      "65    705\n",
      "66   1356\n",
      "67   2061\n",
      "68      -\n",
      "69      -\n",
      "70      -\n",
      "71      -\n",
      "72      -\n",
      "73      -\n",
      "74   2073\n",
      "75   3494\n",
      "76   5567\n",
      "77   2073\n",
      "78   3494\n",
      "79   5567\n",
      "80      -\n",
      "81      -\n",
      "82      -\n",
      "83 348040\n",
      "84 411025\n",
      "85 759065\n",
      "86       \n",
      "87       \n",
      "88       \n"
     ]
    }
   ],
   "source": [
    "view(data_csv)\n",
    "#oder\n",
    "print(data_csv)"
   ]
  },
  {
   "cell_type": "markdown",
   "id": "a3033572-d260-47b1-a980-f854e06d6df2",
   "metadata": {},
   "source": [
    "### Dateiinhalt interpretieren \n",
    "\n",
    "Die Datei hat drei Spalten (V1, V2, V3):\n",
    "\n",
    "-   **V1:** In den Zeilen 1-6 und 87-88 stehen die Metadaten der Datei. Hier finden Sie Infos zum Herausgeber, Inhalt der Daten, etc..\\\n",
    "    In den Zeilen 8-85 befinden sich Bezeichnung zum Angestelltenverhältnis des Hochschulpersonals (Dozent, Gastprofessoren, etc.).\n",
    "\n",
    "-   **V2:** Diese Spalte unterteilt die Beschäftigten nach Geschlecht (männlich, weiblich & Insgesamt).\n",
    "\n",
    "-   **V3:** In den Zeilen 8-85 sind die jeweiligen absoluten Personalzahlen enthalten. In der Zeile 7 ist die Spaltenüberschrift \"2020\" gegeben. Diese bezieht sich auf das Erhebungsjahr der Daten.\n",
    "    "
   ]
  },
  {
   "cell_type": "markdown",
   "id": "7991b680-c73e-4ef3-bdbf-d72ff62ae95b",
   "metadata": {},
   "source": [
    "### Anmerkungen zu der Ausgangsdatei \n",
    "\n",
    "Es fallen hier direkt mehrere Punkte auf, welche die CSV-Datei schlechter maschinenlesbar machen:\n",
    "\n",
    "1.  Der Titel des Datensatzes ist nicht prägnant und verständlich.\n",
    "\n",
    "2.  Metadaten (Übergeordnete Informationen über die vorliegenden Daten) sollten nicht in der Tabelle selbst auftauchen sondern separiert in dem dafür vorgesehenen Metadatenbereich abgespeichert werden. Die CSV-Datei sollte neben der Kopfzeile und der Inhaltsdaten keine weiteren Informationen enthalten.\n",
    "\n",
    "3.  Spalten sollten immer Überschriften haben. Dies fehlt hier für **V1** und **V2**.\n",
    "\n",
    "4.  Auf Umlaute und Sonderzeichen ist zu verzichten. Dies führt zu einer fehlerhaften Anzeige. In **V1 Zeile 87** wird das Sonderzeichen \"Copyright\" nicht logisch erkannt und als \"\\xa9.\" angezeigt. In den Spalten **V1** und **V2** werden Wörter mit Umlauten wie *\"männlich\", \"\"für\", \"Lehrkräfte\", etc.* alle fehlerhaft angezeigt. Um größtmögliche Kompatibilität zu anderen Programmen zu gewährleisten, sollten Dateien immer der UTF-8-Zeichenkodierung folgen.\n",
    "Andernfalls können Probleme bei der maschinellen Verarbeitung entstehen, wie Sie in der Tabelle erkennen können.\n",
    "\n",
    "Wenn Sie mehr zum Thema *\"hochwertiger Datenaufbau\"* wissen möchten, werfen Sie gerne einen Blick in den [NQDM-Leitfaden](https://nqdm-projekt.de/de/downloads/leitfaden)."
   ]
  },
  {
   "cell_type": "markdown",
   "id": "47680557",
   "metadata": {
    "lines_to_next_cell": 0
   },
   "source": [
    "------------------------------------------------------------------------\n",
    "\n",
    "## 5 Daten aufbereiten\\\n",
    "Im folgenden Abschnitt werden die zuletzt erwähnten Qualitätsmängel der Datendarstellung behoben und die Daten zur Auswertung vorbereitet.\n",
    "\n",
    "**Problem der Zeichenkodierung**\\\n",
    "Im Default interpretiert **R** Dokumente als UTF-8 (Unicode) kodiert. Dies ist die Ausgangseinstellung und **R-Skripte** werden mit dieser Zeichenkodierung ebenfalls abgespeichert, solange Sie dies nicht manuell ändern. Beim Laden von nicht UTF-8 kodierten Dateien kann es jedoch zu Anzeigeproblemen kommen, wie in der Tabelle feststellbar. Siehe beispielsweise Zelle V2 Zeile 8:\\"
   ]
  },
  {
   "cell_type": "code",
   "execution_count": 10,
   "id": "adffabb2",
   "metadata": {
    "tags": [
     "remove_input"
    ]
   },
   "outputs": [
    {
     "data": {
      "text/html": [
       "'m\\xe4nnlich'"
      ],
      "text/latex": [
       "'m\\textbackslash{}xe4nnlich'"
      ],
      "text/markdown": [
       "'m\\xe4nnlich'"
      ],
      "text/plain": [
       "[1] \"m\\xe4nnlich\""
      ]
     },
     "metadata": {},
     "output_type": "display_data"
    }
   ],
   "source": [
    "data_csv[8,2]"
   ]
  },
  {
   "cell_type": "markdown",
   "id": "39425fc0",
   "metadata": {
    "lines_to_next_cell": 0
   },
   "source": [
    "Solch eine Anzeige spricht dafür, dass ein ISO 8859-1 (\"Latin-1\") kodiertes Dokument inklusive Umlauten als UTF-8 interpretiert wird. Damit Ihre Datei kompatibel und gut maschinell lesbar für andere Programme bleibt, sollten Sie stets eine UFT-8 Kodierung beibehalten. Eine bessere Anzeige können Sie trotzdem mit folgenden Schritten erreichen.\\\n",
    "\\\n",
    "\\\n",
    "**Lösungsansätze**\\\n",
    "Sie können die Datei als ISO 8859-1 (\"Latin-1\") kodiert laden. Hierzu müssen Sie zum bekannten Einlesebefehl nur den Zusatz `encoding = \"latin1\"` hinzufügen, damit **R** weiß, welche Zeichenkodierung im Dokument verwendet wurde:"
   ]
  },
  {
   "cell_type": "code",
   "execution_count": 11,
   "id": "d36033ec",
   "metadata": {},
   "outputs": [],
   "source": [
    "data_csv_clean <- read.csv2(\"21341-0001_$F.csv\", header = FALSE, encoding = \"latin1\")"
   ]
  },
  {
   "cell_type": "markdown",
   "id": "16ff2ad8",
   "metadata": {
    "lines_to_next_cell": 0
   },
   "source": [
    "Wenn Sie schnell überprüfen möchten, ob die Umlaute nun korrekt angezeigt werden, können Sie den Befehl `head()` benutzen. Hierdurch werden nur die ersten Zeilen Ihrer Tabelle angezeigt."
   ]
  },
  {
   "cell_type": "code",
   "execution_count": 12,
   "id": "93886896",
   "metadata": {
    "lines_to_next_cell": 0
   },
   "outputs": [
    {
     "data": {
      "text/html": [
       "<table class=\"dataframe\">\n",
       "<caption>A data.frame: 6 × 3</caption>\n",
       "<thead>\n",
       "\t<tr><th></th><th scope=col>V1</th><th scope=col>V2</th><th scope=col>V3</th></tr>\n",
       "\t<tr><th></th><th scope=col>&lt;chr&gt;</th><th scope=col>&lt;chr&gt;</th><th scope=col>&lt;chr&gt;</th></tr>\n",
       "</thead>\n",
       "<tbody>\n",
       "\t<tr><th scope=row>1</th><td>GENESIS-Tabelle: 21341-0001                              </td><td></td><td></td></tr>\n",
       "\t<tr><th scope=row>2</th><td>Personal an Hochschulen: Deutschland, Jahre,             </td><td></td><td></td></tr>\n",
       "\t<tr><th scope=row>3</th><td>Personalgruppen nach Beschäftigungsverhältnis, Geschlecht</td><td></td><td></td></tr>\n",
       "\t<tr><th scope=row>4</th><td>Statistik des Hochschulpersonals                         </td><td></td><td></td></tr>\n",
       "\t<tr><th scope=row>5</th><td>Deutschland                                              </td><td></td><td></td></tr>\n",
       "\t<tr><th scope=row>6</th><td>Personal an Hochschulen (Anzahl)                         </td><td></td><td></td></tr>\n",
       "</tbody>\n",
       "</table>\n"
      ],
      "text/latex": [
       "A data.frame: 6 × 3\n",
       "\\begin{tabular}{r|lll}\n",
       "  & V1 & V2 & V3\\\\\n",
       "  & <chr> & <chr> & <chr>\\\\\n",
       "\\hline\n",
       "\t1 & GENESIS-Tabelle: 21341-0001                               &  & \\\\\n",
       "\t2 & Personal an Hochschulen: Deutschland, Jahre,              &  & \\\\\n",
       "\t3 & Personalgruppen nach Beschäftigungsverhältnis, Geschlecht &  & \\\\\n",
       "\t4 & Statistik des Hochschulpersonals                          &  & \\\\\n",
       "\t5 & Deutschland                                               &  & \\\\\n",
       "\t6 & Personal an Hochschulen (Anzahl)                          &  & \\\\\n",
       "\\end{tabular}\n"
      ],
      "text/markdown": [
       "\n",
       "A data.frame: 6 × 3\n",
       "\n",
       "| <!--/--> | V1 &lt;chr&gt; | V2 &lt;chr&gt; | V3 &lt;chr&gt; |\n",
       "|---|---|---|---|\n",
       "| 1 | GENESIS-Tabelle: 21341-0001                               | <!----> | <!----> |\n",
       "| 2 | Personal an Hochschulen: Deutschland, Jahre,              | <!----> | <!----> |\n",
       "| 3 | Personalgruppen nach Beschäftigungsverhältnis, Geschlecht | <!----> | <!----> |\n",
       "| 4 | Statistik des Hochschulpersonals                          | <!----> | <!----> |\n",
       "| 5 | Deutschland                                               | <!----> | <!----> |\n",
       "| 6 | Personal an Hochschulen (Anzahl)                          | <!----> | <!----> |\n",
       "\n"
      ],
      "text/plain": [
       "  V1                                                        V2 V3\n",
       "1 GENESIS-Tabelle: 21341-0001                                    \n",
       "2 Personal an Hochschulen: Deutschland, Jahre,                   \n",
       "3 Personalgruppen nach Beschäftigungsverhältnis, Geschlecht      \n",
       "4 Statistik des Hochschulpersonals                               \n",
       "5 Deutschland                                                    \n",
       "6 Personal an Hochschulen (Anzahl)                               "
      ]
     },
     "metadata": {},
     "output_type": "display_data"
    }
   ],
   "source": [
    "head(data_csv_clean)"
   ]
  },
  {
   "cell_type": "markdown",
   "id": "6f98413c",
   "metadata": {
    "lines_to_next_cell": 0
   },
   "source": [
    "An dem Wort \"Beschäftigungsverältnis\" in Zeile 3 sehen Sie, dass die CSV-Datei nun korrekt gelesen wird. Wie bereits erwähnt sollte Sie auf Umlaute jedoch in Gänze verzichten.\\\n",
    "\\"
   ]
  },
  {
   "cell_type": "code",
   "execution_count": 13,
   "id": "14abfab5",
   "metadata": {
    "eval": false,
    "lines_to_next_cell": 2,
    "tags": [
     "remove_input"
    ]
   },
   "outputs": [
    {
     "name": "stderr",
     "output_type": "stream",
     "text": [
      "Updating HTML index of packages in '.Library'\n",
      "\n",
      "Making 'packages.html' ...\n",
      " done\n",
      "\n"
     ]
    }
   ],
   "source": [
    "install.packages(\"pandoc\")"
   ]
  },
  {
   "cell_type": "code",
   "execution_count": 14,
   "id": "0fceacd6",
   "metadata": {
    "lines_to_next_cell": 0,
    "tags": [
     "remove_input"
    ]
   },
   "outputs": [],
   "source": [
    "library(pandoc)"
   ]
  },
  {
   "cell_type": "markdown",
   "id": "da4dddf1",
   "metadata": {},
   "source": [
    "*Alternative:*\\\n",
    "Um Probleme mit der Zeichenkodierung zu vermeiden, speichern Sie am besten schon im Vorhinein Ihre Datei mit UTF-8 Kodierung ab. Dies können Sie meist direkt unter den `Speichern unter...` Dateiformaten auswählen:\n",
    "\n",
    "![Abspeichern mit UTF-8 Kodierung](C:/Users/ant87282/Pictures/Camera Roll/Screenshot_abspeichern_UTF8_ 2024-04-15 172941.png){#id .class width=600 height=px}\\\n",
    "\\\n",
    "\n",
    "### Umlaute entfernen\\\n",
    "\n",
    "Mittels des Befehls `str_replace_all` können Sie einzelne Buchstaben in Ihrer Tabelle ersetzen. Dies ist jedoch nur separat für einzelne Spalten möglich.  "
   ]
  },
  {
   "cell_type": "code",
   "execution_count": 15,
   "id": "e1c2c32f",
   "metadata": {
    "lines_to_next_cell": 0
   },
   "outputs": [],
   "source": [
    "data_csv_clean$V1 <- str_replace_all(data_csv_clean$V1, c(\"ä\" = \"ae\", \"ö\" = \"oe\", \"ü\" =\"ue\", \"ß\" =\"ss\"))\n",
    "data_csv_clean$V2 <- str_replace_all(data_csv_clean$V2, c(\"ä\" = \"ae\", \"ö\" = \"oe\", \"ü\" =\"ue\", \"ß\" =\"ss\"))"
   ]
  },
  {
   "cell_type": "markdown",
   "id": "6c6e2e28",
   "metadata": {},
   "source": [
    "**Erklärung des Codes:**\\\n",
    "\n",
    "- `data_csv_utf8$V1`:\\\n",
    "Durch das Anhängen eines `$`- Zeichens an den Namen der Tabelle signalisieren Sie **R**, dass Sie sich nur auf einen bestimmte Variable - hier die Spalte **V1** - beziehen möchten.\\\n",
    "\n",
    "- `str_replace_all`:\\\n",
    "Suchen und ersetzen von einzelnen Zeichen(-ketten) in ihrer Tabelle.\\\n",
    "\n",
    "- `c(\"ä\" = \"ae\", \"ö\" = \"oe\",...)`:\\\n",
    "Der Befehl `c` erstellt einen Vektor. Ein Vektor kombiniert von Ihnen festgelegte Zahlen- oder Zeichenketten (letzteres wird auch **\"String\"** genannt). Ein String ist z.B. c(\"Apfel\", \"Birne\", \"Kiwi\").\\\n",
    "Im hier verwendeten Zusammenhang mit `str_replace_all()` wird **R** befohlen, alle \"ä\" durch \"ae\" zu ersetzen und alle \"ö\" durch \"oe\" usw..\\\n",
    "\\\n",
    "\\\n",
    "\n",
    "**Ergebnis ansehen**:\\\n",
    "Über die `show()` -Funktion könnten Sie jetzt die Tabelle erneut sichten und überprüfen, ob die Zeichenumkodierung funktioniert hat.\n",
    "Wenn Ihre Tabelle jedoch sehr lang ist (so wie in diesem Fall) und Sie nur einen Teil Ihrer Tabelle betrachten möchten, können Sie sich auch nur bestimmte Bereiche anzeigen lassen. Hierfür setzen Sie hinter den Dateinamen eckige Klammern und bestimmen den Wertebereich:`[*Zeilenbereich*,*Spaltenbereich*]`.\\\n",
    "\n",
    "*Hinweis: Wenn Sie einen Wertebereich angeben wollen, platzieren Sie zwischen den ersten und letzten Wert einen Doppelpunkt`:` und * **R** *inkludiert alle dazwischenliegenden Werte (\"von... bis...\"). Ein Komma separiert Bereiche.*\\\n",
    "\\\n",
    "**Allgemeines Beispiel:** "
   ]
  },
  {
   "cell_type": "code",
   "execution_count": 16,
   "id": "7296b2c6",
   "metadata": {
    "lines_to_next_cell": 0
   },
   "outputs": [
    {
     "data": {
      "text/html": [
       "<style>\n",
       ".list-inline {list-style: none; margin:0; padding: 0}\n",
       ".list-inline>li {display: inline-block}\n",
       ".list-inline>li:not(:last-child)::after {content: \"\\00b7\"; padding: 0 .5ex}\n",
       "</style>\n",
       "<ol class=list-inline><li>1</li><li>2</li><li>3</li><li>4</li><li>5</li></ol>\n"
      ],
      "text/latex": [
       "\\begin{enumerate*}\n",
       "\\item 1\n",
       "\\item 2\n",
       "\\item 3\n",
       "\\item 4\n",
       "\\item 5\n",
       "\\end{enumerate*}\n"
      ],
      "text/markdown": [
       "1. 1\n",
       "2. 2\n",
       "3. 3\n",
       "4. 4\n",
       "5. 5\n",
       "\n",
       "\n"
      ],
      "text/plain": [
       "[1] 1 2 3 4 5"
      ]
     },
     "metadata": {},
     "output_type": "display_data"
    }
   ],
   "source": [
    "1:5"
   ]
  },
  {
   "cell_type": "markdown",
   "id": "ca6c00cf",
   "metadata": {
    "lines_to_next_cell": 0
   },
   "source": [
    "Ein Vektor mit Wertebereichen:"
   ]
  },
  {
   "cell_type": "code",
   "execution_count": 17,
   "id": "e09c10b8",
   "metadata": {
    "lines_to_next_cell": 0
   },
   "outputs": [
    {
     "data": {
      "text/html": [
       "<style>\n",
       ".list-inline {list-style: none; margin:0; padding: 0}\n",
       ".list-inline>li {display: inline-block}\n",
       ".list-inline>li:not(:last-child)::after {content: \"\\00b7\"; padding: 0 .5ex}\n",
       "</style>\n",
       "<ol class=list-inline><li>1</li><li>2</li><li>3</li><li>4</li><li>5</li><li>11</li><li>12</li><li>13</li><li>14</li><li>15</li></ol>\n"
      ],
      "text/latex": [
       "\\begin{enumerate*}\n",
       "\\item 1\n",
       "\\item 2\n",
       "\\item 3\n",
       "\\item 4\n",
       "\\item 5\n",
       "\\item 11\n",
       "\\item 12\n",
       "\\item 13\n",
       "\\item 14\n",
       "\\item 15\n",
       "\\end{enumerate*}\n"
      ],
      "text/markdown": [
       "1. 1\n",
       "2. 2\n",
       "3. 3\n",
       "4. 4\n",
       "5. 5\n",
       "6. 11\n",
       "7. 12\n",
       "8. 13\n",
       "9. 14\n",
       "10. 15\n",
       "\n",
       "\n"
      ],
      "text/plain": [
       " [1]  1  2  3  4  5 11 12 13 14 15"
      ]
     },
     "metadata": {},
     "output_type": "display_data"
    }
   ],
   "source": [
    "c(1:5, 11:15)"
   ]
  },
  {
   "cell_type": "markdown",
   "id": "79c61054",
   "metadata": {},
   "source": [
    "\\\n",
    "\n",
    "**Angewendet auf die vorliegende CSV-Tabelle:**"
   ]
  },
  {
   "cell_type": "code",
   "execution_count": 18,
   "id": "11c951a2",
   "metadata": {},
   "outputs": [
    {
     "name": "stdout",
     "output_type": "stream",
     "text": [
      "                                                     V1        V2     V3\n",
      "8       Wissenschaftliches und kuenstlerisches Personal maennlich 247720\n",
      "9       Wissenschaftliches und kuenstlerisches Personal  weiblich 167112\n",
      "10      Wissenschaftliches und kuenstlerisches Personal Insgesamt 414832\n",
      "11   Hauptberufl. wissenschaftl. u. kuenstler. Personal maennlich 159567\n",
      "12   Hauptberufl. wissenschaftl. u. kuenstler. Personal  weiblich 109708\n",
      "13   Hauptberufl. wissenschaftl. u. kuenstler. Personal Insgesamt 269275\n",
      "14                                          Professoren maennlich  36344\n",
      "15                                          Professoren  weiblich  12949\n",
      "16                                          Professoren Insgesamt  49293\n",
      "17                             Dozenten und Assistenten maennlich   2182\n",
      "18                             Dozenten und Assistenten  weiblich   1546\n",
      "19                             Dozenten und Assistenten Insgesamt   3728\n",
      "20     Wissenschaftliche und kuenstlerische Mitarbeiter maennlich 116004\n"
     ]
    }
   ],
   "source": [
    "show(data_csv_clean[8:20,1:3])"
   ]
  },
  {
   "cell_type": "markdown",
   "id": "0140d29d",
   "metadata": {},
   "source": [
    "Wie Sie erkennen können, wurden die Umlaute erfolgreich umgeschrieben."
   ]
  },
  {
   "cell_type": "markdown",
   "id": "3129404a",
   "metadata": {
    "lines_to_next_cell": 0
   },
   "source": [
    "### Tabelle unterteilen\\\n",
    "Damit die Tabelle eine bessere Struktur erlangt, empfiehlt sich eine Separierung in Metadaten und  Tabellendaten.\\"
   ]
  },
  {
   "cell_type": "code",
   "execution_count": 19,
   "id": "3e0aaa4f",
   "metadata": {
    "lines_to_next_cell": 2
   },
   "outputs": [],
   "source": [
    "Metadaten <- data_csv_clean[c(1:6, 87:88), 1]\n",
    "Tabellendaten <- data_csv_clean[8:85, 1:3]"
   ]
  },
  {
   "cell_type": "markdown",
   "id": "d974afa6",
   "metadata": {
    "lines_to_next_cell": 0
   },
   "source": [
    "### Spaltenüberschriften setzen\n",
    "Der Befehl `colnames()`ermöglicht es Ihnen Spaltenüberschriften zu setzen.\\\n",
    "\n",
    "Sie können dies entweder für jede Spalte mit einem einzelnen Befehl durchführen:"
   ]
  },
  {
   "cell_type": "code",
   "execution_count": 20,
   "id": "9200c630",
   "metadata": {
    "eval": false
   },
   "outputs": [],
   "source": [
    "colnames(Tabellendaten)[1] <- \"Angestelltenverhaeltnis\""
   ]
  },
  {
   "cell_type": "markdown",
   "id": "62c8c2a2",
   "metadata": {
    "lines_to_next_cell": 0
   },
   "source": [
    "Oder alle Spaltenüberschriften mittels eines Vektors gleichzeitig neu setzen:"
   ]
  },
  {
   "cell_type": "code",
   "execution_count": 21,
   "id": "61dd0cf3",
   "metadata": {},
   "outputs": [
    {
     "data": {
      "text/html": [
       "<table class=\"dataframe\">\n",
       "<caption>A data.frame: 6 × 3</caption>\n",
       "<thead>\n",
       "\t<tr><th></th><th scope=col>Angestelltenverhaeltnis</th><th scope=col>Geschlecht</th><th scope=col>Angestelltenzahl_2020</th></tr>\n",
       "\t<tr><th></th><th scope=col>&lt;chr&gt;</th><th scope=col>&lt;chr&gt;</th><th scope=col>&lt;chr&gt;</th></tr>\n",
       "</thead>\n",
       "<tbody>\n",
       "\t<tr><th scope=row>8</th><td>Wissenschaftliches und kuenstlerisches Personal     </td><td>maennlich</td><td>247720</td></tr>\n",
       "\t<tr><th scope=row>9</th><td>Wissenschaftliches und kuenstlerisches Personal     </td><td>weiblich </td><td>167112</td></tr>\n",
       "\t<tr><th scope=row>10</th><td>Wissenschaftliches und kuenstlerisches Personal     </td><td>Insgesamt</td><td>414832</td></tr>\n",
       "\t<tr><th scope=row>11</th><td>  Hauptberufl. wissenschaftl. u. kuenstler. Personal</td><td>maennlich</td><td>159567</td></tr>\n",
       "\t<tr><th scope=row>12</th><td>  Hauptberufl. wissenschaftl. u. kuenstler. Personal</td><td>weiblich </td><td>109708</td></tr>\n",
       "\t<tr><th scope=row>13</th><td>  Hauptberufl. wissenschaftl. u. kuenstler. Personal</td><td>Insgesamt</td><td>269275</td></tr>\n",
       "</tbody>\n",
       "</table>\n"
      ],
      "text/latex": [
       "A data.frame: 6 × 3\n",
       "\\begin{tabular}{r|lll}\n",
       "  & Angestelltenverhaeltnis & Geschlecht & Angestelltenzahl\\_2020\\\\\n",
       "  & <chr> & <chr> & <chr>\\\\\n",
       "\\hline\n",
       "\t8 & Wissenschaftliches und kuenstlerisches Personal      & maennlich & 247720\\\\\n",
       "\t9 & Wissenschaftliches und kuenstlerisches Personal      & weiblich  & 167112\\\\\n",
       "\t10 & Wissenschaftliches und kuenstlerisches Personal      & Insgesamt & 414832\\\\\n",
       "\t11 &   Hauptberufl. wissenschaftl. u. kuenstler. Personal & maennlich & 159567\\\\\n",
       "\t12 &   Hauptberufl. wissenschaftl. u. kuenstler. Personal & weiblich  & 109708\\\\\n",
       "\t13 &   Hauptberufl. wissenschaftl. u. kuenstler. Personal & Insgesamt & 269275\\\\\n",
       "\\end{tabular}\n"
      ],
      "text/markdown": [
       "\n",
       "A data.frame: 6 × 3\n",
       "\n",
       "| <!--/--> | Angestelltenverhaeltnis &lt;chr&gt; | Geschlecht &lt;chr&gt; | Angestelltenzahl_2020 &lt;chr&gt; |\n",
       "|---|---|---|---|\n",
       "| 8 | Wissenschaftliches und kuenstlerisches Personal      | maennlich | 247720 |\n",
       "| 9 | Wissenschaftliches und kuenstlerisches Personal      | weiblich  | 167112 |\n",
       "| 10 | Wissenschaftliches und kuenstlerisches Personal      | Insgesamt | 414832 |\n",
       "| 11 |   Hauptberufl. wissenschaftl. u. kuenstler. Personal | maennlich | 159567 |\n",
       "| 12 |   Hauptberufl. wissenschaftl. u. kuenstler. Personal | weiblich  | 109708 |\n",
       "| 13 |   Hauptberufl. wissenschaftl. u. kuenstler. Personal | Insgesamt | 269275 |\n",
       "\n"
      ],
      "text/plain": [
       "   Angestelltenverhaeltnis                              Geschlecht\n",
       "8  Wissenschaftliches und kuenstlerisches Personal      maennlich \n",
       "9  Wissenschaftliches und kuenstlerisches Personal      weiblich  \n",
       "10 Wissenschaftliches und kuenstlerisches Personal      Insgesamt \n",
       "11   Hauptberufl. wissenschaftl. u. kuenstler. Personal maennlich \n",
       "12   Hauptberufl. wissenschaftl. u. kuenstler. Personal weiblich  \n",
       "13   Hauptberufl. wissenschaftl. u. kuenstler. Personal Insgesamt \n",
       "   Angestelltenzahl_2020\n",
       "8  247720               \n",
       "9  167112               \n",
       "10 414832               \n",
       "11 159567               \n",
       "12 109708               \n",
       "13 269275               "
      ]
     },
     "metadata": {},
     "output_type": "display_data"
    }
   ],
   "source": [
    "colnames(Tabellendaten) <- c(\"Angestelltenverhaeltnis\", \"Geschlecht\", \"Angestelltenzahl_2020\")\n",
    "\n",
    "#Ergebnis ansehen\n",
    "head(Tabellendaten) "
   ]
  },
  {
   "cell_type": "markdown",
   "id": "304c4d37",
   "metadata": {
    "lines_to_next_cell": 0
   },
   "source": [
    "Damit die Nummerierung der Tabellenzeilen nicht bei der Zahl 8 startet, empfiehlt sich die Nummerierung der Zeilen neu zu setzen. Herzu kann der Befehl `row.names` eingesetzt werden:"
   ]
  },
  {
   "cell_type": "code",
   "execution_count": 22,
   "id": "a0950a00",
   "metadata": {
    "lines_to_next_cell": 0
   },
   "outputs": [],
   "source": [
    "row.names(Tabellendaten) <- 1:78"
   ]
  },
  {
   "cell_type": "markdown",
   "id": "110d4be6",
   "metadata": {},
   "source": [
    "\\\n",
    "*Alternative:*\\\n",
    "Direkte manuelle Bearbeitung in der Tabelle:"
   ]
  },
  {
   "cell_type": "code",
   "execution_count": 23,
   "id": "5fad6b27",
   "metadata": {
    "eval": false,
    "lines_to_next_cell": 0
   },
   "outputs": [],
   "source": [
    "#edit(Tabellendaten) # edit not implemented in Jupyter R Kernel"
   ]
  },
  {
   "cell_type": "markdown",
   "id": "2fff01b1",
   "metadata": {},
   "source": [
    "**Achtung:** Es empfiehlt sich auf Befehle wie diese zu verzichten, da die Änderungen nicht im **R Skript** oder der **Console** angezeigt und somit **nicht nachvollzogen** werden können! \n",
    "\\\n",
    "\\\n",
    "\n",
    "------------------------------------------------------------------------\n",
    "\n",
    "## 6 Auswertung\\\n",
    "\n",
    "Der folgende Abschnitt thematisiert Auswertungsmöglichkeiten mit Fokus auf Untergruppierungen und Filterfunktionen.\\\n",
    "\n",
    "## Variablenklassen bestimmen\\\n",
    "Damit Sie Ihre Daten adäquat auswerten können, müssen Sie sich über die Struktur und Klasse der Variablen bewusst sein.\\\n",
    "\n",
    "**Die wichtigsten Variablenklassen im Überblick:**\\\n",
    "\n",
    "- `integer`: Ganze Zahlen.\\\n",
    "  Beispiel: 1,2,5.\n",
    "\n",
    "- `numeric`: Zahl mit Kommastellen.\\\n",
    "  Beispiel: 1.99, 2.33, 5.00.\n",
    "\n",
    "- `character`: Zeichenketten bzw. Strings.\\\n",
    "  Beispiel: \"Hallo\", \"Apfel\", \"Hannah\". \n",
    "\n",
    "- `factor`: Kategoriale Variablen.\\\n",
    "  Beispiel: \"schlecht\", \"gut\", \"sehr gut\""
   ]
  },
  {
   "cell_type": "markdown",
   "id": "2bd3ea19",
   "metadata": {
    "lines_to_next_cell": 0
   },
   "source": [
    "Die Variablenklasse ist ausschlaggebend dafür, wie Sie die Variablendaten auswerten können. Beispielsweise können Sie mit einer `numeric` -Variable rechnen, mit einer `character` -Variable jedoch nicht. \n",
    "\\\n",
    "\\\n",
    "**Variablenklassen bestimmen im Code:**\\\n",
    "Der Befehl `class()`gibt uns die jeweilige Klasse des Objektes wieder:\\"
   ]
  },
  {
   "cell_type": "code",
   "execution_count": 24,
   "id": "94dc503c",
   "metadata": {
    "lines_to_next_cell": 0
   },
   "outputs": [
    {
     "data": {
      "text/html": [
       "'character'"
      ],
      "text/latex": [
       "'character'"
      ],
      "text/markdown": [
       "'character'"
      ],
      "text/plain": [
       "[1] \"character\""
      ]
     },
     "metadata": {},
     "output_type": "display_data"
    },
    {
     "data": {
      "text/html": [
       "'character'"
      ],
      "text/latex": [
       "'character'"
      ],
      "text/markdown": [
       "'character'"
      ],
      "text/plain": [
       "[1] \"character\""
      ]
     },
     "metadata": {},
     "output_type": "display_data"
    },
    {
     "data": {
      "text/html": [
       "'character'"
      ],
      "text/latex": [
       "'character'"
      ],
      "text/markdown": [
       "'character'"
      ],
      "text/plain": [
       "[1] \"character\""
      ]
     },
     "metadata": {},
     "output_type": "display_data"
    }
   ],
   "source": [
    "class(Tabellendaten$Angestelltenverhaeltnis) #sollte als character oder factor gelesen werden\n",
    "class(Tabellendaten$Geschlecht) #sollte als character oder factor gelesen werden\n",
    "class(Tabellendaten$Angestelltenzahl_2020) #sollte als numerisch oder integer gelesen werden"
   ]
  },
  {
   "cell_type": "markdown",
   "id": "271bfb3a",
   "metadata": {},
   "source": [
    "Die Variablenklassen für \"Angestelltenverhältnis\" und \"Geschlecht\" sind passend. Die Variable \"\"Angestelltenzahl_2020\" wird jedoch auch als `character` interpretiert. Dies muss manuell geändert werden, da sonst bestimmte Auswertungen nicht möglich sind und Fehler entstehen können.\\\n",
    "\n",
    "> **Tipp:**\\\n",
    "Im *Environment* Fenster können Sie die Variablenklasse ebenfalls schnell einsehen:\\\n",
    "\n",
    "![Variablenklassen im Environment-Fenster](C:\\Users\\ant87282\\Pictures\\Camera Roll\\Screenshot_R_Environment_Variablenklassen.png){#id .class width=600 height=px}\\\n",
    "\\\n",
    "\\\n",
    "\n",
    "**Fallbeispiel:**\n",
    "Betrachten Sie die Funktion `max()`, welche den Maximalwert in der jeweiligen Spalte zurückgeben soll. Hinweis: `na.rm = TRUE` muss hinzugefügt werden, damit die nicht vorhandenen Werte nicht berücksichtigt werden, ansonsten kommt es zu einem Error.\\"
   ]
  },
  {
   "cell_type": "code",
   "execution_count": 25,
   "id": "1cada47b",
   "metadata": {},
   "outputs": [
    {
     "data": {
      "text/html": [
       "'99730'"
      ],
      "text/latex": [
       "'99730'"
      ],
      "text/markdown": [
       "'99730'"
      ],
      "text/plain": [
       "[1] \"99730\""
      ]
     },
     "metadata": {},
     "output_type": "display_data"
    }
   ],
   "source": [
    "max(Tabellendaten$Angestelltenzahl_2020, na.rm = TRUE)"
   ]
  },
  {
   "cell_type": "markdown",
   "id": "9e9a57a4",
   "metadata": {
    "lines_to_next_cell": 0
   },
   "source": [
    "Wenn Sie jedoch einen Blick in die Tabelle werfen, sehen Sie schnell, dass es mehrere Angestelltenzahlen über 100.000 gibt. Die ausgegebene Zahl kann also nicht stimmen!\\\n",
    "\n",
    "**Wie kann es zu solch einem Fehler kommen?**\\\n",
    "Da die Variable \"Angestelltenzahl_2020\" als `character` interpretiert wird, ändert sich auch die Bedeutung der Funktion `max()`. Die Funkion `max()` gibt nun nicht mehr den Maximalwert zurück, sondern den niedrigsten Platz in alphabetischer Sortierung.\\ \n",
    "Nur wenn wenn die Werte in der Tabelle auch als Zahlen (also numerisch/integer) von **R** gelesen werden, gibt die Funktion `max()` den Maximalwert der Spalte zurück.\\\n",
    "\\\n",
    "\\\n",
    "\n",
    "### Variablenklasse ändern\\\n",
    "\n",
    "Hierfür überspeichern Sie die Daten der jeweiligen Spalte mit den exakt selben Daten, nur das Sie durch den Befehl `as.integer` die Klasse der Variable ändern. Wenn Sie die Klasse in numerisch ändern wollen würden Sie `as.numeric` usw. verwenden.\\"
   ]
  },
  {
   "cell_type": "code",
   "execution_count": 26,
   "id": "b78ff9cb",
   "metadata": {
    "warning": false
   },
   "outputs": [
    {
     "name": "stderr",
     "output_type": "stream",
     "text": [
      "Warning message in eval(expr, envir, enclos):\n",
      "“NAs introduced by coercion”\n"
     ]
    }
   ],
   "source": [
    "Tabellendaten$Angestelltenzahl_2020 <- as.integer(Tabellendaten$Angestelltenzahl_2020)"
   ]
  },
  {
   "cell_type": "markdown",
   "id": "1c47e0cd",
   "metadata": {
    "lines_to_next_cell": 0
   },
   "source": [
    "Überprüfen Sie gegebenenfalls erneut die Klasse:"
   ]
  },
  {
   "cell_type": "code",
   "execution_count": 27,
   "id": "699c3998",
   "metadata": {},
   "outputs": [
    {
     "data": {
      "text/html": [
       "'integer'"
      ],
      "text/latex": [
       "'integer'"
      ],
      "text/markdown": [
       "'integer'"
      ],
      "text/plain": [
       "[1] \"integer\""
      ]
     },
     "metadata": {},
     "output_type": "display_data"
    }
   ],
   "source": [
    "class(Tabellendaten$Angestelltenzahl_2020)"
   ]
  },
  {
   "cell_type": "markdown",
   "id": "40d9a35f",
   "metadata": {
    "lines_to_next_cell": 0
   },
   "source": [
    "Wenn Sie nun noch einmal die Beispielfunktion `max()` heranziehen, dann bekommen Sie jetzt durch neuer Klassenzugehörigkeit der Variable den Maximalwert angezeigt:"
   ]
  },
  {
   "cell_type": "code",
   "execution_count": 28,
   "id": "46f9268e",
   "metadata": {
    "lines_to_next_cell": 0
   },
   "outputs": [
    {
     "data": {
      "text/html": [
       "759065"
      ],
      "text/latex": [
       "759065"
      ],
      "text/markdown": [
       "759065"
      ],
      "text/plain": [
       "[1] 759065"
      ]
     },
     "metadata": {},
     "output_type": "display_data"
    }
   ],
   "source": [
    "max(Tabellendaten$Angestelltenzahl_2020, na.rm = TRUE)"
   ]
  },
  {
   "cell_type": "markdown",
   "id": "1e9227b8",
   "metadata": {},
   "source": [
    "> **Merken:** Überprüfen Sie immer die Art der Variablenklasse, welche **R** Ihren Daten zuweist und ändern Sie dies gegebenenfalls, um Fehler zu vermeiden.\n",
    "\n",
    "\\\n",
    "\n",
    "### Variablen hinzufügen\\\n",
    "\n",
    "Eine gute **Kategorisierung** Ihrer Daten ist notwendig, um effizient zu filtern. Hierzu müssen Sie die Struktur der Daten nachvollziehen können.\\\n",
    "Um die einzelnen Ausprägung der Variable \"Angestelltenverhaeltnis\" zu sichten, bietet Ihnen **R** den Befehl `unique()`:"
   ]
  },
  {
   "cell_type": "code",
   "execution_count": 29,
   "id": "b38ba5dc",
   "metadata": {
    "lines_to_next_cell": 0
   },
   "outputs": [
    {
     "data": {
      "text/html": [
       "<style>\n",
       ".list-inline {list-style: none; margin:0; padding: 0}\n",
       ".list-inline>li {display: inline-block}\n",
       ".list-inline>li:not(:last-child)::after {content: \"\\00b7\"; padding: 0 .5ex}\n",
       "</style>\n",
       "<ol class=list-inline><li>'Wissenschaftliches und kuenstlerisches Personal'</li><li><span style=white-space:pre-wrap>'  Hauptberufl. wissenschaftl. u. kuenstler. Personal'</span></li><li><span style=white-space:pre-wrap>'    Professoren'</span></li><li><span style=white-space:pre-wrap>'    Dozenten und Assistenten'</span></li><li><span style=white-space:pre-wrap>'    Wissenschaftliche und kuenstlerische Mitarbeiter'</span></li><li><span style=white-space:pre-wrap>'    Lehrkraefte fuer besondere Aufgaben'</span></li><li><span style=white-space:pre-wrap>'  Nebenberufl. wissenschaftl. u. kuenstler. Personal'</span></li><li><span style=white-space:pre-wrap>'    Gastprofessoren, Emeriti'</span></li><li><span style=white-space:pre-wrap>'    Lehrbeauftragte'</span></li><li><span style=white-space:pre-wrap>'    Wissenschaftliche Hilfskraefte'</span></li><li>'Verwaltungs-, technisches und sonstiges Personal'</li><li><span style=white-space:pre-wrap>'  Hauptberufl. Verwaltungs-, techn. u.sonst.Personal'</span></li><li><span style=white-space:pre-wrap>'    Verwaltungspersonal'</span></li><li><span style=white-space:pre-wrap>'    Bibliothekspersonal'</span></li><li><span style=white-space:pre-wrap>'    Technisches Personal'</span></li><li><span style=white-space:pre-wrap>'    Sonstiges Personal'</span></li><li><span style=white-space:pre-wrap>'    Pflegepersonal'</span></li><li><span style=white-space:pre-wrap>'    Arbeiter'</span></li><li><span style=white-space:pre-wrap>'    Auszubildende'</span></li><li><span style=white-space:pre-wrap>'    Praktikanten'</span></li><li><span style=white-space:pre-wrap>'    Sonstiges Personal fuer Lehre und Forschung'</span></li><li><span style=white-space:pre-wrap>'    Leitungs- und Verwaltungspersonal'</span></li><li><span style=white-space:pre-wrap>'  Nebenberufl. Verwaltungs-, techn. u.sonst.Personal'</span></li><li><span style=white-space:pre-wrap>'    Sonstige Hilfskraefte'</span></li><li><span style=white-space:pre-wrap>'    Zeitweilig Beschaeftigte'</span></li><li>'Insgesamt'</li></ol>\n"
      ],
      "text/latex": [
       "\\begin{enumerate*}\n",
       "\\item 'Wissenschaftliches und kuenstlerisches Personal'\n",
       "\\item '  Hauptberufl. wissenschaftl. u. kuenstler. Personal'\n",
       "\\item '    Professoren'\n",
       "\\item '    Dozenten und Assistenten'\n",
       "\\item '    Wissenschaftliche und kuenstlerische Mitarbeiter'\n",
       "\\item '    Lehrkraefte fuer besondere Aufgaben'\n",
       "\\item '  Nebenberufl. wissenschaftl. u. kuenstler. Personal'\n",
       "\\item '    Gastprofessoren, Emeriti'\n",
       "\\item '    Lehrbeauftragte'\n",
       "\\item '    Wissenschaftliche Hilfskraefte'\n",
       "\\item 'Verwaltungs-, technisches und sonstiges Personal'\n",
       "\\item '  Hauptberufl. Verwaltungs-, techn. u.sonst.Personal'\n",
       "\\item '    Verwaltungspersonal'\n",
       "\\item '    Bibliothekspersonal'\n",
       "\\item '    Technisches Personal'\n",
       "\\item '    Sonstiges Personal'\n",
       "\\item '    Pflegepersonal'\n",
       "\\item '    Arbeiter'\n",
       "\\item '    Auszubildende'\n",
       "\\item '    Praktikanten'\n",
       "\\item '    Sonstiges Personal fuer Lehre und Forschung'\n",
       "\\item '    Leitungs- und Verwaltungspersonal'\n",
       "\\item '  Nebenberufl. Verwaltungs-, techn. u.sonst.Personal'\n",
       "\\item '    Sonstige Hilfskraefte'\n",
       "\\item '    Zeitweilig Beschaeftigte'\n",
       "\\item 'Insgesamt'\n",
       "\\end{enumerate*}\n"
      ],
      "text/markdown": [
       "1. 'Wissenschaftliches und kuenstlerisches Personal'\n",
       "2. <span style=white-space:pre-wrap>'  Hauptberufl. wissenschaftl. u. kuenstler. Personal'</span>\n",
       "3. <span style=white-space:pre-wrap>'    Professoren'</span>\n",
       "4. <span style=white-space:pre-wrap>'    Dozenten und Assistenten'</span>\n",
       "5. <span style=white-space:pre-wrap>'    Wissenschaftliche und kuenstlerische Mitarbeiter'</span>\n",
       "6. <span style=white-space:pre-wrap>'    Lehrkraefte fuer besondere Aufgaben'</span>\n",
       "7. <span style=white-space:pre-wrap>'  Nebenberufl. wissenschaftl. u. kuenstler. Personal'</span>\n",
       "8. <span style=white-space:pre-wrap>'    Gastprofessoren, Emeriti'</span>\n",
       "9. <span style=white-space:pre-wrap>'    Lehrbeauftragte'</span>\n",
       "10. <span style=white-space:pre-wrap>'    Wissenschaftliche Hilfskraefte'</span>\n",
       "11. 'Verwaltungs-, technisches und sonstiges Personal'\n",
       "12. <span style=white-space:pre-wrap>'  Hauptberufl. Verwaltungs-, techn. u.sonst.Personal'</span>\n",
       "13. <span style=white-space:pre-wrap>'    Verwaltungspersonal'</span>\n",
       "14. <span style=white-space:pre-wrap>'    Bibliothekspersonal'</span>\n",
       "15. <span style=white-space:pre-wrap>'    Technisches Personal'</span>\n",
       "16. <span style=white-space:pre-wrap>'    Sonstiges Personal'</span>\n",
       "17. <span style=white-space:pre-wrap>'    Pflegepersonal'</span>\n",
       "18. <span style=white-space:pre-wrap>'    Arbeiter'</span>\n",
       "19. <span style=white-space:pre-wrap>'    Auszubildende'</span>\n",
       "20. <span style=white-space:pre-wrap>'    Praktikanten'</span>\n",
       "21. <span style=white-space:pre-wrap>'    Sonstiges Personal fuer Lehre und Forschung'</span>\n",
       "22. <span style=white-space:pre-wrap>'    Leitungs- und Verwaltungspersonal'</span>\n",
       "23. <span style=white-space:pre-wrap>'  Nebenberufl. Verwaltungs-, techn. u.sonst.Personal'</span>\n",
       "24. <span style=white-space:pre-wrap>'    Sonstige Hilfskraefte'</span>\n",
       "25. <span style=white-space:pre-wrap>'    Zeitweilig Beschaeftigte'</span>\n",
       "26. 'Insgesamt'\n",
       "\n",
       "\n"
      ],
      "text/plain": [
       " [1] \"Wissenschaftliches und kuenstlerisches Personal\"     \n",
       " [2] \"  Hauptberufl. wissenschaftl. u. kuenstler. Personal\"\n",
       " [3] \"    Professoren\"                                     \n",
       " [4] \"    Dozenten und Assistenten\"                        \n",
       " [5] \"    Wissenschaftliche und kuenstlerische Mitarbeiter\"\n",
       " [6] \"    Lehrkraefte fuer besondere Aufgaben\"             \n",
       " [7] \"  Nebenberufl. wissenschaftl. u. kuenstler. Personal\"\n",
       " [8] \"    Gastprofessoren, Emeriti\"                        \n",
       " [9] \"    Lehrbeauftragte\"                                 \n",
       "[10] \"    Wissenschaftliche Hilfskraefte\"                  \n",
       "[11] \"Verwaltungs-, technisches und sonstiges Personal\"    \n",
       "[12] \"  Hauptberufl. Verwaltungs-, techn. u.sonst.Personal\"\n",
       "[13] \"    Verwaltungspersonal\"                             \n",
       "[14] \"    Bibliothekspersonal\"                             \n",
       "[15] \"    Technisches Personal\"                            \n",
       "[16] \"    Sonstiges Personal\"                              \n",
       "[17] \"    Pflegepersonal\"                                  \n",
       "[18] \"    Arbeiter\"                                        \n",
       "[19] \"    Auszubildende\"                                   \n",
       "[20] \"    Praktikanten\"                                    \n",
       "[21] \"    Sonstiges Personal fuer Lehre und Forschung\"     \n",
       "[22] \"    Leitungs- und Verwaltungspersonal\"               \n",
       "[23] \"  Nebenberufl. Verwaltungs-, techn. u.sonst.Personal\"\n",
       "[24] \"    Sonstige Hilfskraefte\"                           \n",
       "[25] \"    Zeitweilig Beschaeftigte\"                        \n",
       "[26] \"Insgesamt\"                                           "
      ]
     },
     "metadata": {},
     "output_type": "display_data"
    }
   ],
   "source": [
    "unique(Tabellendaten$Angestelltenverhaeltnis)"
   ]
  },
  {
   "cell_type": "markdown",
   "id": "cb518432",
   "metadata": {
    "lines_to_next_cell": 0
   },
   "source": [
    "Wie Sie erkennen können, ist die Variable \"Angestelltenverhaeltnis\" recht unübersichtlich, da sie verschiedene Unterkategorien enthält. Bei Betrachtung der einzelnen Positionen ist jedoch nicht erkennbar, zu welcher Überkategorie die Position gehört.\\\n",
    "\n",
    "**Bei genauerer Betrachtung der Tabelle fällt auf, dass es drei Ebenen gibt:**\n",
    "\n",
    "1. Ebene: \"Wissenschaftliches und künstlerisches Personal\" und \"Verwaltungs-, technisches und sonstiges Personal\"\\\n",
    "\n",
    "2. Ebene: \"Hauptberuflich\" und \"Nebenberuflich\"\n",
    "\n",
    "3. Ebene: Die einzelnen Positionen der Berufsbezeichnungen z.B. \"Professoren\", \"Dozenten und Assistenten\", etc.\n",
    "\n",
    "Für eine übersichtlichere Struktur in der Tabelle, kann für die ersten zwei Ebenen jeweils eine neue Variable erstellt werden. Hierdurch werden zwei neue Spalten zur Tabelle hinzugefügt und Sie können dann bei Betrachtung einer einzelnen Zeile alle wichtigen Informationen herauslesen, was derzeit nicht möglich ist.\n",
    "\\\n",
    "\\\n",
    "**Neue Variablen erstellen**:\\\n",
    "Da die Struktur es nicht erlaubt, die neuen Variablen durch Referenz auf die bereits vorhandenen Variablen zu erzeugen, müssen die neuen Variablen manuell strukturiert werden.\\\n",
    "\n",
    "Erzeugen Sie hierfür zunächst neue Variablen und setzen Sie den Inhalt erst mal auf unbekannt (NA)."
   ]
  },
  {
   "cell_type": "code",
   "execution_count": 30,
   "id": "67b82723",
   "metadata": {},
   "outputs": [],
   "source": [
    "#1.Ebene: Neue Variable \"Personalkategorie\"\n",
    "Tabellendaten$Personalkategorie <- c(NA)\n",
    "\n",
    "#2.Ebene: Neue Variable \"Art der Anstellung\"\n",
    "Tabellendaten$Art_der_Anstellung <- c(NA)"
   ]
  },
  {
   "cell_type": "markdown",
   "id": "30180823",
   "metadata": {
    "lines_to_next_cell": 0
   },
   "source": [
    "Der Spalteninhalt muss nun manuell eingetragen werden.\\\n",
    "Achtung: Diese Weise ist leider recht fehleranfällig, ist jedoch durch den Aufbau der Datei, ohne komplexere Funktionen zu benutzen, nicht anders möglich.\\\n",
    "\n",
    "> **Merken!:** Wenn Sie Daten generieren, strukturieren Sie diese immer gut. Dies erleichtert Ihnen selbst, aber auch allen anderen, die Ihre Daten verwenden, dass Arbeiten!\\\n",
    "\n",
    "\\\n",
    "**Einpflegen des Variableninhalts**"
   ]
  },
  {
   "cell_type": "code",
   "execution_count": 31,
   "id": "694bae13",
   "metadata": {},
   "outputs": [],
   "source": [
    "#1.Ebene\n",
    "Tabellendaten$Personalkategorie[76:78] <- \"Insgesamt\"\n",
    "Tabellendaten$Personalkategorie[1:30] <- \"Wissenschaftliches und künstlerisches Personal\"\n",
    "Tabellendaten$Personalkategorie[31:75] <- \"Verwaltungs-, technisches und sonstiges Personal\""
   ]
  },
  {
   "cell_type": "code",
   "execution_count": 32,
   "id": "5586f53b",
   "metadata": {
    "lines_to_next_cell": 2
   },
   "outputs": [],
   "source": [
    "#2.Ebene\n",
    "Tabellendaten$Art_der_Anstellung[c(1:3, 31:33, 76:78)] <- \"Insgesamt\"\n",
    "Tabellendaten$Art_der_Anstellung[c(4:18,34:66)] <- \"Hauptberuflich\"\n",
    "Tabellendaten$Art_der_Anstellung[c(19:30,67:75)] <- \"Nebenberuflich\""
   ]
  },
  {
   "cell_type": "markdown",
   "id": "aa9eb968",
   "metadata": {
    "lines_to_next_cell": 0
   },
   "source": [
    "Ergebnis ansehen:"
   ]
  },
  {
   "cell_type": "code",
   "execution_count": 33,
   "id": "c9b26b79",
   "metadata": {
    "class.output": "scroll_limit",
    "lines_to_next_cell": 0
   },
   "outputs": [
    {
     "name": "stdout",
     "output_type": "stream",
     "text": [
      "                                Angestelltenverhaeltnis Geschlecht\n",
      "1       Wissenschaftliches und kuenstlerisches Personal  maennlich\n",
      "2       Wissenschaftliches und kuenstlerisches Personal   weiblich\n",
      "3       Wissenschaftliches und kuenstlerisches Personal  Insgesamt\n",
      "4    Hauptberufl. wissenschaftl. u. kuenstler. Personal  maennlich\n",
      "5    Hauptberufl. wissenschaftl. u. kuenstler. Personal   weiblich\n",
      "6    Hauptberufl. wissenschaftl. u. kuenstler. Personal  Insgesamt\n",
      "7                                           Professoren  maennlich\n",
      "8                                           Professoren   weiblich\n",
      "9                                           Professoren  Insgesamt\n",
      "10                             Dozenten und Assistenten  maennlich\n",
      "11                             Dozenten und Assistenten   weiblich\n",
      "12                             Dozenten und Assistenten  Insgesamt\n",
      "13     Wissenschaftliche und kuenstlerische Mitarbeiter  maennlich\n",
      "14     Wissenschaftliche und kuenstlerische Mitarbeiter   weiblich\n",
      "15     Wissenschaftliche und kuenstlerische Mitarbeiter  Insgesamt\n",
      "16                  Lehrkraefte fuer besondere Aufgaben  maennlich\n",
      "17                  Lehrkraefte fuer besondere Aufgaben   weiblich\n",
      "18                  Lehrkraefte fuer besondere Aufgaben  Insgesamt\n",
      "19   Nebenberufl. wissenschaftl. u. kuenstler. Personal  maennlich\n",
      "20   Nebenberufl. wissenschaftl. u. kuenstler. Personal   weiblich\n",
      "21   Nebenberufl. wissenschaftl. u. kuenstler. Personal  Insgesamt\n",
      "22                             Gastprofessoren, Emeriti  maennlich\n",
      "23                             Gastprofessoren, Emeriti   weiblich\n",
      "24                             Gastprofessoren, Emeriti  Insgesamt\n",
      "25                                      Lehrbeauftragte  maennlich\n",
      "26                                      Lehrbeauftragte   weiblich\n",
      "27                                      Lehrbeauftragte  Insgesamt\n",
      "28                       Wissenschaftliche Hilfskraefte  maennlich\n",
      "29                       Wissenschaftliche Hilfskraefte   weiblich\n",
      "30                       Wissenschaftliche Hilfskraefte  Insgesamt\n",
      "31     Verwaltungs-, technisches und sonstiges Personal  maennlich\n",
      "32     Verwaltungs-, technisches und sonstiges Personal   weiblich\n",
      "33     Verwaltungs-, technisches und sonstiges Personal  Insgesamt\n",
      "34   Hauptberufl. Verwaltungs-, techn. u.sonst.Personal  maennlich\n",
      "35   Hauptberufl. Verwaltungs-, techn. u.sonst.Personal   weiblich\n",
      "36   Hauptberufl. Verwaltungs-, techn. u.sonst.Personal  Insgesamt\n",
      "37                                  Verwaltungspersonal  maennlich\n",
      "38                                  Verwaltungspersonal   weiblich\n",
      "39                                  Verwaltungspersonal  Insgesamt\n",
      "40                                  Bibliothekspersonal  maennlich\n",
      "41                                  Bibliothekspersonal   weiblich\n",
      "42                                  Bibliothekspersonal  Insgesamt\n",
      "43                                 Technisches Personal  maennlich\n",
      "44                                 Technisches Personal   weiblich\n",
      "45                                 Technisches Personal  Insgesamt\n",
      "46                                   Sonstiges Personal  maennlich\n",
      "47                                   Sonstiges Personal   weiblich\n",
      "48                                   Sonstiges Personal  Insgesamt\n",
      "49                                       Pflegepersonal  maennlich\n",
      "50                                       Pflegepersonal   weiblich\n",
      "51                                       Pflegepersonal  Insgesamt\n",
      "52                                             Arbeiter  maennlich\n",
      "53                                             Arbeiter   weiblich\n",
      "54                                             Arbeiter  Insgesamt\n",
      "55                                        Auszubildende  maennlich\n",
      "56                                        Auszubildende   weiblich\n",
      "57                                        Auszubildende  Insgesamt\n",
      "58                                         Praktikanten  maennlich\n",
      "59                                         Praktikanten   weiblich\n",
      "60                                         Praktikanten  Insgesamt\n",
      "61          Sonstiges Personal fuer Lehre und Forschung  maennlich\n",
      "62          Sonstiges Personal fuer Lehre und Forschung   weiblich\n",
      "63          Sonstiges Personal fuer Lehre und Forschung  Insgesamt\n",
      "64                    Leitungs- und Verwaltungspersonal  maennlich\n",
      "65                    Leitungs- und Verwaltungspersonal   weiblich\n",
      "66                    Leitungs- und Verwaltungspersonal  Insgesamt\n",
      "67   Nebenberufl. Verwaltungs-, techn. u.sonst.Personal  maennlich\n",
      "68   Nebenberufl. Verwaltungs-, techn. u.sonst.Personal   weiblich\n",
      "69   Nebenberufl. Verwaltungs-, techn. u.sonst.Personal  Insgesamt\n",
      "70                                Sonstige Hilfskraefte  maennlich\n",
      "71                                Sonstige Hilfskraefte   weiblich\n",
      "72                                Sonstige Hilfskraefte  Insgesamt\n",
      "73                             Zeitweilig Beschaeftigte  maennlich\n",
      "74                             Zeitweilig Beschaeftigte   weiblich\n",
      "75                             Zeitweilig Beschaeftigte  Insgesamt\n",
      "76                                            Insgesamt  maennlich\n",
      "77                                            Insgesamt   weiblich\n",
      "78                                            Insgesamt  Insgesamt\n",
      "   Angestelltenzahl_2020                                Personalkategorie\n",
      "1                 247720   Wissenschaftliches und künstlerisches Personal\n",
      "2                 167112   Wissenschaftliches und künstlerisches Personal\n",
      "3                 414832   Wissenschaftliches und künstlerisches Personal\n",
      "4                 159567   Wissenschaftliches und künstlerisches Personal\n",
      "5                 109708   Wissenschaftliches und künstlerisches Personal\n",
      "6                 269275   Wissenschaftliches und künstlerisches Personal\n",
      "7                  36344   Wissenschaftliches und künstlerisches Personal\n",
      "8                  12949   Wissenschaftliches und künstlerisches Personal\n",
      "9                  49293   Wissenschaftliches und künstlerisches Personal\n",
      "10                  2182   Wissenschaftliches und künstlerisches Personal\n",
      "11                  1546   Wissenschaftliches und künstlerisches Personal\n",
      "12                  3728   Wissenschaftliches und künstlerisches Personal\n",
      "13                116004   Wissenschaftliches und künstlerisches Personal\n",
      "14                 89383   Wissenschaftliches und künstlerisches Personal\n",
      "15                205387   Wissenschaftliches und künstlerisches Personal\n",
      "16                  5037   Wissenschaftliches und künstlerisches Personal\n",
      "17                  5830   Wissenschaftliches und künstlerisches Personal\n",
      "18                 10867   Wissenschaftliches und künstlerisches Personal\n",
      "19                 88153   Wissenschaftliches und künstlerisches Personal\n",
      "20                 57404   Wissenschaftliches und künstlerisches Personal\n",
      "21                145557   Wissenschaftliches und künstlerisches Personal\n",
      "22                  1534   Wissenschaftliches und künstlerisches Personal\n",
      "23                   259   Wissenschaftliches und künstlerisches Personal\n",
      "24                  1793   Wissenschaftliches und künstlerisches Personal\n",
      "25                 64492   Wissenschaftliches und künstlerisches Personal\n",
      "26                 35238   Wissenschaftliches und künstlerisches Personal\n",
      "27                 99730   Wissenschaftliches und künstlerisches Personal\n",
      "28                 22127   Wissenschaftliches und künstlerisches Personal\n",
      "29                 21907   Wissenschaftliches und künstlerisches Personal\n",
      "30                 44034   Wissenschaftliches und künstlerisches Personal\n",
      "31                100320 Verwaltungs-, technisches und sonstiges Personal\n",
      "32                243913 Verwaltungs-, technisches und sonstiges Personal\n",
      "33                344233 Verwaltungs-, technisches und sonstiges Personal\n",
      "34                 98247 Verwaltungs-, technisches und sonstiges Personal\n",
      "35                240419 Verwaltungs-, technisches und sonstiges Personal\n",
      "36                338666 Verwaltungs-, technisches und sonstiges Personal\n",
      "37                 25941 Verwaltungs-, technisches und sonstiges Personal\n",
      "38                 83918 Verwaltungs-, technisches und sonstiges Personal\n",
      "39                109859 Verwaltungs-, technisches und sonstiges Personal\n",
      "40                  2443 Verwaltungs-, technisches und sonstiges Personal\n",
      "41                  7308 Verwaltungs-, technisches und sonstiges Personal\n",
      "42                  9751 Verwaltungs-, technisches und sonstiges Personal\n",
      "43                 33025 Verwaltungs-, technisches und sonstiges Personal\n",
      "44                 26360 Verwaltungs-, technisches und sonstiges Personal\n",
      "45                 59385 Verwaltungs-, technisches und sonstiges Personal\n",
      "46                 14422 Verwaltungs-, technisches und sonstiges Personal\n",
      "47                 41609 Verwaltungs-, technisches und sonstiges Personal\n",
      "48                 56031 Verwaltungs-, technisches und sonstiges Personal\n",
      "49                 15427 Verwaltungs-, technisches und sonstiges Personal\n",
      "50                 63731 Verwaltungs-, technisches und sonstiges Personal\n",
      "51                 79158 Verwaltungs-, technisches und sonstiges Personal\n",
      "52                    NA Verwaltungs-, technisches und sonstiges Personal\n",
      "53                    NA Verwaltungs-, technisches und sonstiges Personal\n",
      "54                    NA Verwaltungs-, technisches und sonstiges Personal\n",
      "55                  6284 Verwaltungs-, technisches und sonstiges Personal\n",
      "56                 16137 Verwaltungs-, technisches und sonstiges Personal\n",
      "57                 22421 Verwaltungs-, technisches und sonstiges Personal\n",
      "58                   705 Verwaltungs-, technisches und sonstiges Personal\n",
      "59                  1356 Verwaltungs-, technisches und sonstiges Personal\n",
      "60                  2061 Verwaltungs-, technisches und sonstiges Personal\n",
      "61                    NA Verwaltungs-, technisches und sonstiges Personal\n",
      "62                    NA Verwaltungs-, technisches und sonstiges Personal\n",
      "63                    NA Verwaltungs-, technisches und sonstiges Personal\n",
      "64                    NA Verwaltungs-, technisches und sonstiges Personal\n",
      "65                    NA Verwaltungs-, technisches und sonstiges Personal\n",
      "66                    NA Verwaltungs-, technisches und sonstiges Personal\n",
      "67                  2073 Verwaltungs-, technisches und sonstiges Personal\n",
      "68                  3494 Verwaltungs-, technisches und sonstiges Personal\n",
      "69                  5567 Verwaltungs-, technisches und sonstiges Personal\n",
      "70                  2073 Verwaltungs-, technisches und sonstiges Personal\n",
      "71                  3494 Verwaltungs-, technisches und sonstiges Personal\n",
      "72                  5567 Verwaltungs-, technisches und sonstiges Personal\n",
      "73                    NA Verwaltungs-, technisches und sonstiges Personal\n",
      "74                    NA Verwaltungs-, technisches und sonstiges Personal\n",
      "75                    NA Verwaltungs-, technisches und sonstiges Personal\n",
      "76                348040                                        Insgesamt\n",
      "77                411025                                        Insgesamt\n",
      "78                759065                                        Insgesamt\n",
      "   Art_der_Anstellung\n",
      "1           Insgesamt\n",
      "2           Insgesamt\n",
      "3           Insgesamt\n",
      "4      Hauptberuflich\n",
      "5      Hauptberuflich\n",
      "6      Hauptberuflich\n",
      "7      Hauptberuflich\n",
      "8      Hauptberuflich\n",
      "9      Hauptberuflich\n",
      "10     Hauptberuflich\n",
      "11     Hauptberuflich\n",
      "12     Hauptberuflich\n",
      "13     Hauptberuflich\n",
      "14     Hauptberuflich\n",
      "15     Hauptberuflich\n",
      "16     Hauptberuflich\n",
      "17     Hauptberuflich\n",
      "18     Hauptberuflich\n",
      "19     Nebenberuflich\n",
      "20     Nebenberuflich\n",
      "21     Nebenberuflich\n",
      "22     Nebenberuflich\n",
      "23     Nebenberuflich\n",
      "24     Nebenberuflich\n",
      "25     Nebenberuflich\n",
      "26     Nebenberuflich\n",
      "27     Nebenberuflich\n",
      "28     Nebenberuflich\n",
      "29     Nebenberuflich\n",
      "30     Nebenberuflich\n",
      "31          Insgesamt\n",
      "32          Insgesamt\n",
      "33          Insgesamt\n",
      "34     Hauptberuflich\n",
      "35     Hauptberuflich\n",
      "36     Hauptberuflich\n",
      "37     Hauptberuflich\n",
      "38     Hauptberuflich\n",
      "39     Hauptberuflich\n",
      "40     Hauptberuflich\n",
      "41     Hauptberuflich\n",
      "42     Hauptberuflich\n",
      "43     Hauptberuflich\n",
      "44     Hauptberuflich\n",
      "45     Hauptberuflich\n",
      "46     Hauptberuflich\n",
      "47     Hauptberuflich\n",
      "48     Hauptberuflich\n",
      "49     Hauptberuflich\n",
      "50     Hauptberuflich\n",
      "51     Hauptberuflich\n",
      "52     Hauptberuflich\n",
      "53     Hauptberuflich\n",
      "54     Hauptberuflich\n",
      "55     Hauptberuflich\n",
      "56     Hauptberuflich\n",
      "57     Hauptberuflich\n",
      "58     Hauptberuflich\n",
      "59     Hauptberuflich\n",
      "60     Hauptberuflich\n",
      "61     Hauptberuflich\n",
      "62     Hauptberuflich\n",
      "63     Hauptberuflich\n",
      "64     Hauptberuflich\n",
      "65     Hauptberuflich\n",
      "66     Hauptberuflich\n",
      "67     Nebenberuflich\n",
      "68     Nebenberuflich\n",
      "69     Nebenberuflich\n",
      "70     Nebenberuflich\n",
      "71     Nebenberuflich\n",
      "72     Nebenberuflich\n",
      "73     Nebenberuflich\n",
      "74     Nebenberuflich\n",
      "75     Nebenberuflich\n",
      "76          Insgesamt\n",
      "77          Insgesamt\n",
      "78          Insgesamt\n"
     ]
    }
   ],
   "source": [
    "show(Tabellendaten)"
   ]
  },
  {
   "cell_type": "markdown",
   "id": "fa8c540e",
   "metadata": {
    "lines_to_next_cell": 0
   },
   "source": [
    "\\\n",
    "\n",
    "### Unterkategorisieren\\\n",
    "\n",
    "Eine Unterkategorisierung (auch Sub-Sampling gennant) bietet sich auch insbesondere für die Variable \"Geschlecht\" an."
   ]
  },
  {
   "cell_type": "code",
   "execution_count": 34,
   "id": "da343a7e",
   "metadata": {
    "lines_to_next_cell": 0
   },
   "outputs": [
    {
     "data": {
      "text/html": [
       "<style>\n",
       ".list-inline {list-style: none; margin:0; padding: 0}\n",
       ".list-inline>li {display: inline-block}\n",
       ".list-inline>li:not(:last-child)::after {content: \"\\00b7\"; padding: 0 .5ex}\n",
       "</style>\n",
       "<ol class=list-inline><li>'maennlich'</li><li>'weiblich'</li><li>'Insgesamt'</li></ol>\n"
      ],
      "text/latex": [
       "\\begin{enumerate*}\n",
       "\\item 'maennlich'\n",
       "\\item 'weiblich'\n",
       "\\item 'Insgesamt'\n",
       "\\end{enumerate*}\n"
      ],
      "text/markdown": [
       "1. 'maennlich'\n",
       "2. 'weiblich'\n",
       "3. 'Insgesamt'\n",
       "\n",
       "\n"
      ],
      "text/plain": [
       "[1] \"maennlich\" \"weiblich\"  \"Insgesamt\""
      ]
     },
     "metadata": {},
     "output_type": "display_data"
    }
   ],
   "source": [
    "unique(Tabellendaten$Geschlecht)"
   ]
  },
  {
   "cell_type": "markdown",
   "id": "f6d7128d",
   "metadata": {
    "lines_to_next_cell": 0
   },
   "source": [
    "Durch das Aufführen der Variablenausprägung `\"Insgesamt\"` wird die Tabelle recht unübersichtlich. Es empfiehlt sich das sub-samplen der Tabelle nach den verschiedenen Geschlechtsausprägungen:"
   ]
  },
  {
   "cell_type": "code",
   "execution_count": 35,
   "id": "ddfbca64",
   "metadata": {
    "lines_to_next_cell": 0
   },
   "outputs": [
    {
     "data": {
      "text/html": [
       "<table class=\"dataframe\">\n",
       "<caption>A data.frame: 6 × 5</caption>\n",
       "<thead>\n",
       "\t<tr><th></th><th scope=col>Angestelltenverhaeltnis</th><th scope=col>Geschlecht</th><th scope=col>Angestelltenzahl_2020</th><th scope=col>Personalkategorie</th><th scope=col>Art_der_Anstellung</th></tr>\n",
       "\t<tr><th></th><th scope=col>&lt;chr&gt;</th><th scope=col>&lt;chr&gt;</th><th scope=col>&lt;int&gt;</th><th scope=col>&lt;chr&gt;</th><th scope=col>&lt;chr&gt;</th></tr>\n",
       "</thead>\n",
       "<tbody>\n",
       "\t<tr><th scope=row>3</th><td>Wissenschaftliches und kuenstlerisches Personal     </td><td>Insgesamt</td><td>414832</td><td>Wissenschaftliches und künstlerisches Personal</td><td>Insgesamt     </td></tr>\n",
       "\t<tr><th scope=row>6</th><td>  Hauptberufl. wissenschaftl. u. kuenstler. Personal</td><td>Insgesamt</td><td>269275</td><td>Wissenschaftliches und künstlerisches Personal</td><td>Hauptberuflich</td></tr>\n",
       "\t<tr><th scope=row>9</th><td>    Professoren                                     </td><td>Insgesamt</td><td> 49293</td><td>Wissenschaftliches und künstlerisches Personal</td><td>Hauptberuflich</td></tr>\n",
       "\t<tr><th scope=row>12</th><td>    Dozenten und Assistenten                        </td><td>Insgesamt</td><td>  3728</td><td>Wissenschaftliches und künstlerisches Personal</td><td>Hauptberuflich</td></tr>\n",
       "\t<tr><th scope=row>15</th><td>    Wissenschaftliche und kuenstlerische Mitarbeiter</td><td>Insgesamt</td><td>205387</td><td>Wissenschaftliches und künstlerisches Personal</td><td>Hauptberuflich</td></tr>\n",
       "\t<tr><th scope=row>18</th><td>    Lehrkraefte fuer besondere Aufgaben             </td><td>Insgesamt</td><td> 10867</td><td>Wissenschaftliches und künstlerisches Personal</td><td>Hauptberuflich</td></tr>\n",
       "</tbody>\n",
       "</table>\n"
      ],
      "text/latex": [
       "A data.frame: 6 × 5\n",
       "\\begin{tabular}{r|lllll}\n",
       "  & Angestelltenverhaeltnis & Geschlecht & Angestelltenzahl\\_2020 & Personalkategorie & Art\\_der\\_Anstellung\\\\\n",
       "  & <chr> & <chr> & <int> & <chr> & <chr>\\\\\n",
       "\\hline\n",
       "\t3 & Wissenschaftliches und kuenstlerisches Personal      & Insgesamt & 414832 & Wissenschaftliches und künstlerisches Personal & Insgesamt     \\\\\n",
       "\t6 &   Hauptberufl. wissenschaftl. u. kuenstler. Personal & Insgesamt & 269275 & Wissenschaftliches und künstlerisches Personal & Hauptberuflich\\\\\n",
       "\t9 &     Professoren                                      & Insgesamt &  49293 & Wissenschaftliches und künstlerisches Personal & Hauptberuflich\\\\\n",
       "\t12 &     Dozenten und Assistenten                         & Insgesamt &   3728 & Wissenschaftliches und künstlerisches Personal & Hauptberuflich\\\\\n",
       "\t15 &     Wissenschaftliche und kuenstlerische Mitarbeiter & Insgesamt & 205387 & Wissenschaftliches und künstlerisches Personal & Hauptberuflich\\\\\n",
       "\t18 &     Lehrkraefte fuer besondere Aufgaben              & Insgesamt &  10867 & Wissenschaftliches und künstlerisches Personal & Hauptberuflich\\\\\n",
       "\\end{tabular}\n"
      ],
      "text/markdown": [
       "\n",
       "A data.frame: 6 × 5\n",
       "\n",
       "| <!--/--> | Angestelltenverhaeltnis &lt;chr&gt; | Geschlecht &lt;chr&gt; | Angestelltenzahl_2020 &lt;int&gt; | Personalkategorie &lt;chr&gt; | Art_der_Anstellung &lt;chr&gt; |\n",
       "|---|---|---|---|---|---|\n",
       "| 3 | Wissenschaftliches und kuenstlerisches Personal      | Insgesamt | 414832 | Wissenschaftliches und künstlerisches Personal | Insgesamt      |\n",
       "| 6 |   Hauptberufl. wissenschaftl. u. kuenstler. Personal | Insgesamt | 269275 | Wissenschaftliches und künstlerisches Personal | Hauptberuflich |\n",
       "| 9 |     Professoren                                      | Insgesamt |  49293 | Wissenschaftliches und künstlerisches Personal | Hauptberuflich |\n",
       "| 12 |     Dozenten und Assistenten                         | Insgesamt |   3728 | Wissenschaftliches und künstlerisches Personal | Hauptberuflich |\n",
       "| 15 |     Wissenschaftliche und kuenstlerische Mitarbeiter | Insgesamt | 205387 | Wissenschaftliches und künstlerisches Personal | Hauptberuflich |\n",
       "| 18 |     Lehrkraefte fuer besondere Aufgaben              | Insgesamt |  10867 | Wissenschaftliches und künstlerisches Personal | Hauptberuflich |\n",
       "\n"
      ],
      "text/plain": [
       "   Angestelltenverhaeltnis                              Geschlecht\n",
       "3  Wissenschaftliches und kuenstlerisches Personal      Insgesamt \n",
       "6    Hauptberufl. wissenschaftl. u. kuenstler. Personal Insgesamt \n",
       "9      Professoren                                      Insgesamt \n",
       "12     Dozenten und Assistenten                         Insgesamt \n",
       "15     Wissenschaftliche und kuenstlerische Mitarbeiter Insgesamt \n",
       "18     Lehrkraefte fuer besondere Aufgaben              Insgesamt \n",
       "   Angestelltenzahl_2020 Personalkategorie                             \n",
       "3  414832                Wissenschaftliches und künstlerisches Personal\n",
       "6  269275                Wissenschaftliches und künstlerisches Personal\n",
       "9   49293                Wissenschaftliches und künstlerisches Personal\n",
       "12   3728                Wissenschaftliches und künstlerisches Personal\n",
       "15 205387                Wissenschaftliches und künstlerisches Personal\n",
       "18  10867                Wissenschaftliches und künstlerisches Personal\n",
       "   Art_der_Anstellung\n",
       "3  Insgesamt         \n",
       "6  Hauptberuflich    \n",
       "9  Hauptberuflich    \n",
       "12 Hauptberuflich    \n",
       "15 Hauptberuflich    \n",
       "18 Hauptberuflich    "
      ]
     },
     "metadata": {},
     "output_type": "display_data"
    }
   ],
   "source": [
    "#Geschlecht\n",
    "Tabelle_maennlich <- subset(Tabellendaten, Geschlecht == \"maennlich\")\n",
    "Tabelle_weiblich <- subset(Tabellendaten, Geschlecht == \"weiblich\")\n",
    "Tabelle_Insgesamt <- subset(Tabellendaten, Geschlecht == \"Insgesamt\")\n",
    "\n",
    "#Ergbnis ansehen \n",
    "head(Tabelle_Insgesamt)"
   ]
  },
  {
   "cell_type": "markdown",
   "id": "c74d2522",
   "metadata": {},
   "source": [
    "\\\n",
    "Wenn Sie nun z.B. aus der Tabelle_Insgesamt die zweite Spalte entfernen möchten, da diese redundant ist, können Sie die Spalte aus dem Subsample entfernen:"
   ]
  },
  {
   "cell_type": "code",
   "execution_count": 36,
   "id": "c9718e39",
   "metadata": {
    "lines_to_next_cell": 0
   },
   "outputs": [
    {
     "data": {
      "text/html": [
       "<table class=\"dataframe\">\n",
       "<caption>A data.frame: 6 × 4</caption>\n",
       "<thead>\n",
       "\t<tr><th></th><th scope=col>Angestelltenverhaeltnis</th><th scope=col>Angestelltenzahl_2020</th><th scope=col>Personalkategorie</th><th scope=col>Art_der_Anstellung</th></tr>\n",
       "\t<tr><th></th><th scope=col>&lt;chr&gt;</th><th scope=col>&lt;int&gt;</th><th scope=col>&lt;chr&gt;</th><th scope=col>&lt;chr&gt;</th></tr>\n",
       "</thead>\n",
       "<tbody>\n",
       "\t<tr><th scope=row>3</th><td>Wissenschaftliches und kuenstlerisches Personal     </td><td>414832</td><td>Wissenschaftliches und künstlerisches Personal</td><td>Insgesamt     </td></tr>\n",
       "\t<tr><th scope=row>6</th><td>  Hauptberufl. wissenschaftl. u. kuenstler. Personal</td><td>269275</td><td>Wissenschaftliches und künstlerisches Personal</td><td>Hauptberuflich</td></tr>\n",
       "\t<tr><th scope=row>9</th><td>    Professoren                                     </td><td> 49293</td><td>Wissenschaftliches und künstlerisches Personal</td><td>Hauptberuflich</td></tr>\n",
       "\t<tr><th scope=row>12</th><td>    Dozenten und Assistenten                        </td><td>  3728</td><td>Wissenschaftliches und künstlerisches Personal</td><td>Hauptberuflich</td></tr>\n",
       "\t<tr><th scope=row>15</th><td>    Wissenschaftliche und kuenstlerische Mitarbeiter</td><td>205387</td><td>Wissenschaftliches und künstlerisches Personal</td><td>Hauptberuflich</td></tr>\n",
       "\t<tr><th scope=row>18</th><td>    Lehrkraefte fuer besondere Aufgaben             </td><td> 10867</td><td>Wissenschaftliches und künstlerisches Personal</td><td>Hauptberuflich</td></tr>\n",
       "</tbody>\n",
       "</table>\n"
      ],
      "text/latex": [
       "A data.frame: 6 × 4\n",
       "\\begin{tabular}{r|llll}\n",
       "  & Angestelltenverhaeltnis & Angestelltenzahl\\_2020 & Personalkategorie & Art\\_der\\_Anstellung\\\\\n",
       "  & <chr> & <int> & <chr> & <chr>\\\\\n",
       "\\hline\n",
       "\t3 & Wissenschaftliches und kuenstlerisches Personal      & 414832 & Wissenschaftliches und künstlerisches Personal & Insgesamt     \\\\\n",
       "\t6 &   Hauptberufl. wissenschaftl. u. kuenstler. Personal & 269275 & Wissenschaftliches und künstlerisches Personal & Hauptberuflich\\\\\n",
       "\t9 &     Professoren                                      &  49293 & Wissenschaftliches und künstlerisches Personal & Hauptberuflich\\\\\n",
       "\t12 &     Dozenten und Assistenten                         &   3728 & Wissenschaftliches und künstlerisches Personal & Hauptberuflich\\\\\n",
       "\t15 &     Wissenschaftliche und kuenstlerische Mitarbeiter & 205387 & Wissenschaftliches und künstlerisches Personal & Hauptberuflich\\\\\n",
       "\t18 &     Lehrkraefte fuer besondere Aufgaben              &  10867 & Wissenschaftliches und künstlerisches Personal & Hauptberuflich\\\\\n",
       "\\end{tabular}\n"
      ],
      "text/markdown": [
       "\n",
       "A data.frame: 6 × 4\n",
       "\n",
       "| <!--/--> | Angestelltenverhaeltnis &lt;chr&gt; | Angestelltenzahl_2020 &lt;int&gt; | Personalkategorie &lt;chr&gt; | Art_der_Anstellung &lt;chr&gt; |\n",
       "|---|---|---|---|---|\n",
       "| 3 | Wissenschaftliches und kuenstlerisches Personal      | 414832 | Wissenschaftliches und künstlerisches Personal | Insgesamt      |\n",
       "| 6 |   Hauptberufl. wissenschaftl. u. kuenstler. Personal | 269275 | Wissenschaftliches und künstlerisches Personal | Hauptberuflich |\n",
       "| 9 |     Professoren                                      |  49293 | Wissenschaftliches und künstlerisches Personal | Hauptberuflich |\n",
       "| 12 |     Dozenten und Assistenten                         |   3728 | Wissenschaftliches und künstlerisches Personal | Hauptberuflich |\n",
       "| 15 |     Wissenschaftliche und kuenstlerische Mitarbeiter | 205387 | Wissenschaftliches und künstlerisches Personal | Hauptberuflich |\n",
       "| 18 |     Lehrkraefte fuer besondere Aufgaben              |  10867 | Wissenschaftliches und künstlerisches Personal | Hauptberuflich |\n",
       "\n"
      ],
      "text/plain": [
       "   Angestelltenverhaeltnis                              Angestelltenzahl_2020\n",
       "3  Wissenschaftliches und kuenstlerisches Personal      414832               \n",
       "6    Hauptberufl. wissenschaftl. u. kuenstler. Personal 269275               \n",
       "9      Professoren                                       49293               \n",
       "12     Dozenten und Assistenten                           3728               \n",
       "15     Wissenschaftliche und kuenstlerische Mitarbeiter 205387               \n",
       "18     Lehrkraefte fuer besondere Aufgaben               10867               \n",
       "   Personalkategorie                              Art_der_Anstellung\n",
       "3  Wissenschaftliches und künstlerisches Personal Insgesamt         \n",
       "6  Wissenschaftliches und künstlerisches Personal Hauptberuflich    \n",
       "9  Wissenschaftliches und künstlerisches Personal Hauptberuflich    \n",
       "12 Wissenschaftliches und künstlerisches Personal Hauptberuflich    \n",
       "15 Wissenschaftliches und künstlerisches Personal Hauptberuflich    \n",
       "18 Wissenschaftliches und künstlerisches Personal Hauptberuflich    "
      ]
     },
     "metadata": {},
     "output_type": "display_data"
    }
   ],
   "source": [
    "Tabelle_Insgesamt <- subset(Tabelle_Insgesamt, select= c(-Geschlecht))\n",
    "\n",
    "#Ergebnis ansehen\n",
    "head(Tabelle_Insgesamt)"
   ]
  },
  {
   "cell_type": "markdown",
   "id": "e3c30f62",
   "metadata": {
    "lines_to_next_cell": 0
   },
   "source": [
    "\\\n",
    "\n",
    "### Tabellendaten filtern\\\n",
    "\n",
    "Alternativ zum `subset`-Befehl kann mit dem Befehl `filter` gearbeitet werden.\\\n",
    "Sie können Ihre Tabelle mittels der `filter`-Funktion filtern und so nach belieben die Tabelle nur gezielte Inhalte anzeigen lassen.\\\n",
    "\\\n",
    "Hierzu können Sie verschiedene Operatoren und Funktionen nutzen:\\\n",
    "\\\n",
    "**Mathematische Operatoren:**\n",
    "\n",
    "- `==` (Ist gleich) \n",
    "- `!=` (Ist nicht gleich)\n",
    "- `<` (Kleiner als)\n",
    "- `<=` (Kleiner-Gleich)\n",
    "- `>` (Größer als)\n",
    "- `>=` (größer-Gleich)\n",
    "\n",
    "Beispiel:"
   ]
  },
  {
   "cell_type": "code",
   "execution_count": 37,
   "id": "229707fc",
   "metadata": {
    "lines_to_next_cell": 0
   },
   "outputs": [
    {
     "data": {
      "text/html": [
       "<table class=\"dataframe\">\n",
       "<caption>A data.frame: 3 × 4</caption>\n",
       "<thead>\n",
       "\t<tr><th scope=col>Angestelltenverhaeltnis</th><th scope=col>Angestelltenzahl_2020</th><th scope=col>Personalkategorie</th><th scope=col>Art_der_Anstellung</th></tr>\n",
       "\t<tr><th scope=col>&lt;chr&gt;</th><th scope=col>&lt;int&gt;</th><th scope=col>&lt;chr&gt;</th><th scope=col>&lt;chr&gt;</th></tr>\n",
       "</thead>\n",
       "<tbody>\n",
       "\t<tr><td>    Dozenten und Assistenten</td><td>3728</td><td>Wissenschaftliches und künstlerisches Personal  </td><td>Hauptberuflich</td></tr>\n",
       "\t<tr><td>    Gastprofessoren, Emeriti</td><td>1793</td><td>Wissenschaftliches und künstlerisches Personal  </td><td>Nebenberuflich</td></tr>\n",
       "\t<tr><td>    Praktikanten            </td><td>2061</td><td>Verwaltungs-, technisches und sonstiges Personal</td><td>Hauptberuflich</td></tr>\n",
       "</tbody>\n",
       "</table>\n"
      ],
      "text/latex": [
       "A data.frame: 3 × 4\n",
       "\\begin{tabular}{llll}\n",
       " Angestelltenverhaeltnis & Angestelltenzahl\\_2020 & Personalkategorie & Art\\_der\\_Anstellung\\\\\n",
       " <chr> & <int> & <chr> & <chr>\\\\\n",
       "\\hline\n",
       "\t     Dozenten und Assistenten & 3728 & Wissenschaftliches und künstlerisches Personal   & Hauptberuflich\\\\\n",
       "\t     Gastprofessoren, Emeriti & 1793 & Wissenschaftliches und künstlerisches Personal   & Nebenberuflich\\\\\n",
       "\t     Praktikanten             & 2061 & Verwaltungs-, technisches und sonstiges Personal & Hauptberuflich\\\\\n",
       "\\end{tabular}\n"
      ],
      "text/markdown": [
       "\n",
       "A data.frame: 3 × 4\n",
       "\n",
       "| Angestelltenverhaeltnis &lt;chr&gt; | Angestelltenzahl_2020 &lt;int&gt; | Personalkategorie &lt;chr&gt; | Art_der_Anstellung &lt;chr&gt; |\n",
       "|---|---|---|---|\n",
       "|     Dozenten und Assistenten | 3728 | Wissenschaftliches und künstlerisches Personal   | Hauptberuflich |\n",
       "|     Gastprofessoren, Emeriti | 1793 | Wissenschaftliches und künstlerisches Personal   | Nebenberuflich |\n",
       "|     Praktikanten             | 2061 | Verwaltungs-, technisches und sonstiges Personal | Hauptberuflich |\n",
       "\n"
      ],
      "text/plain": [
       "  Angestelltenverhaeltnis      Angestelltenzahl_2020\n",
       "1     Dozenten und Assistenten 3728                 \n",
       "2     Gastprofessoren, Emeriti 1793                 \n",
       "3     Praktikanten             2061                 \n",
       "  Personalkategorie                                Art_der_Anstellung\n",
       "1 Wissenschaftliches und künstlerisches Personal   Hauptberuflich    \n",
       "2 Wissenschaftliches und künstlerisches Personal   Nebenberuflich    \n",
       "3 Verwaltungs-, technisches und sonstiges Personal Hauptberuflich    "
      ]
     },
     "metadata": {},
     "output_type": "display_data"
    }
   ],
   "source": [
    "filter(Tabelle_Insgesamt, Tabelle_Insgesamt$Angestelltenzahl_2020 <= 5000)"
   ]
  },
  {
   "cell_type": "markdown",
   "id": "47db39b2",
   "metadata": {
    "lines_to_next_cell": 0
   },
   "source": [
    "\\\n",
    "**Logische Operatoren:**\n",
    "\n",
    "- `!` (logisches NICHT)\n",
    "- `&` (logisches UND)\n",
    "- `|` (logisches ODER)\n",
    "\n",
    "Beispiel:"
   ]
  },
  {
   "cell_type": "code",
   "execution_count": 38,
   "id": "05aad529",
   "metadata": {
    "lines_to_next_cell": 0
   },
   "outputs": [
    {
     "data": {
      "text/html": [
       "<table class=\"dataframe\">\n",
       "<caption>A data.frame: 10 × 5</caption>\n",
       "<thead>\n",
       "\t<tr><th scope=col>Angestelltenverhaeltnis</th><th scope=col>Geschlecht</th><th scope=col>Angestelltenzahl_2020</th><th scope=col>Personalkategorie</th><th scope=col>Art_der_Anstellung</th></tr>\n",
       "\t<tr><th scope=col>&lt;chr&gt;</th><th scope=col>&lt;chr&gt;</th><th scope=col>&lt;int&gt;</th><th scope=col>&lt;chr&gt;</th><th scope=col>&lt;chr&gt;</th></tr>\n",
       "</thead>\n",
       "<tbody>\n",
       "\t<tr><td>Wissenschaftliches und kuenstlerisches Personal     </td><td>weiblich</td><td>167112</td><td>Wissenschaftliches und künstlerisches Personal</td><td>Insgesamt     </td></tr>\n",
       "\t<tr><td>  Hauptberufl. wissenschaftl. u. kuenstler. Personal</td><td>weiblich</td><td>109708</td><td>Wissenschaftliches und künstlerisches Personal</td><td>Hauptberuflich</td></tr>\n",
       "\t<tr><td>    Professoren                                     </td><td>weiblich</td><td> 12949</td><td>Wissenschaftliches und künstlerisches Personal</td><td>Hauptberuflich</td></tr>\n",
       "\t<tr><td>    Dozenten und Assistenten                        </td><td>weiblich</td><td>  1546</td><td>Wissenschaftliches und künstlerisches Personal</td><td>Hauptberuflich</td></tr>\n",
       "\t<tr><td>    Wissenschaftliche und kuenstlerische Mitarbeiter</td><td>weiblich</td><td> 89383</td><td>Wissenschaftliches und künstlerisches Personal</td><td>Hauptberuflich</td></tr>\n",
       "\t<tr><td>    Lehrkraefte fuer besondere Aufgaben             </td><td>weiblich</td><td>  5830</td><td>Wissenschaftliches und künstlerisches Personal</td><td>Hauptberuflich</td></tr>\n",
       "\t<tr><td>  Nebenberufl. wissenschaftl. u. kuenstler. Personal</td><td>weiblich</td><td> 57404</td><td>Wissenschaftliches und künstlerisches Personal</td><td>Nebenberuflich</td></tr>\n",
       "\t<tr><td>    Gastprofessoren, Emeriti                        </td><td>weiblich</td><td>   259</td><td>Wissenschaftliches und künstlerisches Personal</td><td>Nebenberuflich</td></tr>\n",
       "\t<tr><td>    Lehrbeauftragte                                 </td><td>weiblich</td><td> 35238</td><td>Wissenschaftliches und künstlerisches Personal</td><td>Nebenberuflich</td></tr>\n",
       "\t<tr><td>    Wissenschaftliche Hilfskraefte                  </td><td>weiblich</td><td> 21907</td><td>Wissenschaftliches und künstlerisches Personal</td><td>Nebenberuflich</td></tr>\n",
       "</tbody>\n",
       "</table>\n"
      ],
      "text/latex": [
       "A data.frame: 10 × 5\n",
       "\\begin{tabular}{lllll}\n",
       " Angestelltenverhaeltnis & Geschlecht & Angestelltenzahl\\_2020 & Personalkategorie & Art\\_der\\_Anstellung\\\\\n",
       " <chr> & <chr> & <int> & <chr> & <chr>\\\\\n",
       "\\hline\n",
       "\t Wissenschaftliches und kuenstlerisches Personal      & weiblich & 167112 & Wissenschaftliches und künstlerisches Personal & Insgesamt     \\\\\n",
       "\t   Hauptberufl. wissenschaftl. u. kuenstler. Personal & weiblich & 109708 & Wissenschaftliches und künstlerisches Personal & Hauptberuflich\\\\\n",
       "\t     Professoren                                      & weiblich &  12949 & Wissenschaftliches und künstlerisches Personal & Hauptberuflich\\\\\n",
       "\t     Dozenten und Assistenten                         & weiblich &   1546 & Wissenschaftliches und künstlerisches Personal & Hauptberuflich\\\\\n",
       "\t     Wissenschaftliche und kuenstlerische Mitarbeiter & weiblich &  89383 & Wissenschaftliches und künstlerisches Personal & Hauptberuflich\\\\\n",
       "\t     Lehrkraefte fuer besondere Aufgaben              & weiblich &   5830 & Wissenschaftliches und künstlerisches Personal & Hauptberuflich\\\\\n",
       "\t   Nebenberufl. wissenschaftl. u. kuenstler. Personal & weiblich &  57404 & Wissenschaftliches und künstlerisches Personal & Nebenberuflich\\\\\n",
       "\t     Gastprofessoren, Emeriti                         & weiblich &    259 & Wissenschaftliches und künstlerisches Personal & Nebenberuflich\\\\\n",
       "\t     Lehrbeauftragte                                  & weiblich &  35238 & Wissenschaftliches und künstlerisches Personal & Nebenberuflich\\\\\n",
       "\t     Wissenschaftliche Hilfskraefte                   & weiblich &  21907 & Wissenschaftliches und künstlerisches Personal & Nebenberuflich\\\\\n",
       "\\end{tabular}\n"
      ],
      "text/markdown": [
       "\n",
       "A data.frame: 10 × 5\n",
       "\n",
       "| Angestelltenverhaeltnis &lt;chr&gt; | Geschlecht &lt;chr&gt; | Angestelltenzahl_2020 &lt;int&gt; | Personalkategorie &lt;chr&gt; | Art_der_Anstellung &lt;chr&gt; |\n",
       "|---|---|---|---|---|\n",
       "| Wissenschaftliches und kuenstlerisches Personal      | weiblich | 167112 | Wissenschaftliches und künstlerisches Personal | Insgesamt      |\n",
       "|   Hauptberufl. wissenschaftl. u. kuenstler. Personal | weiblich | 109708 | Wissenschaftliches und künstlerisches Personal | Hauptberuflich |\n",
       "|     Professoren                                      | weiblich |  12949 | Wissenschaftliches und künstlerisches Personal | Hauptberuflich |\n",
       "|     Dozenten und Assistenten                         | weiblich |   1546 | Wissenschaftliches und künstlerisches Personal | Hauptberuflich |\n",
       "|     Wissenschaftliche und kuenstlerische Mitarbeiter | weiblich |  89383 | Wissenschaftliches und künstlerisches Personal | Hauptberuflich |\n",
       "|     Lehrkraefte fuer besondere Aufgaben              | weiblich |   5830 | Wissenschaftliches und künstlerisches Personal | Hauptberuflich |\n",
       "|   Nebenberufl. wissenschaftl. u. kuenstler. Personal | weiblich |  57404 | Wissenschaftliches und künstlerisches Personal | Nebenberuflich |\n",
       "|     Gastprofessoren, Emeriti                         | weiblich |    259 | Wissenschaftliches und künstlerisches Personal | Nebenberuflich |\n",
       "|     Lehrbeauftragte                                  | weiblich |  35238 | Wissenschaftliches und künstlerisches Personal | Nebenberuflich |\n",
       "|     Wissenschaftliche Hilfskraefte                   | weiblich |  21907 | Wissenschaftliches und künstlerisches Personal | Nebenberuflich |\n",
       "\n"
      ],
      "text/plain": [
       "   Angestelltenverhaeltnis                              Geschlecht\n",
       "1  Wissenschaftliches und kuenstlerisches Personal      weiblich  \n",
       "2    Hauptberufl. wissenschaftl. u. kuenstler. Personal weiblich  \n",
       "3      Professoren                                      weiblich  \n",
       "4      Dozenten und Assistenten                         weiblich  \n",
       "5      Wissenschaftliche und kuenstlerische Mitarbeiter weiblich  \n",
       "6      Lehrkraefte fuer besondere Aufgaben              weiblich  \n",
       "7    Nebenberufl. wissenschaftl. u. kuenstler. Personal weiblich  \n",
       "8      Gastprofessoren, Emeriti                         weiblich  \n",
       "9      Lehrbeauftragte                                  weiblich  \n",
       "10     Wissenschaftliche Hilfskraefte                   weiblich  \n",
       "   Angestelltenzahl_2020 Personalkategorie                             \n",
       "1  167112                Wissenschaftliches und künstlerisches Personal\n",
       "2  109708                Wissenschaftliches und künstlerisches Personal\n",
       "3   12949                Wissenschaftliches und künstlerisches Personal\n",
       "4    1546                Wissenschaftliches und künstlerisches Personal\n",
       "5   89383                Wissenschaftliches und künstlerisches Personal\n",
       "6    5830                Wissenschaftliches und künstlerisches Personal\n",
       "7   57404                Wissenschaftliches und künstlerisches Personal\n",
       "8     259                Wissenschaftliches und künstlerisches Personal\n",
       "9   35238                Wissenschaftliches und künstlerisches Personal\n",
       "10  21907                Wissenschaftliches und künstlerisches Personal\n",
       "   Art_der_Anstellung\n",
       "1  Insgesamt         \n",
       "2  Hauptberuflich    \n",
       "3  Hauptberuflich    \n",
       "4  Hauptberuflich    \n",
       "5  Hauptberuflich    \n",
       "6  Hauptberuflich    \n",
       "7  Nebenberuflich    \n",
       "8  Nebenberuflich    \n",
       "9  Nebenberuflich    \n",
       "10 Nebenberuflich    "
      ]
     },
     "metadata": {},
     "output_type": "display_data"
    }
   ],
   "source": [
    "filter(Tabellendaten, Tabellendaten$Personalkategorie == \"Wissenschaftliches und künstlerisches Personal\" & Tabellendaten$Geschlecht == \"weiblich\" )"
   ]
  },
  {
   "cell_type": "markdown",
   "id": "b3806a48",
   "metadata": {
    "lines_to_next_cell": 0
   },
   "source": [
    "\\\n",
    "**Verwenden von Funktionen:**\n",
    "\n",
    "Beispiel:\n",
    "Ausgabe des kleinsten Wertes mittels er `min()` -Funktion"
   ]
  },
  {
   "cell_type": "code",
   "execution_count": 39,
   "id": "1f8e3d9e",
   "metadata": {
    "lines_to_next_cell": 0
   },
   "outputs": [
    {
     "data": {
      "text/html": [
       "<table class=\"dataframe\">\n",
       "<caption>A data.frame: 1 × 5</caption>\n",
       "<thead>\n",
       "\t<tr><th scope=col>Angestelltenverhaeltnis</th><th scope=col>Geschlecht</th><th scope=col>Angestelltenzahl_2020</th><th scope=col>Personalkategorie</th><th scope=col>Art_der_Anstellung</th></tr>\n",
       "\t<tr><th scope=col>&lt;chr&gt;</th><th scope=col>&lt;chr&gt;</th><th scope=col>&lt;int&gt;</th><th scope=col>&lt;chr&gt;</th><th scope=col>&lt;chr&gt;</th></tr>\n",
       "</thead>\n",
       "<tbody>\n",
       "\t<tr><td>    Gastprofessoren, Emeriti</td><td>weiblich</td><td>259</td><td>Wissenschaftliches und künstlerisches Personal</td><td>Nebenberuflich</td></tr>\n",
       "</tbody>\n",
       "</table>\n"
      ],
      "text/latex": [
       "A data.frame: 1 × 5\n",
       "\\begin{tabular}{lllll}\n",
       " Angestelltenverhaeltnis & Geschlecht & Angestelltenzahl\\_2020 & Personalkategorie & Art\\_der\\_Anstellung\\\\\n",
       " <chr> & <chr> & <int> & <chr> & <chr>\\\\\n",
       "\\hline\n",
       "\t     Gastprofessoren, Emeriti & weiblich & 259 & Wissenschaftliches und künstlerisches Personal & Nebenberuflich\\\\\n",
       "\\end{tabular}\n"
      ],
      "text/markdown": [
       "\n",
       "A data.frame: 1 × 5\n",
       "\n",
       "| Angestelltenverhaeltnis &lt;chr&gt; | Geschlecht &lt;chr&gt; | Angestelltenzahl_2020 &lt;int&gt; | Personalkategorie &lt;chr&gt; | Art_der_Anstellung &lt;chr&gt; |\n",
       "|---|---|---|---|---|\n",
       "|     Gastprofessoren, Emeriti | weiblich | 259 | Wissenschaftliches und künstlerisches Personal | Nebenberuflich |\n",
       "\n"
      ],
      "text/plain": [
       "  Angestelltenverhaeltnis      Geschlecht Angestelltenzahl_2020\n",
       "1     Gastprofessoren, Emeriti weiblich   259                  \n",
       "  Personalkategorie                              Art_der_Anstellung\n",
       "1 Wissenschaftliches und künstlerisches Personal Nebenberuflich    "
      ]
     },
     "metadata": {},
     "output_type": "display_data"
    }
   ],
   "source": [
    "filter(Tabellendaten, Tabellendaten$Angestelltenzahl_2020 == min(Tabellendaten$Angestelltenzahl_2020, na.rm = TRUE))"
   ]
  },
  {
   "cell_type": "markdown",
   "id": "13d87ef2",
   "metadata": {
    "lines_to_next_cell": 0
   },
   "source": [
    "\\\n",
    "\n",
    "### Sortieren von Tabellendaten\\\n",
    "\n",
    "Sie können Tabellen mittels des `order()`-Befehls nach belieben sortieren.\\\n",
    "\n",
    "Beispiel:"
   ]
  },
  {
   "cell_type": "code",
   "execution_count": 40,
   "id": "c271d00f",
   "metadata": {
    "lines_to_next_cell": 0
   },
   "outputs": [
    {
     "data": {
      "text/html": [
       "<table class=\"dataframe\">\n",
       "<caption>A data.frame: 6 × 4</caption>\n",
       "<thead>\n",
       "\t<tr><th></th><th scope=col>Angestelltenverhaeltnis</th><th scope=col>Angestelltenzahl_2020</th><th scope=col>Personalkategorie</th><th scope=col>Art_der_Anstellung</th></tr>\n",
       "\t<tr><th></th><th scope=col>&lt;chr&gt;</th><th scope=col>&lt;int&gt;</th><th scope=col>&lt;chr&gt;</th><th scope=col>&lt;chr&gt;</th></tr>\n",
       "</thead>\n",
       "<tbody>\n",
       "\t<tr><th scope=row>78</th><td>Insgesamt                                           </td><td>759065</td><td>Insgesamt                                       </td><td>Insgesamt     </td></tr>\n",
       "\t<tr><th scope=row>3</th><td>Wissenschaftliches und kuenstlerisches Personal     </td><td>414832</td><td>Wissenschaftliches und künstlerisches Personal  </td><td>Insgesamt     </td></tr>\n",
       "\t<tr><th scope=row>33</th><td>Verwaltungs-, technisches und sonstiges Personal    </td><td>344233</td><td>Verwaltungs-, technisches und sonstiges Personal</td><td>Insgesamt     </td></tr>\n",
       "\t<tr><th scope=row>36</th><td>  Hauptberufl. Verwaltungs-, techn. u.sonst.Personal</td><td>338666</td><td>Verwaltungs-, technisches und sonstiges Personal</td><td>Hauptberuflich</td></tr>\n",
       "\t<tr><th scope=row>6</th><td>  Hauptberufl. wissenschaftl. u. kuenstler. Personal</td><td>269275</td><td>Wissenschaftliches und künstlerisches Personal  </td><td>Hauptberuflich</td></tr>\n",
       "\t<tr><th scope=row>15</th><td>    Wissenschaftliche und kuenstlerische Mitarbeiter</td><td>205387</td><td>Wissenschaftliches und künstlerisches Personal  </td><td>Hauptberuflich</td></tr>\n",
       "</tbody>\n",
       "</table>\n"
      ],
      "text/latex": [
       "A data.frame: 6 × 4\n",
       "\\begin{tabular}{r|llll}\n",
       "  & Angestelltenverhaeltnis & Angestelltenzahl\\_2020 & Personalkategorie & Art\\_der\\_Anstellung\\\\\n",
       "  & <chr> & <int> & <chr> & <chr>\\\\\n",
       "\\hline\n",
       "\t78 & Insgesamt                                            & 759065 & Insgesamt                                        & Insgesamt     \\\\\n",
       "\t3 & Wissenschaftliches und kuenstlerisches Personal      & 414832 & Wissenschaftliches und künstlerisches Personal   & Insgesamt     \\\\\n",
       "\t33 & Verwaltungs-, technisches und sonstiges Personal     & 344233 & Verwaltungs-, technisches und sonstiges Personal & Insgesamt     \\\\\n",
       "\t36 &   Hauptberufl. Verwaltungs-, techn. u.sonst.Personal & 338666 & Verwaltungs-, technisches und sonstiges Personal & Hauptberuflich\\\\\n",
       "\t6 &   Hauptberufl. wissenschaftl. u. kuenstler. Personal & 269275 & Wissenschaftliches und künstlerisches Personal   & Hauptberuflich\\\\\n",
       "\t15 &     Wissenschaftliche und kuenstlerische Mitarbeiter & 205387 & Wissenschaftliches und künstlerisches Personal   & Hauptberuflich\\\\\n",
       "\\end{tabular}\n"
      ],
      "text/markdown": [
       "\n",
       "A data.frame: 6 × 4\n",
       "\n",
       "| <!--/--> | Angestelltenverhaeltnis &lt;chr&gt; | Angestelltenzahl_2020 &lt;int&gt; | Personalkategorie &lt;chr&gt; | Art_der_Anstellung &lt;chr&gt; |\n",
       "|---|---|---|---|---|\n",
       "| 78 | Insgesamt                                            | 759065 | Insgesamt                                        | Insgesamt      |\n",
       "| 3 | Wissenschaftliches und kuenstlerisches Personal      | 414832 | Wissenschaftliches und künstlerisches Personal   | Insgesamt      |\n",
       "| 33 | Verwaltungs-, technisches und sonstiges Personal     | 344233 | Verwaltungs-, technisches und sonstiges Personal | Insgesamt      |\n",
       "| 36 |   Hauptberufl. Verwaltungs-, techn. u.sonst.Personal | 338666 | Verwaltungs-, technisches und sonstiges Personal | Hauptberuflich |\n",
       "| 6 |   Hauptberufl. wissenschaftl. u. kuenstler. Personal | 269275 | Wissenschaftliches und künstlerisches Personal   | Hauptberuflich |\n",
       "| 15 |     Wissenschaftliche und kuenstlerische Mitarbeiter | 205387 | Wissenschaftliches und künstlerisches Personal   | Hauptberuflich |\n",
       "\n"
      ],
      "text/plain": [
       "   Angestelltenverhaeltnis                              Angestelltenzahl_2020\n",
       "78 Insgesamt                                            759065               \n",
       "3  Wissenschaftliches und kuenstlerisches Personal      414832               \n",
       "33 Verwaltungs-, technisches und sonstiges Personal     344233               \n",
       "36   Hauptberufl. Verwaltungs-, techn. u.sonst.Personal 338666               \n",
       "6    Hauptberufl. wissenschaftl. u. kuenstler. Personal 269275               \n",
       "15     Wissenschaftliche und kuenstlerische Mitarbeiter 205387               \n",
       "   Personalkategorie                                Art_der_Anstellung\n",
       "78 Insgesamt                                        Insgesamt         \n",
       "3  Wissenschaftliches und künstlerisches Personal   Insgesamt         \n",
       "33 Verwaltungs-, technisches und sonstiges Personal Insgesamt         \n",
       "36 Verwaltungs-, technisches und sonstiges Personal Hauptberuflich    \n",
       "6  Wissenschaftliches und künstlerisches Personal   Hauptberuflich    \n",
       "15 Wissenschaftliches und künstlerisches Personal   Hauptberuflich    "
      ]
     },
     "metadata": {},
     "output_type": "display_data"
    }
   ],
   "source": [
    "Tabelle_Insgesamt_Sortiert <- Tabelle_Insgesamt[order(Tabelle_Insgesamt$Angestelltenzahl_2020, decreasing = TRUE),]\n",
    "\n",
    "#Ergebnis ansehen\n",
    "head(Tabelle_Insgesamt_Sortiert)"
   ]
  },
  {
   "cell_type": "markdown",
   "id": "c846023d",
   "metadata": {},
   "source": [
    "\n"
   ]
  }
 ],
 "metadata": {
  "jupytext": {
   "cell_metadata_filter": "message,class.output,warning,language,tags,eval,-all",
   "main_language": "R",
   "notebook_metadata_filter": "-all"
  },
  "kernelspec": {
   "display_name": "R",
   "language": "R",
   "name": "ir"
  },
  "language_info": {
   "codemirror_mode": "r",
   "file_extension": ".r",
   "mimetype": "text/x-r-source",
   "name": "R",
   "pygments_lexer": "r",
   "version": "4.3.3"
  }
 },
 "nbformat": 4,
 "nbformat_minor": 5
}
