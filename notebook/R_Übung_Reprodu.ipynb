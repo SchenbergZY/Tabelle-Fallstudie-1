{
  "cells": [
    {
      "cell_type": "markdown",
      "source": [
        "# Übung: Reproduzierbarkeit Nationaler Bildungsbericht\n",
        "\n",
        "In dem vorangegangenen Kapitel wurden Sie  mit ersten Grundbausteinen im Arbeiten mit **R** vertraut gemacht.  Diese Fähigkeiten können Sie nutzen, um die *Reproduzierbarkeit* von Grafiken, Daten, etc. zu überprüfen.\n",
        "\n",
        "`````{admonition} Doch was genau ist eigentlich Reproduzierbarkeit?\n",
        ":class: tip\n",
        "Der Begriff Reproduzierbarkeit umschreibt in der Wissenschaft die Möglichkeit, durch Verwenden der gleichen Ausgangsdaten und Auswertungsmethoden auf die gleichen Ergebnisse zu produzieren {cite}`noauthor_reproducibility_2019`.\n",
        "`````"
      ],
      "metadata": {
        "id": "HTHTkLy2dYy5"
      },
      "id": "HTHTkLy2dYy5"
    },
    {
      "cell_type": "markdown",
      "source": [
        "## Fallbeispiel: Bildungsbericht\n",
        "\n",
        "Im nationalen [Bildungsbericht 2022](https://www.bildungsbericht.de/de/bildungsberichte-seit-2006/bildungsbericht-2022)\n",
        "befindet sich auf der Seite 259 folgende Abbildung:\n",
        "\n",
        "![](_images/Abb_H1-3.png)  \n",
        "*Abbildung 8: Abb.H1-3 aus dem Nationalen Bildungsbericht*\n",
        "\n",
        "Wenn Sie nun das Kreisdiagramm für *\"Hochschulen insgesamt\"* und *\"Personen\"* auf Reproduzierbarkeit überprüfen möchten, benötigen Sie hierfür die Daten aus der Primärquelle. Hierzu müssen Sie nun selbst recherchieren und versuchen, die Ausgangsdaten zu finden.\n",
        "\n",
        "```{admonition} Achtung!\n",
        "Der Bildungsbericht verweist auf einzelne Excel-Dateien als Datenbasis (Hier: \"Tab. H1-9web\"), welche gleichzeitig mit dem Bildungsbericht veröffenlticht werden. Eine gute wissenschaftliche Praxis verlangt jedoch, dass Sie die jeweilige Primärquelle verwenden und nicht die verlinkten Sekundärquellen."
      ],
      "metadata": {
        "id": "4sQJQrASe1HV"
      },
      "id": "4sQJQrASe1HV"
    },
    {
      "cell_type": "markdown",
      "source": [
        "### Primärquelle finden\n",
        "\n",
        "Unter der Grafik sind als Quelle unter anderem die \"Statistische[n] Ämter des Bundes und der Länder\" angegeben. Nun können Sie nachschauen, ob Sie auf der [Website des Statistischen Bundesamtes](https://www-genesis.destatis.de/genesis/online) (auch DESTATIS genannt) die Datenbasis zu dem vorliegendem Kreisdiagramm finden können.\n",
        "\n",
        "**Übung:**\\\n",
        "Finden Sie die Datengrundlage für das obere linke Kreisdiagramm (Personen, Hochschulen insgesamt) auf der Website des des Statistischen Bundesamtes.\n",
        "\n",
        "*Gefunden?*\n",
        "<details>\n",
        "<summary>Ja</summary>\n",
        "<br>\n",
        "Bravo, gut gemacht!\n",
        "Downloaden Sie nun die Daten für das Jahr 2020 als CSV-Datei ab, da sich das Kreisdiagramm nur auf dieses Jahr bezieht.\n",
        "</details>\n",
        "\n",
        "\n",
        "\n",
        "<details>\n",
        "<summary>Nein</summary>\n",
        "<br>\n",
        "Halb so schlimm, die Daten sind auch etwas versteckt. Klicken Sie in folgender Reihenfolge auf besagte Kacheln:\n",
        "\n",
        "1. \"2 Bildung, Sozialleistungen, Gesundheit, Recht\"\n",
        "\n",
        "2. \"21 Bildung und Kultur, Forschung und Entwicklung\"\n",
        "\n",
        "3. \"21341 Statistik des Hochschulpersonals\"\n",
        "\n",
        "4. \"21341-0001\tPersonal an Hochschulen: Deutschland, Jahre, Personalgruppen nach Beschäftigungsverhältnis, Geschlecht\"\n",
        "\n",
        "Hier können Sie nun das Jahr 2020 auswählen, auf dass das Kreisdiagramm verweist und die Daten als CSV-Datei downloaden.\n",
        "</details>\n",
        "\n",
        "Öffnen Sie nun die Datei in einem Programm Ihrer Wahl (z.B. Excel).\n",
        "Wie Sie nun vermutlich selber erkannt haben, handelt es sich bei dieser Datei um die CSV-Ausgangsdatei aus vorangegangener Lerneinheit [Übung: Arbeiten mit CSV-Dateien in R](Übung_csv)."
      ],
      "metadata": {
        "id": "Vn10e3REfv_e"
      },
      "id": "Vn10e3REfv_e"
    },
    {
      "cell_type": "markdown",
      "source": [
        "### Nachbauen des Kreisdiagramms in R\n",
        "Das nachfolgende Skript knüpft an die vorangegangene Übung an. Es wird vorausgesetzt das die Daten entsprechend des Skriptes angepasst wurden.\n",
        "Ihre Tabellendaten sollten wie folgt aussehen:\n"
      ],
      "metadata": {
        "id": "MrcaX4HNfyaS"
      },
      "id": "MrcaX4HNfyaS"
    },
    {
      "cell_type": "code",
      "source": [
        "head(Tabellendaten)"
      ],
      "metadata": {
        "id": "DJ5jxkZUek34"
      },
      "id": "DJ5jxkZUek34",
      "execution_count": null,
      "outputs": []
    },
    {
      "cell_type": "markdown",
      "source": [
        "Falls Sie die R-Session neu beginnen, sollten Sie wieder für diese Übung das `tidyverse`-Package laden."
      ],
      "metadata": {
        "id": "k6Qywn6mhmNv"
      },
      "id": "k6Qywn6mhmNv"
    },
    {
      "cell_type": "code",
      "source": [
        "library(tidyverse)"
      ],
      "metadata": {
        "colab": {
          "base_uri": "https://localhost:8080/"
        },
        "id": "DNo527F5gBtV",
        "outputId": "3e1e4fb7-35b6-43ae-faa7-8bf97abb8c87"
      },
      "id": "DNo527F5gBtV",
      "execution_count": 3,
      "outputs": [
        {
          "output_type": "stream",
          "name": "stderr",
          "text": [
            "── \u001b[1mAttaching core tidyverse packages\u001b[22m ──────────────────────── tidyverse 2.0.0 ──\n",
            "\u001b[32m✔\u001b[39m \u001b[34mdplyr    \u001b[39m 1.1.4     \u001b[32m✔\u001b[39m \u001b[34mreadr    \u001b[39m 2.1.5\n",
            "\u001b[32m✔\u001b[39m \u001b[34mforcats  \u001b[39m 1.0.0     \u001b[32m✔\u001b[39m \u001b[34mstringr  \u001b[39m 1.5.1\n",
            "\u001b[32m✔\u001b[39m \u001b[34mggplot2  \u001b[39m 3.5.1     \u001b[32m✔\u001b[39m \u001b[34mtibble   \u001b[39m 3.2.1\n",
            "\u001b[32m✔\u001b[39m \u001b[34mlubridate\u001b[39m 1.9.3     \u001b[32m✔\u001b[39m \u001b[34mtidyr    \u001b[39m 1.3.1\n",
            "\u001b[32m✔\u001b[39m \u001b[34mpurrr    \u001b[39m 1.0.2     \n",
            "── \u001b[1mConflicts\u001b[22m ────────────────────────────────────────── tidyverse_conflicts() ──\n",
            "\u001b[31m✖\u001b[39m \u001b[34mdplyr\u001b[39m::\u001b[32mfilter()\u001b[39m masks \u001b[34mstats\u001b[39m::filter()\n",
            "\u001b[31m✖\u001b[39m \u001b[34mdplyr\u001b[39m::\u001b[32mlag()\u001b[39m    masks \u001b[34mstats\u001b[39m::lag()\n",
            "\u001b[36mℹ\u001b[39m Use the conflicted package (\u001b[3m\u001b[34m<http://conflicted.r-lib.org/>\u001b[39m\u001b[23m) to force all conflicts to become errors\n"
          ]
        }
      ]
    },
    {
      "cell_type": "code",
      "source": [],
      "metadata": {
        "id": "cCplGKPQhqmj"
      },
      "id": "cCplGKPQhqmj",
      "execution_count": null,
      "outputs": []
    }
  ],
  "metadata": {
    "jupytext": {
      "cell_metadata_filter": "message,class.output,warning,language,tags,eval,-all",
      "main_language": "R",
      "notebook_metadata_filter": "-all"
    },
    "kernelspec": {
      "display_name": "R",
      "name": "ir"
    },
    "language_info": {
      "codemirror_mode": "r",
      "file_extension": ".r",
      "mimetype": "text/x-r-source",
      "name": "R",
      "pygments_lexer": "r",
      "version": "4.3.3"
    },
    "colab": {
      "provenance": []
    }
  },
  "nbformat": 4,
  "nbformat_minor": 5
}